{
 "cells": [
  {
   "cell_type": "code",
   "execution_count": null,
   "source": [
    "using Plots"
   ],
   "outputs": [],
   "metadata": {}
  },
  {
   "cell_type": "markdown",
   "source": [
    "Transverse electromagnetic waves\n",
    "\n",
    "Considering a monochromatic plane wave of optical frequency f (light of vacuum wavelength λ has a frequency of f = c/λ where c is the speed of light), let us take the direction of propagation as the z axis. Being a transverse wave the E and H fields must then contain components only in the x and y directions whereas Ez = Hz = 0. Using complex (or phasor) notation, the instantaneous physical electric and magnetic fields are given by the real parts of the complex quantities occurring in the following equations. As a function of time t and spatial position z (since for a plane wave in the +z direction the fields have no dependence on x or y) these complex fields can be written as:\n",
    "\n",
    "\n",
    "$$ {\\vec {E}}(z,t)={\\begin{bmatrix}e_{x}\\\\e_{y}\\\\0\\end{bmatrix}}\\;e^{i2\\pi \\left({\\frac {z}{\\lambda }}-{\\frac {t}{T}}\\right)}={\\begin{bmatrix}e_{x}\\\\e_{y}\\\\0\\end{bmatrix}}\\;e^{i(kz-\\omega t)}\n",
    "$$ \n",
    "and\n",
    "\n",
    "$$ {\\vec {H}}(z,t)={\\begin{bmatrix}h_{x}\\\\h_{y}\\\\0\\end{bmatrix}}\\;e^{i2\\pi \\left({\\frac {z}{\\lambda }}-{\\frac {t}{T}}\\right)}={\\begin{bmatrix}h_{x}\\\\h_{y}\\\\0\\end{bmatrix}}\\;e^{i(kz-\\omega t)}\n",
    "$$ \n",
    "\n",
    "where λ = λ0/n is the wavelength in the medium (whose refractive index is n) and T = 1/f is the period of the wave. Here ex, ey, hx, and hy are complex numbers. In the second more compact form, as these equations are customarily expressed, these factors are described using the wavenumber $ k=2\\pi n/\\lambda _{0} $ and angular frequency (or \"radian frequency\") \n",
    "$ \\omega =2\\pi f $. In a more general formulation with propagation not restricted to the +z direction, then the spatial dependence kz is replaced by $ {\\vec {k}}\\cdot {\\vec {r}} $ where $ {\\vec {k}} $ is called the wave vector, the magnitude of which is the wavenumber.\n",
    "\n"
   ],
   "metadata": {}
  },
  {
   "cell_type": "markdown",
   "source": [
    "Jones vector\tEdit\n",
    "Main article: Jones vector\n",
    "Full information on a completely polarized state is also provided by the amplitude and phase of oscillations in two components of the electric field vector in the plane of polarization. This representation was used above to show how different states of polarization are possible. The amplitude and phase information can be conveniently represented as a two-dimensional complex vector (the Jones vector):\n",
    "\n",
    "$$ \\mathbf {e} ={\\begin{bmatrix}a_{1}e^{i\\theta _{1}}\\\\a_{2}e^{i\\theta _{2}}\\end{bmatrix}}.$$\n",
    "\n",
    "\n",
    "The Jones vector describes the polarization of light in free space or another homogeneous isotropic non-attenuating medium, where the light can be properly described as transverse waves. Suppose that a monochromatic plane wave of light is travelling in the positive z-direction, with angular frequency ω and wave vector k = (0,0,k), where the wavenumber k = ω/c. Then the electric and magnetic fields E and H are orthogonal to k at each point; they both lie in the plane \"transverse\" to the direction of motion. Furthermore, H is determined from E by 90-degree rotation and a fixed multiplier depending on the wave impedance of the medium. So the polarization of the light can be determined by studying E. The complex amplitude of E is written\n",
    "\n",
    "$$\n",
    "    \\begin{pmatrix} \n",
    "        E_{x}(t ) \\\\\n",
    "        E_{y}(t) \\\\\n",
    "        0\n",
    "    \\end{pmatrix} = \n",
    "    \\begin{pmatrix} \n",
    "        E_{0x}e^{i(kz-\\omega t+\\phi _{x})} \\\\\n",
    "        E_{0y}e^{i(kz-\\omega t+\\phi _{y})} \\\\\n",
    "        0\n",
    "    \\end{pmatrix} = \n",
    "    \\begin{pmatrix}\n",
    "        E_{0x}e^{i\\phi _{x}} \\\\\n",
    "        E_{0y}e^{i\\phi _{y}} \\\\\n",
    "        0\n",
    "    \\end{pmatrix} e^{i(kz-\\omega t)}.\n",
    "$$\n",
    "\n",
    "Note that the physical E field is the real part of this vector; the complex multiplier serves up the phase information. Here $i$ is the imaginary unit with $i^{2}=-1$.\n",
    "\n",
    "The Jones vector is\n",
    "\n",
    "$$\n",
    "\\begin{pmatrix}\n",
    "    E_{0x}e^{i\\phi _{x}} \\\\\n",
    "    E_{0y}e^{i\\phi _{y}}\n",
    "\\end{pmatrix}.\n",
    "$$\n",
    "Thus, the Jones vector represents the amplitude and phase of the electric field in the x and y directions.\n"
   ],
   "metadata": {}
  },
  {
   "cell_type": "code",
   "execution_count": null,
   "source": [
    "# \n",
    "# function Ei = E_inc(E0,kvec,r)\n",
    "#     [N, cols] = size(r);\n",
    "#     D = ones(N,1);\n",
    "#     kr = dot([kvec(1)*D kvec(2)*D kvec(3)*D],r,2); expikr = exp(i*kr);\n",
    "#     E1 = [E0(1)*expikr E0(2)*expikr E0(3)*expikr]; Ei = col3to1(E1);\n",
    "# end\n",
    "\n",
    "\n",
    "function Ei = E_inc(E0, k, r)\n",
    "    [N, cols] = size(r);\n",
    "    D = ones(N,1);\n",
    "    kr = dot([kvec(1)*D kvec(2)*D kvec(3)*D],r,2); \n",
    "    expikr = exp(i*kr);\n",
    "    E1 = [E0(1)*expikr E0(2)*expikr E0(3)*expikr]; \n",
    "end"
   ],
   "outputs": [],
   "metadata": {}
  },
  {
   "cell_type": "code",
   "execution_count": null,
   "source": [
    "using LazyGrids"
   ],
   "outputs": [],
   "metadata": {}
  },
  {
   "cell_type": "code",
   "execution_count": null,
   "source": [
    "struct PlaneWave\n",
    "    E₀\n",
    "    k\n",
    "    e\n",
    "end\n",
    "\n",
    "field(p::PlaneWave, r, t) = 1\n"
   ],
   "outputs": [],
   "metadata": {}
  },
  {
   "cell_type": "code",
   "execution_count": null,
   "source": [
    "xr, yr, zr = 0:.1:10, 0:.1:10, 0:.1:10\n",
    "xl, yl ,zl = ndgrid(xr, yr, zr)"
   ],
   "outputs": [],
   "metadata": {}
  },
  {
   "cell_type": "code",
   "execution_count": null,
   "source": [
    "typeof(xl)"
   ],
   "outputs": [],
   "metadata": {}
  },
  {
   "cell_type": "code",
   "execution_count": 51,
   "source": [
    "using StaticArrays: SVector\n",
    "\n",
    "abstract type AbstractGrid{Dim, T} end\n",
    "\n",
    "# More abstract represantion\n",
    "struct CartesianGrid{Dim, T} <: AbstractGrid{Dim,T}\n",
    "    origin::SVector{Dim,T}\n",
    "    spacing::SVector{Dim,T}\n",
    "    dims::Dims{Dim}\n",
    "  \n",
    "    function CartesianGrid{Dim,T}(dims, origin, spacing) where {Dim,T}\n",
    "      @assert all(dims .> 0) \"dimensions must be positive\"\n",
    "      @assert all(spacing .> 0) \"spacing must be positive\"\n",
    "      new(dims, origin, spacing)\n",
    "    end\n",
    "end\n",
    "\n",
    "# # Even more abstract\n",
    "# struct LinRange{T,L<:Integer} <: AbstractRange{T}\n",
    "#     start::T\n",
    "#     stop::T\n",
    "#     len::L\n",
    "# end\n",
    "\n"
   ],
   "outputs": [
    {
     "output_type": "error",
     "ename": "ErrorException",
     "evalue": "cannot assign a value to variable Meshes.CartesianGrid from module Main",
     "traceback": [
      "\n",
      "Stacktrace:\n",
      "  [1] top-level scope\n",
      "    @ ~/Work/DDA.jl/examples/electric_field.ipynb:6\n",
      "  [2] eval\n",
      "    @ ./boot.jl:360 [inlined]\n",
      "  [3] include_string(mapexpr::typeof(REPL.softscope), mod::Module, code::String, filename::String)\n",
      "    @ Base ./loading.jl:1116\n",
      "  [4] #invokelatest#2\n",
      "    @ ./essentials.jl:708 [inlined]\n",
      "  [5] invokelatest\n",
      "    @ ./essentials.jl:706 [inlined]\n",
      "  [6] (::VSCodeServer.var\"#98#99\"{VSCodeServer.NotebookRunCellArguments, String})()\n",
      "    @ VSCodeServer ~/.vscode/extensions/julialang.language-julia-1.4.0/scripts/packages/VSCodeServer/src/serve_notebook.jl:18\n",
      "  [7] withpath(f::VSCodeServer.var\"#98#99\"{VSCodeServer.NotebookRunCellArguments, String}, path::String)\n",
      "    @ VSCodeServer ~/.vscode/extensions/julialang.language-julia-1.4.0/scripts/packages/VSCodeServer/src/repl.jl:185\n",
      "  [8] notebook_runcell_request(conn::VSCodeServer.JSONRPC.JSONRPCEndpoint{Base.PipeEndpoint, Base.PipeEndpoint}, params::VSCodeServer.NotebookRunCellArguments)\n",
      "    @ VSCodeServer ~/.vscode/extensions/julialang.language-julia-1.4.0/scripts/packages/VSCodeServer/src/serve_notebook.jl:14\n",
      "  [9] dispatch_msg(x::VSCodeServer.JSONRPC.JSONRPCEndpoint{Base.PipeEndpoint, Base.PipeEndpoint}, dispatcher::VSCodeServer.JSONRPC.MsgDispatcher, msg::Dict{String, Any})\n",
      "    @ VSCodeServer.JSONRPC ~/.vscode/extensions/julialang.language-julia-1.4.0/scripts/packages/JSONRPC/src/typed.jl:67\n",
      " [10] serve_notebook(pipename::String; crashreporting_pipename::String)\n",
      "    @ VSCodeServer ~/.vscode/extensions/julialang.language-julia-1.4.0/scripts/packages/VSCodeServer/src/serve_notebook.jl:94\n",
      " [11] top-level scope\n",
      "    @ ~/.vscode/extensions/julialang.language-julia-1.4.0/scripts/notebook/notebook.jl:10\n",
      " [12] include(mod::Module, _path::String)\n",
      "    @ Base ./Base.jl:386\n",
      " [13] exec_options(opts::Base.JLOptions)\n",
      "    @ Base ./client.jl:285\n",
      " [14] _start()\n",
      "    @ Base ./client.jl:485"
     ]
    }
   ],
   "metadata": {}
  },
  {
   "cell_type": "code",
   "execution_count": null,
   "source": [],
   "outputs": [],
   "metadata": {}
  },
  {
   "cell_type": "code",
   "execution_count": null,
   "source": [],
   "outputs": [],
   "metadata": {}
  },
  {
   "cell_type": "code",
   "execution_count": null,
   "source": [
    "A = fill(1, (5,6,7));\n",
    "axes(A)"
   ],
   "outputs": [],
   "metadata": {}
  },
  {
   "cell_type": "code",
   "execution_count": null,
   "source": [
    "using Meshes\n",
    "\n",
    "g = CartesianGrid(10,2,3)\n",
    "axes(g)"
   ],
   "outputs": [],
   "metadata": {}
  },
  {
   "cell_type": "code",
   "execution_count": null,
   "source": [
    "\n",
    "\n",
    "axes(xl)"
   ],
   "outputs": [],
   "metadata": {}
  },
  {
   "cell_type": "code",
   "execution_count": null,
   "source": [
    "first(g)"
   ],
   "outputs": [],
   "metadata": {}
  },
  {
   "cell_type": "code",
   "execution_count": null,
   "source": [],
   "outputs": [],
   "metadata": {}
  }
 ],
 "metadata": {
  "orig_nbformat": 4,
  "language_info": {
   "name": "python",
   "version": "3.9.6"
  },
  "kernelspec": {
   "name": "python3",
   "display_name": "Python 3.9.6 64-bit"
  },
  "interpreter": {
   "hash": "aee8b7b246df8f9039afb4144a1f6fd8d2ca17a180786b69acc140d282b71a49"
  }
 },
 "nbformat": 4,
 "nbformat_minor": 2
}