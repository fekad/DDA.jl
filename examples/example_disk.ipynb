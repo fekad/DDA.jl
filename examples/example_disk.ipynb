{
 "cells": [
  {
   "cell_type": "code",
   "execution_count": 1,
   "metadata": {},
   "outputs": [],
   "source": [
    "using PlotlyJS\n",
    "using Images\n",
    "# using Revise\n",
    "using DDA"
   ]
  },
  {
   "cell_type": "code",
   "execution_count": 2,
   "metadata": {},
   "outputs": [],
   "source": [
    "using StaticArrays\n",
    "using GeometryBasics"
   ]
  },
  {
   "cell_type": "code",
   "execution_count": 3,
   "metadata": {},
   "outputs": [],
   "source": []
  },
  {
   "cell_type": "code",
   "execution_count": 4,
   "metadata": {},
   "outputs": [],
   "source": [
    "# target: Au disk\n",
    "# grid spacing: d = 0.2 nm\n",
    "# d = 10 nm\n",
    "# # of dipoles along the diameter: 50\n",
    "# gap between two disks: d = (1) 0.2 nm, (2) 0.4 nm, (5) 1 nm,  (100) 20 nm\n",
    "\n",
    "# # of dipoles: ??\n",
    "# >> peak resonance at ??? n\n",
    "\n",
    "# steps:\n",
    "# 1. create the coordinates of the dipoles,\n",
    "# 2. assign the polarizability αj to each dipole,\n",
    "# 3. calculated the incident field E_inc, at each dipole,\n",
    "# 4. assemble the interaction matrix A and\n",
    "# 5. solve for P in the system of linear equations"
   ]
  },
  {
   "cell_type": "code",
   "execution_count": 5,
   "metadata": {},
   "outputs": [],
   "source": [
    "# Future:\n",
    "# - calculate the E field on an extended grid (which contains empty space)\n",
    "#   - extending the ogidinal grid where we already have the polarisation values on the dipoles\n",
    "#   - redo FFT convolutioon to calcluster the field in an efficient way"
   ]
  },
  {
   "cell_type": "code",
   "execution_count": 6,
   "metadata": {},
   "outputs": [
    {
     "data": {
      "text/plain": [
       "105×50×5 CartesianGrid{Float64,3}\n",
       "  minimum: [-10.4, -4.9, -0.4]\n",
       "  maximum: [10.4, 4.9, 0.4]\n",
       "  spacing: [0.2, 0.2, 0.2]"
      ]
     },
     "metadata": {},
     "output_type": "display_data"
    }
   ],
   "source": [
    "\n",
    "# 1. Define a grid\n",
    "# disk_r = 5. # nm\n",
    "disk_d = 10. # nm\n",
    "disk_h = 1. # nm\n",
    "disk_gap = 1. # nm\n",
    "# gap: d = (1) 0.2 nm, (2) 0.4 nm, (5) 1 nm,  (100) 20 nm\n",
    "\n",
    "spacing = .2\n",
    "\n",
    "Nx = round(Int, (2 * disk_d + disk_gap) / spacing)\n",
    "Ny = round(Int, disk_d / spacing)\n",
    "Nz = round(Int, disk_h / spacing) \n",
    "\n",
    "offset = [spacing / 2, spacing / 2, spacing / 2]\n",
    "origin = [-(2 * disk_d + disk_gap) / 2, -disk_d / 2 , -disk_h / 2] .+ offset\n",
    "\n",
    "grid = CartesianGrid(origin, [spacing, spacing, spacing], (Nx, Ny, Nz))\n",
    "grid\n"
   ]
  },
  {
   "cell_type": "code",
   "execution_count": null,
   "metadata": {},
   "outputs": [],
   "source": [
    "# 2. Define the target(s)\n",
    "origin = [(disk_d + disk_gap) / 2, 0, 0] \n",
    "\n",
    "d1 = DDA.Disk(-origin, disk_d / 2, disk_h)\n",
    "occ1 = DDA.discretize(grid, d1);\n"
   ]
  },
  {
   "cell_type": "code",
   "execution_count": null,
   "metadata": {},
   "outputs": [],
   "source": [
    "layout = Layout(yaxis=attr(scaleanchor=\"x\", scaleratio=1))\n",
    "plot(heatmap(z=occ1[:,:,1]' .* 1, colorscale = \"Viridis\"), layout)"
   ]
  },
  {
   "cell_type": "code",
   "execution_count": null,
   "metadata": {},
   "outputs": [],
   "source": [
    "d2 = DDA.Disk(origin, disk_d / 2, disk_h)\n",
    "occ2 = DDA.discretize(grid, d2);\n",
    "\n",
    "occ = occ1 .|| occ2\n",
    "\n",
    "layout = Layout(yaxis=attr(scaleanchor=\"x\", scaleratio=1))\n",
    "plot(heatmap(z=occ[:,:,1]' .* 1, colorscale = \"Viridis\"), layout)"
   ]
  },
  {
   "cell_type": "code",
   "execution_count": null,
   "metadata": {},
   "outputs": [],
   "source": [
    "d1 = DDA.Disk(-origin, disk_d / 2, disk_h)\n",
    "d2 = DDA.Disk(origin, disk_d / 2, disk_h)\n",
    "s = DDA.Composite([d1, d2])\n",
    "\n",
    "occ = DDA.discretize(grid, s) \n",
    "\n",
    "layout = Layout(yaxis=attr(scaleanchor=\"x\", scaleratio=1))\n",
    "plot(heatmap(z=occ[:,:,1]' .* 1, colorscale = \"Viridis\"), layout)"
   ]
  },
  {
   "cell_type": "code",
   "execution_count": null,
   "metadata": {},
   "outputs": [],
   "source": []
  },
  {
   "cell_type": "code",
   "execution_count": null,
   "metadata": {},
   "outputs": [],
   "source": [
    "\n",
    "# 1. Define a grid\n",
    "# disk_r = 5. # nm\n",
    "disk_d = 10. # nm\n",
    "disk_h = 1. # nm\n",
    "disk_gap = 4/3 # nm\n",
    "\n",
    "spacing = 1/3\n",
    "\n",
    "Nx = round(Int, (2 * disk_d + disk_gap) / spacing)\n",
    "Ny = round(Int, disk_d / spacing)\n",
    "Nz = round(Int, disk_h / spacing) \n",
    "\n",
    "offset = [spacing / 2, spacing / 2, spacing / 2]\n",
    "origin = [-(2 * disk_d + disk_gap) / 2, -disk_d / 2 , -disk_h / 2] .+ offset\n",
    "\n",
    "grid = CartesianGrid(origin, [spacing, spacing, spacing], (Nx, Ny, Nz))\n",
    "grid\n"
   ]
  },
  {
   "cell_type": "code",
   "execution_count": null,
   "metadata": {},
   "outputs": [],
   "source": [
    "# 2. Define the target(s)\n",
    "origin = [(disk_d + disk_gap) / 2, 0, 0] \n",
    "radius = disk_d / 2\n",
    "\n",
    "d1 = DDA.Disk(-origin, disk_d / 2, disk_h)\n",
    "occ1 = DDA.discretize(grid, d1);\n",
    "\n",
    "d2 = DDA.Disk(origin, disk_d / 2, disk_h)\n",
    "occ2 = DDA.discretize(grid, d2);\n",
    "\n",
    "occ = occ1 .|| occ2\n",
    "\n",
    "layout = Layout(yaxis=attr(scaleanchor=\"x\", scaleratio=1))\n",
    "plot(heatmap(z=occ[:,:,1]' .* 1, colorscale = \"Viridis\", xgap=3, ygap=3), layout)"
   ]
  },
  {
   "cell_type": "code",
   "execution_count": null,
   "metadata": {},
   "outputs": [],
   "source": []
  },
  {
   "cell_type": "code",
   "execution_count": null,
   "metadata": {},
   "outputs": [],
   "source": [
    "coords = grid[occ]\n",
    "layout = Layout(scene=attr(aspectmode=:data, camera_projection_type=:orthographic))\n",
    "\n",
    "\n",
    "trace = scatter3d(x=[p[1] for p in coords], y=[p[2] for p in coords], z=[p[3] for p in coords], marker=attr(color=1:length(coords)), mode=\"markers\")\n",
    "plot(trace, layout)"
   ]
  },
  {
   "cell_type": "code",
   "execution_count": null,
   "metadata": {},
   "outputs": [],
   "source": [
    "ε = 1.33 + 0.1im\n",
    "model = DDA.LDRModel(ε)\n",
    "scatterer = DDA.Scatterer(s, model)\n",
    "\n",
    "# s1 = DDA.Scatterer(d1, model1)\n",
    "# s2 = DDA.Scatterer(d2, model2)\n",
    "# s = DDA.Composite([s1, s2])"
   ]
  },
  {
   "cell_type": "code",
   "execution_count": null,
   "metadata": {},
   "outputs": [],
   "source": [
    "using StaticArrays"
   ]
  },
  {
   "cell_type": "code",
   "execution_count": null,
   "metadata": {},
   "outputs": [],
   "source": [
    "SVector{3, Float64} <: StaticVector{3, Float64}"
   ]
  },
  {
   "cell_type": "code",
   "execution_count": null,
   "metadata": {},
   "outputs": [],
   "source": [
    "StaticVector{3, Float64}"
   ]
  },
  {
   "cell_type": "code",
   "execution_count": null,
   "metadata": {},
   "outputs": [],
   "source": [
    "Point3{Float64} <: SVector{3, Float64}"
   ]
  },
  {
   "cell_type": "code",
   "execution_count": null,
   "metadata": {},
   "outputs": [],
   "source": [
    "typeof(grid[1])"
   ]
  },
  {
   "cell_type": "code",
   "execution_count": null,
   "metadata": {},
   "outputs": [],
   "source": [
    "supertype(supertype(Point3{Float64} ))"
   ]
  },
  {
   "cell_type": "code",
   "execution_count": null,
   "metadata": {},
   "outputs": [],
   "source": [
    "field(f::PlaneWave, r) = f.E₀ * exp(im * dot(f.kvec, r))\n"
   ]
  },
  {
   "cell_type": "code",
   "execution_count": null,
   "metadata": {},
   "outputs": [],
   "source": [
    "# 4. Define incindent field\n",
    "k = 2π      # wavenumber\n",
    "e = [1, 0]  # Jones polarisation vector\n",
    "θ, ϕ = 0., 0. # rotation angles [rad]\n",
    "\n",
    "E_inc = DDA.PlaneWave(k, e, θ, ϕ)\n",
    "E = DDA.field(E_inc, grid[occ])"
   ]
  },
  {
   "cell_type": "code",
   "execution_count": null,
   "metadata": {},
   "outputs": [],
   "source": [
    "# incident field\n",
    "E0 = 1\n",
    "k = [0, 0, 1]\n",
    "e = [1, 0, 0]\n",
    "E_inc = E_inc()\n",
    "\n",
    "\n",
    "# grid and target\n",
    "r = 22\n",
    "d = 2*r/30\n",
    "\n",
    "s = Sphere(r, [0,0,0])\n",
    "g = CubicGrid(-r:d:r,-r:d:r,-r:d:r)\n",
    "\n",
    "# get_dipoles\n",
    "# dipoles = get_dipoles(g, s)\n",
    "dipoles = positions(g, s)\n",
    "\n",
    "# material model\n",
    "\n",
    "# solve\n",
    "lambda = 550.\n",
    "# lambda = 400:10:600\n",
    "solve(dipoles, E_inc)\n",
    "\n",
    "??material"
   ]
  }
 ],
 "metadata": {
  "kernelspec": {
   "display_name": "Julia 1.7.1",
   "language": "julia",
   "name": "julia-1.7"
  },
  "language_info": {
   "file_extension": ".jl",
   "mimetype": "application/julia",
   "name": "julia",
   "version": "1.7.1"
  },
  "orig_nbformat": 4
 },
 "nbformat": 4,
 "nbformat_minor": 2
}
