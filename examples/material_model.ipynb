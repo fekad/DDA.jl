{
    "cells": [
        {
            "cell_type": "markdown",
            "metadata": {},
            "source": [
                "# Material models\n",
                "[source](http://www.fdtdxx.com/features/material-models)\n",
                "[article](https://www.researchgate.net/publication/249651487_Free-Space_Transmission_Method_for_the_Characterization_of_Dielectric_and_Magnetic_Materials_at_Microwave_Frequencies)"
            ]
        },
        {
            "cell_type": "code",
            "execution_count": null,
            "metadata": {},
            "outputs": [],
            "source": [
                "using DDA, Plots\n",
                "gr();"
            ]
        },
        {
            "cell_type": "markdown",
            "metadata": {},
            "source": [
                "## Dispersive Materials\n",
                "\n",
                "Dispersive (frequency-dependent) materials can correctly describe the physics behind the optical responses. \n",
                "\n",
                "- Dielectric constant of free electron gas: \n",
                "  $$\\varepsilon (\\omega) = 1 - \\frac{\\omega_p^2}{\\omega^2}$$\n",
                "  \n",
                "- Drude model: describes intraband electron motion.\n",
                "  $$\\varepsilon (\\omega) = 1 - \\frac{\\omega_p^2}{\\omega^2 + j \\omega \\gamma}$$\n",
                "\n",
                "- Lorentz oscillator model: describes interband electron transitions.\n",
                "  $$\\varepsilon (\\omega) = 1 + \\frac{\\Delta\\varepsilon_p \\omega_p^2}{\\omega_p^2 - \\omega(\\omega + j 2\\delta)}$$\n",
                "\n",
                "- Debye model: describes the relaxation of atomic vibrations.\n",
                "  $$\\varepsilon (\\omega) = \\varepsilon_\\infty  + \\frac{\\Delta\\varepsilon}{1 + j \\omega \\tau}$$\n",
                "  where \n",
                "  - $\\Delta\\varepsilon =  \\varepsilon_\\infty - \\varepsilon_s$\n",
                "  - $\\tau = \\frac{1}{\\omega_r}$\n",
                "  - $\\varepsilon_s$ is a static dielectric permittivity,\n",
                "  - $\\varepsilon_\\infty$ is permittivity at infinite frequency (optical permittivity), \n",
                "  - $\\omega_r$ is relaxation frequency.\n",
                "\n",
                "- Cole–Cole model \n",
                "  $$\\varepsilon (\\omega) = \\varepsilon_\\infty  + \\frac{\\Delta\\varepsilon}{1 + j (\\omega \\tau)^{(1-\\alpha)}} $$\n",
                "\n",
                "- Cole-Davidson\n",
                "  $$\\varepsilon (\\omega) = \\varepsilon_\\infty  + \\frac{\\Delta\\varepsilon}{(1 + j \\omega \\tau)^\\beta} $$\n",
                "  \n",
                "- Havriliak-Negami\n",
                "  $$\\varepsilon (\\omega) = \\varepsilon_\\infty  + \\frac{\\Delta\\varepsilon}{(1 + j (\\omega \\tau)^{(1-\\alpha)})^\\beta} $$\n",
                "\n",
                "The terms $\\alpha$ and $\\beta$ are empirical parameters and their values are between $0$ and $1$. \n",
                "- $\\alpha$ is a damping factor (broaden the dispersion) and describes the degree of flatness of the relaxation region. \n",
                "- $\\beta$ is an asymmetric factor and describes relaxation properties asymmetric around relaxation frequency"
            ]
        },
        {
            "cell_type": "markdown",
            "metadata": {},
            "source": [
                "$$ \\varepsilon(\\omega) = 1 - \\frac{\\omega_p^2}{\\omega^2 + j \\omega \\gamma} =  1 - \\frac{\\omega_p^2}{\\omega^2 + j \\omega \\gamma} +  1 - \\frac{\\omega_p^2}{\\omega^2 + j \\omega \\gamma}  $$"
            ]
        },
        {
            "cell_type": "markdown",
            "metadata": {},
            "source": [
                "## Arbitrarily-accurate Models\n",
                "\n",
                "The arbitrarily-accurate (albeit, perhaps unphysical) fits to experimental optical data can be obtained.\n",
                "\n",
                "- multi-pole Debye model with static conductivity\n",
                "  $$\\varepsilon (\\omega) = \\varepsilon_\\infty  + \\sum \\limits_i^N \\frac{\\Delta\\varepsilon_i}{1 + j \\omega \\tau_i} + \\frac{\\sigma_s}{j \\omega \\varepsilon_0}$$\n",
                "  where\n",
                "  - $\\sigma_s$ the static conductivity\n",
                "  - $\\Delta\\varepsilon_i$ is the change in permittivity due to the ith dispersion\n",
                "- Drude model in combination with multiple Lorentz oscillator poles\n",
                "  $$\\varepsilon (\\omega) = \\varepsilon_\\infty  + \\sum \\limits_N \\frac{\\Delta\\varepsilon_p \\omega_p^2}{\\omega_p^2 - \\omega(\\omega + j 2\\delta)}$$\n",
                "- Interpolated tabulated data\n"
            ]
        },
        {
            "cell_type": "markdown",
            "metadata": {},
            "source": [
                "## Nonlocal Materials\n",
                "\n",
                "Spatially-nonlocal effects arise when electrons are confined to small regions of space. Examples include junctions between structures, the areas around the edges of small structures, etc. These can significantly modify the electromagnetic fields, relative to classical (local) effects.\n"
            ]
        },
        {
            "cell_type": "code",
            "execution_count": null,
            "metadata": {},
            "outputs": [],
            "source": [
                "# Permittivity\n",
                "# Electric susceptibility\n",
                "# import Base: size, length\n",
                "\n",
                "abstract type AbstractPermittivity end\n",
                "abstract type DielectricMaterials <: AbstractPermittivity end\n",
                "abstract type DispersiveMaterials <: AbstractPermittivity end\n",
                "abstract type Tabulated <: AbstractPermittivity end\n",
                "\n",
                "\n",
                "Broadcast.broadcastable(m::AbstractPermittivity) = Ref(m)\n",
                "# https://github.com/JuliaLang/julia/pull/35591#issuecomment-619272218\n",
                "\n",
                "const esp_0 = 1.\n"
            ]
        },
        {
            "cell_type": "markdown",
            "metadata": {},
            "source": [
                "## Dielectric (Conductor) Materials\n",
                "\n",
                "- dielectric constant:\n",
                "  $$\\varepsilon (\\omega) = \\varepsilon$$"
            ]
        },
        {
            "cell_type": "code",
            "execution_count": null,
            "metadata": {},
            "outputs": [],
            "source": [
                "# # complex (real or complex)\n",
                "struct DielectricConstant{T<:Number}  <: DielectricMaterials\n",
                "    eps::T\n",
                "end\n",
                "\n",
                "permittivity(m::DielectricConstant) = m.eps\n",
                "permittivity(m::DielectricConstant, omega) = permittivity(m)"
            ]
        },
        {
            "cell_type": "code",
            "execution_count": null,
            "metadata": {},
            "outputs": [],
            "source": [
                "omega = 0:.1:10\n",
                "model = DielectricConstant(1.)\n",
                "\n",
                "ε = permittivity.(model, omega)\n",
                "\n",
                "plot(omega, real(ε), label=\"Re(ε(ω))\")"
            ]
        },
        {
            "cell_type": "markdown",
            "metadata": {},
            "source": [
                "- dielectric model: This includes perfect (lossless) dielectrics, conductive (lossy) materials, and perfect electric conductors.\n",
                "$$\\varepsilon (\\omega) = \\varepsilon_\\infty + \\frac{\\sigma}{j \\omega \\varepsilon_0}$$\n",
                "$$\\varepsilon (\\omega) = \\varepsilon_\\infty + \\frac{\\sigma}{j \\omega} = \\varepsilon_\\infty -j \\frac{\\sigma}{\\omega}$$\n"
            ]
        },
        {
            "cell_type": "code",
            "execution_count": null,
            "metadata": {},
            "outputs": [],
            "source": [
                "struct DielectricModel{T<:AbstractFloat} <: DielectricMaterials\n",
                "    eps_inf::T\n",
                "    sigma::T\n",
                "end\n",
                "\n",
                "permittivity(m::DielectricModel, omega) = m.eps_inf + m.sigma / (im *  omega * esp_0)\n"
            ]
        },
        {
            "cell_type": "code",
            "execution_count": null,
            "metadata": {},
            "outputs": [],
            "source": [
                "omega = 0:.1:10\n",
                "model = DielectricModel(1., 1.)\n",
                "\n",
                "ε = permittivity.(model, omega)\n",
                "\n",
                "# plot(omega, [real(ε) imag(ε)], label=[\"Re(ε(ω))\" \"Im(ε(ω))\"], layout=(2,1))\n",
                "p1 = plot(omega, real(ε), label=\"Re(ε(ω))\")\n",
                "p2 = plot(omega, imag(ε), label=\"Im(ε(ω))\", legend=:bottomright)\n",
                "plot(p1, p2, layout = @layout [a; b])"
            ]
        },
        {
            "cell_type": "code",
            "execution_count": null,
            "metadata": {},
            "outputs": [],
            "source": [
                "model"
            ]
        },
        {
            "cell_type": "markdown",
            "metadata": {},
            "source": [
                "## Dispersive Materials\n",
                "\n",
                "Dispersive (frequency-dependent) materials can correctly describe the physics behind the optical responses. "
            ]
        },
        {
            "cell_type": "markdown",
            "metadata": {},
            "source": [
                "- Debye model: describes the relaxation of atomic vibrations.\n",
                "  $$\\varepsilon (\\omega) = \\varepsilon_\\infty  + \\frac{\\Delta\\varepsilon}{1 + j \\omega \\tau}$$\n",
                "  where \n",
                "  - $\\Delta\\varepsilon =  \\varepsilon_\\infty - \\varepsilon_s$\n",
                "  - $\\varepsilon_s$ is a static (low frequency) dielectric permittivity,\n",
                "  - $\\varepsilon_\\infty$ is permittivity at high frequency limit (optical permittivity), \n",
                "  - $\\tau = \\frac{1}{\\omega_r}$ is the characteristic relaxation time,\n",
                "  - $\\omega_r$ is relaxation frequency."
            ]
        },
        {
            "cell_type": "code",
            "execution_count": null,
            "metadata": {},
            "outputs": [],
            "source": [
                "struct DebyeModel{T<:AbstractFloat} <: DispersiveMaterials\n",
                "    eps_s::T\n",
                "    eps_inf::T\n",
                "    tau::T\n",
                "end\n",
                "\n",
                "# TODO: minus or plus sign at (1 + - im * omega * m.tau)\n",
                "permittivity(m::DebyeModel, omega) = m.eps_inf + (eps_s - eps_inf) / (1 - im * omega * m.tau);\n"
            ]
        },
        {
            "cell_type": "code",
            "execution_count": null,
            "metadata": {},
            "outputs": [],
            "source": [
                "# omega = 0:.1:10\n",
                "omega = exp10.(-2:.1:2)\n",
                "eps_s = 6.\n",
                "eps_inf = 0.\n",
                "tau = 1.\n",
                "\n",
                "\n",
                "m = DebyeModel(eps_s, eps_inf, tau)\n",
                "ε = permittivity.(m, omega)\n",
                "\n",
                "plot(omega, [real(ε) imag(ε)], label=[\"Re(ε(ω))\" \"Im(ε(ω))\"], layout=(2, 1) ,)\n",
                "\n",
                "\n",
                "# p1 = plot(omega, real(ε), label=\"Re(ε(ω))\")\n",
                "# p2 = plot(omega, imag(ε), label=\"Im(ε(ω))\")\n",
                "p1 = plot(omega, real(ε), label=\"Re(ε(ω))\", xaxis=:log)\n",
                "p2 = plot(omega, imag(ε), label=\"Im(ε(ω))\", xaxis=:log)\n",
                "plot(p1, p2, layout = @layout [a; b])"
            ]
        },
        {
            "cell_type": "markdown",
            "metadata": {},
            "source": [
                "Variants of the Debye equation:\n",
                "\n",
                "- Cole–Cole model \n",
                "  $$\\varepsilon (\\omega) = \\varepsilon_\\infty  + \\frac{\\Delta\\varepsilon}{1 + j (\\omega \\tau)^{(1-\\alpha)}} $$\n",
                "\n",
                "- Cole-Davidson\n",
                "  $$\\varepsilon (\\omega) = \\varepsilon_\\infty  + \\frac{\\Delta\\varepsilon}{(1 + j \\omega \\tau)^\\beta} $$\n",
                "  \n",
                "- Havriliak-Negami\n",
                "  $$\\varepsilon (\\omega) = \\varepsilon_\\infty  + \\frac{\\Delta\\varepsilon}{(1 + j (\\omega \\tau)^{(1-\\alpha)})^\\beta} $$\n",
                "\n",
                "The terms $\\alpha$ and $\\beta$ are empirical parameters and their values are between $0$ and $1$. \n",
                "- $\\alpha$ is a damping factor (broaden the dispersion) and describes the degree of flatness of the relaxation region. \n",
                "- $\\beta$ is an asymmetric factor and describes relaxation properties asymmetric around relaxation frequency"
            ]
        },
        {
            "cell_type": "markdown",
            "metadata": {},
            "source": [
                "- Dielectric constant of free electron plasma: \n",
                "  $$\\varepsilon (\\omega) = 1 - \\frac{\\omega_p^2}{\\omega^2}$$"
            ]
        },
        {
            "cell_type": "code",
            "execution_count": null,
            "metadata": {},
            "outputs": [],
            "source": [
                "struct FreeElectronPlasmaModel <: DispersiveMaterials\n",
                "    omega_p\n",
                "end\n",
                "\n",
                "permittivity(m::FreeElectronPlasmaModel, omega) = 1 - m.omega_p^2 / omega^2;"
            ]
        },
        {
            "cell_type": "code",
            "execution_count": null,
            "metadata": {},
            "outputs": [],
            "source": [
                "omega = 0:.1:10\n",
                "omega_p = 3.\n",
                "gamma = 1.\n",
                "\n",
                "m = FreeElectronPlasmaModel(omega_p)\n",
                "ε = permittivity.(m, omega)\n",
                "\n",
                "plot(omega, ε, label=\"Re(ε(ω))\", ylimits=[-5, 1], legend=:bottomright)"
            ]
        },
        {
            "cell_type": "markdown",
            "metadata": {},
            "source": [
                "- Drude model: describes intraband electron motion.\n",
                "  $$\\varepsilon (\\omega) = 1 - \\frac{\\omega_p^2}{\\omega^2 + j \\omega \\gamma}$$\n",
                "\n",
                "  note: \n",
                "  - $\\gamma = \\Gamma = \\tau^{-1}$\n",
                "  - Lorentz mode wit $\\omega_0=0$"
            ]
        },
        {
            "cell_type": "code",
            "execution_count": null,
            "metadata": {},
            "outputs": [],
            "source": []
        },
        {
            "cell_type": "code",
            "execution_count": null,
            "metadata": {},
            "outputs": [],
            "source": [
                "struct DrudeModel{T<:AbstractFloat} <: DispersiveMaterials\n",
                "    omega_p::T\n",
                "    gamma::T\n",
                "end\n",
                "\n",
                "permittivity(m::DrudeModel, omega) = 1 - m.omega_p^2 / (omega^2 + im * m.gamma * omega);\n",
                "# static low frequency\n",
                "offset(m::DrudeModel) = 1 - m.omega_p^2 / m.gamma^2\n",
                "cross(m::DrudeModel) = sqrt(m.omega_p^2 - m.gamma^2)\n",
                "peak(m::DrudeModel) = Inf"
            ]
        },
        {
            "cell_type": "code",
            "execution_count": null,
            "metadata": {},
            "outputs": [],
            "source": [
                "omega = 0:.01:10\n",
                "omega_p = 3.\n",
                "gamma = 1.\n",
                "\n",
                "m = DrudeModel(omega_p, gamma)\n",
                "ε = permittivity.(m, omega)\n",
                "\n",
                "# plot(omega, [real(ε) imag(ε)], label=[\"Re(ε(ω))\" \"Im(ε(ω))\"], layout=(2,1) )\n",
                "p1 = plot(omega, real(ε), label=\"Re(ε(ω))\", legend=:bottomright)\n",
                "p2 = plot(omega, imag(ε), label=\"Im(ε(ω))\")\n",
                "plot(p1, p2, layout = @layout [a; b])"
            ]
        },
        {
            "cell_type": "code",
            "execution_count": null,
            "metadata": {},
            "outputs": [],
            "source": []
        },
        {
            "cell_type": "code",
            "execution_count": null,
            "metadata": {},
            "outputs": [],
            "source": [
                "offset(m), cross(m)"
            ]
        },
        {
            "cell_type": "code",
            "execution_count": null,
            "metadata": {},
            "outputs": [],
            "source": [
                "m_free = FreeElectronPlasmaModel(omega_p)\n",
                "ε_free = permittivity.(m_free, omega)\n",
                "\n",
                "plot(omega, real(ε), label=\"Drude model\", ylimits=[-10, 1])\n",
                "plot!(omega, ε_free, label=\"Free electron plasma\", legend=:bottomright)"
            ]
        },
        {
            "cell_type": "markdown",
            "metadata": {},
            "source": [
                "\n",
                "- Lorentz oscillator model: describes interband electron transitions.\n",
                "  \n",
                "  $$\\varepsilon (\\omega) = 1 + \\frac{\\Delta\\varepsilon_p \\omega_p^2}{\\omega_p^2 - \\omega(\\omega + j 2\\delta)}$$\n",
                "  ??\n",
                "\n",
                "  $$\\varepsilon (\\omega) = 1 + \\frac{\\omega_p^2}{\\omega_0^2  - \\omega^2 - j \\omega\\Gamma}$$\n",
                "  $$\\varepsilon (\\omega) = \\varepsilon_\\infty + \\frac{(\\varepsilon_s - \\varepsilon_\\infty) \\omega_0^2}{\\omega_0^2  - \\omega^2 - j \\omega\\Gamma}$$\n"
            ]
        },
        {
            "cell_type": "markdown",
            "metadata": {},
            "source": [
                "- The Cauchy distribution has the probability density function (PDF):\n",
                "  $$ \n",
                "  f(x; x_0,\\gamma) = \\frac{1}{\\pi\\gamma \\left[1 + \\left(\\frac{x - x_0}{\\gamma}\\right)^2\\right]} = { 1 \\over \\pi \\gamma } \\left[ { \\gamma^2 \\over (x - x_0)^2 + \\gamma^2  } \\right], \n",
                "  $$\n",
                "  where \n",
                "  - $x_0$ is the location parameter, specifying the location of the peak of the distribution, \n",
                "  - $\\gamma$ is the scale parameter which specifies the half-width at half-maximum (HWHM), alternatively $2\\gamma$ is full width at half maximum (FWHM).\n"
            ]
        },
        {
            "cell_type": "code",
            "execution_count": null,
            "metadata": {},
            "outputs": [],
            "source": [
                "struct LorentzModel{T<:AbstractFloat} <: DispersiveMaterials\n",
                "    omega_p::T\n",
                "    omega_0::T\n",
                "    gamma::T\n",
                "end\n",
                "\n",
                "permittivity(m::LorentzModel, omega) = 1 + m.omega_p^2 / (m.omega_0^2 - omega^2 - im * omega * m.gamma);\n",
                "\n",
                "# static ε (low frequency)\n",
                "offset_static(m::LorentzModel) = 1 + m.omega_p^2 / m.omega_0^2\n",
                "\n",
                "# ε at high frequency\n",
                "offset_inf(m::LorentzModel) = 1\n",
                "\n",
                "# Absorption peak (imaginary part)\n",
                "peak(m::LorentzModel) = m.omega_p^2 / (m.omega_0 * m.gamma)"
            ]
        },
        {
            "cell_type": "code",
            "execution_count": null,
            "metadata": {},
            "outputs": [],
            "source": [
                "omega = 0:.01:4\n",
                "omega_p = 2.\n",
                "omega_0 = 2.\n",
                "gamma = .2\n",
                "\n",
                "m = LorentzModel(omega_p, omega_0,  gamma)\n",
                "ε = permittivity.(m, omega)\n",
                "\n",
                "@show offset_static(m), offset_inf(m), peak(m)\n",
                "@show real(ε)[1], real(ε)[end], maximum(imag(ε))\n",
                "\n",
                "p1 = plot(omega, real(ε), label=\"Re(ε(ω))\")\n",
                "p2 = plot(omega, imag(ε), label=\"Im(ε(ω))\")\n",
                "plot(p1, p2, layout = @layout [a; b])"
            ]
        },
        {
            "cell_type": "code",
            "execution_count": null,
            "metadata": {},
            "outputs": [],
            "source": [
                "struct LorentzMode3{T<:AbstractFloat} <: DispersiveMaterials\n",
                "    omega_p::T\n",
                "    omega_0::T\n",
                "    gamma::T\n",
                "end\n",
                "\n",
                "permittivity(m::LorentzMode3, omega) = m.omega_p^2 / (m.omega_0^2 - omega^2 - im * omega * m.gamma);\n",
                "\n",
                "# static ε (low frequency)\n",
                "offset_static(m::LorentzMode3) = m.omega_p^2 / m.omega_0^2\n",
                "\n",
                "# ε at high frequency\n",
                "offset_inf(m::LorentzMode3) = 0\n",
                "\n",
                "# Absorption peak (imaginary part)\n",
                "peak(m::LorentzMode3) = m.omega_p^2 / (m.omega_0 * m.gamma)"
            ]
        },
        {
            "cell_type": "code",
            "execution_count": null,
            "metadata": {},
            "outputs": [],
            "source": [
                "omega = 0:.01:4\n",
                "omega_p = 2.\n",
                "omega_0 = 1.\n",
                "gamma = .4\n",
                "\n",
                "m = LorentzMode3(omega_p, omega_0,  gamma)\n",
                "ε = permittivity.(m, omega)\n",
                "\n",
                "@show offset_static(m), offset_inf(m), peak(m)\n",
                "@show real(ε)[1], real(ε)[end], maximum(imag(ε))\n",
                "\n",
                "p1 = plot(omega, real(ε), label=\"Re(ε(ω))\")\n",
                "p2 = plot(omega, imag(ε), label=\"Im(ε(ω))\")\n",
                "plot(p1, p2, layout = @layout [a; b])"
            ]
        },
        {
            "cell_type": "code",
            "execution_count": null,
            "metadata": {},
            "outputs": [],
            "source": [
                "struct LorentzModel2{T<:AbstractFloat} <: DispersiveMaterials\n",
                "    eps_s::T\n",
                "    eps_inf::T\n",
                "    omega_0::T\n",
                "    gamma::T\n",
                "end\n",
                "\n",
                "permittivity(m::LorentzModel2, omega) =  m.eps_inf + (m.eps_s - m.eps_inf) * m.omega_0^2 / (m.omega_0^2 - omega^2 - im * omega * m.gamma);\n",
                "\n",
                "# static ε (low frequency)\n",
                "offset_static(m::LorentzModel2) = m.eps_s\n",
                "\n",
                "# ε at high frequency\n",
                "offset_inf(m::LorentzModel2) = m.eps_inf\n",
                "\n",
                "# Absorption peak (imaginary part)\n",
                "peak(m::LorentzModel2) = (m.eps_s - m.eps_inf) * m.omega_0 /  m.gamma\n",
                "\n"
            ]
        },
        {
            "cell_type": "code",
            "execution_count": null,
            "metadata": {},
            "outputs": [],
            "source": [
                "omega = 0:.01:4\n",
                "eps_s = 4.\n",
                "eps_inf = 0.\n",
                "omega_0 = 2.\n",
                "gamma = .4\n",
                "\n",
                "m = LorentzModel2(eps_s, eps_inf, omega_0,  gamma)\n",
                "ε = permittivity.(m, omega)\n",
                "\n",
                "@show offset_static(m), offset_inf(m), peak(m)\n",
                "@show real(ε)[1], real(ε)[end], maximum(imag(ε))\n",
                "\n",
                "p1 = plot(omega, real(ε), label=\"Re(ε(ω))\")\n",
                "p2 = plot(omega, imag(ε), label=\"Im(ε(ω))\")\n",
                "plot(p1, p2, layout = @layout [a; b])"
            ]
        },
        {
            "cell_type": "code",
            "execution_count": null,
            "metadata": {},
            "outputs": [],
            "source": [
                "struct LorentzMode{T<:AbstractFloat} <: DispersiveMaterials\n",
                "    eps_s::T\n",
                "    omega_0::T\n",
                "    gamma::T\n",
                "end\n",
                "\n",
                "permittivity(m::LorentzMode, omega) =   m.eps_s * m.omega_0^2 / (m.omega_0^2 - omega^2 - im * omega * m.gamma);\n",
                "\n",
                "# static low frequency\n",
                "offset(m::LorentzMode) = m.eps_s\n",
                "peak(m::LorentzMode) = m.eps_s * m.omega_0 /  m.gamma\n",
                "\n",
                "\n",
                "# static ε (low frequency)\n",
                "offset_static(m::LorentzMode) = m.eps_s\n",
                "\n",
                "# ε at high frequency\n",
                "offset_inf(m::LorentzMode) = 0\n",
                "\n",
                "# Absorption peak (imaginary part)\n",
                "peak(m::LorentzMode) =  m.eps_s * m.omega_0 /  m.gamma\n",
                "\n",
                "# LorentzMode2(eps_s, omega_0, gamma) = LorentzModel2(eps_s, 0., omega_0,  gamma)"
            ]
        },
        {
            "cell_type": "code",
            "execution_count": null,
            "metadata": {},
            "outputs": [],
            "source": [
                "struct LorentzModel2{T<:AbstractFloat} <: DispersiveMaterials\n",
                "    eps_s::T\n",
                "    eps_inf::T\n",
                "    omega_0::T\n",
                "    gamma::T\n",
                "end\n",
                "\n",
                "permittivity(m::LorentzModel2, omega) =  m.eps_inf + (m.eps_s - m.eps_inf) * m.omega_0^2 / (m.omega_0^2 - omega^2 - im * omega * m.gamma);\n",
                "\n",
                "# static ε (low frequency)\n",
                "offset_static(m::LorentzModel2) = m.eps_s\n",
                "\n",
                "# ε at high frequency\n",
                "offset_inf(m::LorentzModel2) = m.eps_inf\n",
                "\n",
                "# Absorption peak (imaginary part)\n",
                "peak(m::LorentzModel2) = (m.eps_s - m.eps_inf) * m.omega_0 /  m.gamma\n",
                "\n"
            ]
        },
        {
            "cell_type": "code",
            "execution_count": null,
            "metadata": {},
            "outputs": [],
            "source": [
                "omega = 0:.01:4\n",
                "eps_s = 4.\n",
                "eps_inf = 0.\n",
                "omega_0 = 2.\n",
                "gamma = .4\n",
                "\n",
                "m = LorentzModel2(eps_s, eps_inf, omega_0,  gamma)\n",
                "ε = permittivity.(m, omega)\n",
                "\n",
                "@show offset_static(m), offset_inf(m), peak(m)\n",
                "@show real(ε)[1], real(ε)[end], maximum(imag(ε))\n",
                "\n",
                "p1 = plot(omega, real(ε), label=\"Re(ε(ω))\")\n",
                "p2 = plot(omega, imag(ε), label=\"Im(ε(ω))\")\n",
                "plot(p1, p2, layout = @layout [a; b])"
            ]
        },
        {
            "cell_type": "code",
            "execution_count": null,
            "metadata": {},
            "outputs": [],
            "source": [
                "struct LorentzMode{T<:AbstractFloat} <: DispersiveMaterials\n",
                "    eps_s::T\n",
                "    omega_0::T\n",
                "    gamma::T\n",
                "end\n",
                "\n",
                "permittivity(m::LorentzMode, omega) =   m.eps_s * m.omega_0^2 / (m.omega_0^2 - omega^2 - im * omega * m.gamma);\n",
                "\n",
                "# static low frequency\n",
                "offset(m::LorentzMode) = m.eps_s\n",
                "peak(m::LorentzMode) = m.eps_s * m.omega_0 /  m.gamma\n",
                "\n",
                "\n",
                "# static ε (low frequency)\n",
                "offset_static(m::LorentzMode) = m.eps_s\n",
                "\n",
                "# ε at high frequency\n",
                "offset_inf(m::LorentzMode) = 0\n",
                "\n",
                "# Absorption peak (imaginary part)\n",
                "peak(m::LorentzMode) =  m.eps_s * m.omega_0 /  m.gamma\n",
                "\n",
                "# LorentzMode2(eps_s, omega_0, gamma) = LorentzModel2(eps_s, 0., omega_0,  gamma)"
            ]
        },
        {
            "cell_type": "code",
            "execution_count": null,
            "metadata": {},
            "outputs": [],
            "source": [
                "omega = 0:.01:4\n",
                "eps_s = 1.\n",
                "omega_0 = 2.\n",
                "gamma = .2\n",
                "\n",
                "m = LorentzMode2(eps_s, omega_0,  gamma)\n",
                "ε = permittivity.(m, omega)\n",
                "\n",
                "@show typeof(m)\n",
                "@show offset_static(m), offset_inf(m), peak(m)\n",
                "@show real(ε)[1], real(ε)[end], maximum(imag(ε))\n",
                "\n",
                "p1 = plot(omega, real(ε), label=\"Re(ε(ω))\")\n",
                "p2 = plot(omega, imag(ε), label=\"Im(ε(ω))\")\n",
                "plot(p1, p2, layout = @layout [a; b])"
            ]
        },
        {
            "cell_type": "markdown",
            "metadata": {},
            "source": [
                "\n",
                "- Lorentz oscillator model: describes interband electron transitions.\n",
                "  $$\\varepsilon (\\omega) = 1 + \\frac{\\Delta\\varepsilon_p \\omega_p^2}{\\omega_p^2 - \\omega(\\omega + j 2\\delta)}$$\n",
                "  $$\\varepsilon (\\omega) = 1 + \\frac{\\omega_p^2}{\\omega_0^2  - \\omega^2 + j \\omega\\Gamma}$$\n"
            ]
        },
        {
            "cell_type": "code",
            "execution_count": null,
            "metadata": {},
            "outputs": [],
            "source": []
        },
        {
            "cell_type": "code",
            "execution_count": null,
            "metadata": {},
            "outputs": [],
            "source": []
        },
        {
            "cell_type": "markdown",
            "metadata": {},
            "source": [
                "# Tabulated "
            ]
        },
        {
            "cell_type": "code",
            "execution_count": null,
            "metadata": {},
            "outputs": [],
            "source": []
        },
        {
            "cell_type": "code",
            "execution_count": null,
            "metadata": {},
            "outputs": [],
            "source": []
        },
        {
            "cell_type": "code",
            "execution_count": null,
            "metadata": {},
            "outputs": [],
            "source": []
        },
        {
            "cell_type": "code",
            "execution_count": null,
            "metadata": {},
            "outputs": [],
            "source": [
                "\n",
                "\n",
                "\n",
                "# Interpolated frequency dependent permitivirty\n",
                "struct PermittivityTable <: TablePermittivity\n",
                "    lambda::Vector{Float64}\n",
                "    eps::Vector{ComplexF64}\n",
                "    itp_real::Spline1D\n",
                "    itp_imag::Spline1D\n",
                "    function PermittivityTable(lambda::Vector{Float64}, eps::Vector{ComplexF64})\n",
                "\n",
                "        inds = sortperm(lambda)\n",
                "        # itp_real = interpolate((lambda[inds],), real(eps[inds]), Gridded(Linear()))\n",
                "        # itp_imag = interpolate((lambda[inds],), imag(eps[inds]), Gridded(Linear()))\n",
                "\n",
                "        itp_real = Spline1D(lambda[inds], real(eps[inds]))\n",
                "        itp_imag = Spline1D(lambda[inds], imag(eps[inds]))\n",
                "\n",
                "        new(lambda, eps, itp_real, itp_imag)\n",
                "    end\n",
                "end\n",
                "\n",
                "permittivity(e::PermittivityTable, lambda) = e.itp_real(lambda) + e.itp_imag(lambda) * im\n",
                "\n",
                "# TODO: proper broadcasting\n",
                "reflective_index(e::AbstractPermittivity, lambda) = sqrt(permittivity(e, lambda))\n"
            ]
        },
        {
            "cell_type": "markdown",
            "metadata": {},
            "source": [
                "# Constant permitivity"
            ]
        },
        {
            "cell_type": "code",
            "execution_count": null,
            "metadata": {},
            "outputs": [],
            "source": [
                "m1 = DielectricConstant(2.)\n",
                "m1, isapprox(permittivity(m1), permittivity(m1, 23523.235))"
            ]
        },
        {
            "cell_type": "code",
            "execution_count": null,
            "metadata": {},
            "outputs": [],
            "source": [
                "m2 = DielectricConstant(-0.09850 + 1.9392im)\n",
                "m2, isapprox(permittivity(m2), -0.09850 + 1.9392im)"
            ]
        },
        {
            "cell_type": "markdown",
            "metadata": {},
            "source": [
                "# Wavelength dependent permitivity of gold"
            ]
        },
        {
            "cell_type": "code",
            "execution_count": null,
            "metadata": {},
            "outputs": [],
            "source": [
                "# Gold, evaporated (Johnson & Christy 1972, PRB 6, 4370)\n",
                "# wave(um)\n",
                "eps = [\n",
                "    -189.0 + 25.36im,\n",
                "    -125.4 + 12.56im,\n",
                "    -90.43 + 8.19im,\n",
                "    -66.22 + 5.70im,\n",
                "    -51.05 + 3.86im,\n",
                "    -40.27 + 2.79im,\n",
                "    -32.04 + 1.93im,\n",
                "    -25.81 + 1.63im,\n",
                "    -20.61 + 1.27im,\n",
                "    -16.82 + 1.07im,\n",
                "    -13.65 + 1.04im,\n",
                "    -10.66 + 1.37im,\n",
                "    -8.11 + 1.66im,\n",
                "    -5.84 + 2.11im,\n",
                "    -3.95 + 2.58im,\n",
                "    -2.28 + 3.81im,\n",
                "    -1.70 + 4.84im,\n",
                "    -1.76 + 5.28im,\n",
                "    -1.69 + 5.65im,\n",
                "    -1.70 + 5.72im,\n",
                "    -1.65 + 5.74im,\n",
                "    -1.60 + 5.64im,\n",
                "    -1.40 + 5.61im,\n",
                "    -1.23 + 5.60im,\n",
                "    -1.31 + 5.54im,\n",
                "    -1.36 + 5.57im,\n",
                "    -1.23 + 5.85im,\n",
                "    -1.24 + 5.79im,\n",
                "    -1.23 + 5.78im,\n",
                "    -1.31 + 5.60im,\n",
                "    -1.33 + 5.49im,\n",
                "    -1.37 + 5.28im,\n",
                "    -1.35 + 4.98im,\n",
                "    -1.24 + 4.72im,\n",
                "    -1.08 + 4.49im,\n",
                "    -0.89 + 4.34im,\n",
                "    -0.74 + 4.16im,\n",
                "    -0.62 + 4.06im,\n",
                "    -0.55 + 3.89im,\n",
                "    -0.42 + 3.83im,\n",
                "    -0.35 + 3.71im,\n",
                "    -0.23 + 3.61im,\n",
                "    -0.13 + 3.51im,\n",
                "    -0.01 + 3.39im,\n",
                "    0.14 + 3.40im,\n",
                "    0.20 + 3.33im,\n",
                "    0.29 + 3.29im,\n",
                "    0.30 + 3.18im,\n",
                "    0.23 + 3.04im\n",
                "]\n",
                "\n",
                "lambda = [\n",
                "    1.937,\n",
                "    1.610,\n",
                "    1.393,\n",
                "    1.216,\n",
                "    1.088,\n",
                "    0.9840,\n",
                "    0.8920,\n",
                "    0.8211,\n",
                "    0.7560,\n",
                "    0.7045,\n",
                "    0.6595,\n",
                "    0.6168,\n",
                "    0.5821,\n",
                "    0.5486,\n",
                "    0.5209,\n",
                "    0.4959,\n",
                "    0.4714,\n",
                "    0.4509,\n",
                "    0.4305,\n",
                "    0.4133,\n",
                "    0.3974,\n",
                "    0.3815,\n",
                "    0.3679,\n",
                "    0.3542,\n",
                "    0.3425,\n",
                "    0.3315,\n",
                "    0.3204,\n",
                "    0.3107,\n",
                "    0.3009,\n",
                "    0.2924,\n",
                "    0.2844,\n",
                "    0.2761,\n",
                "    0.2689,\n",
                "    0.2616,\n",
                "    0.2551,\n",
                "    0.2490,\n",
                "    0.2426,\n",
                "    0.2371,\n",
                "    0.2313,\n",
                "    0.2262,\n",
                "    0.2214,\n",
                "    0.2164,\n",
                "    0.2119,\n",
                "    0.2073,\n",
                "    0.2033,\n",
                "    0.1993,\n",
                "    0.1953,\n",
                "    0.1916,\n",
                "    0.1879\n",
                "]\n",
                "\n"
            ]
        },
        {
            "cell_type": "code",
            "execution_count": null,
            "metadata": {},
            "outputs": [],
            "source": [
                "m = PermittivityTable(lambda, eps)\n",
                "\n",
                "l = LinRange(minimum(lambda), maximum(lambda), 1000)\n",
                "# l = LinRange(0., maximum(lambda), 1000)\n",
                "e = permittivity(m, l)\n",
                "size(e)"
            ]
        },
        {
            "cell_type": "code",
            "execution_count": null,
            "metadata": {},
            "outputs": [],
            "source": [
                "# scatter(lambda, real(eps), xaxis=:log)\n",
                "scatter(lambda, real(eps))\n",
                "plot!(l, real(e))"
            ]
        },
        {
            "cell_type": "code",
            "execution_count": null,
            "metadata": {},
            "outputs": [],
            "source": [
                "# scatter(lambda, imag(eps), xaxis=:log)\n",
                "scatter(lambda, imag(eps))\n",
                "plot!(l, imag(e))"
            ]
        },
        {
            "cell_type": "code",
            "execution_count": null,
            "metadata": {},
            "outputs": [],
            "source": []
        },
        {
            "cell_type": "code",
            "execution_count": null,
            "metadata": {},
            "outputs": [],
            "source": []
        },
        {
            "cell_type": "code",
            "execution_count": null,
            "metadata": {},
            "outputs": [],
            "source": []
        },
        {
            "cell_type": "markdown",
            "metadata": {},
            "source": [
                "# Appendix"
            ]
        },
        {
            "cell_type": "markdown",
            "metadata": {},
            "source": [
                "## Drude model: Driven harmonic oscillator\n",
                "\n",
                "source: [Plasmonics: Fundamentals and Applications](https://link.springer.com/book/10.1007/0-387-37825-1)\n",
                "\n",
                "One can write a simple equation of motion for an electron of the plasma sea subjected to an external electric field $E$:\n",
                "$$\n",
                "m \\ddot{x} + m \\gamma \\dot{x} = −e E\n",
                "$$\n",
                "\n",
                "If we assume a harmonic time dependence $E(t) = E_0 e^{−i \\omega t}$ of the driving field, a particular solution of this equation describing the oscillation of the electron is $x(t) = x_0 e^{−i \\omega t}$. The complex amplitude $x_0$ incorporates any phase shifts between driving field and response via\n",
                "$$\n",
                "x(t) = \\frac{e}{m (\\omega^2 + i \\gamma \\omega)} E(t).\n",
                "$$\n",
                "\n",
                "The displaced electrons contribute to the macroscopic polarization $P = −nex$, explicitly given by\n",
                "$$\n",
                "P = -\\frac{n e^2}{m(\\omega^2 + i \\gamma \\omega)} E.\n",
                "$$\n",
                "\n",
                "Inserting this expression for $P$ into equation ($D = \\varepsilon_0 E + P$) yields\n",
                "$$\n",
                "D = \\varepsilon_0(1 - \\frac{\\omega_p^2}{\\omega^2 + i \\gamma \\omega})E,\n",
                "$$\n",
                "where $\\omega_p^2 = \\frac{n e^2}{\\varepsilon_0 m}$ is the plasma frequency of the free electron gas. Therefore we arrive at the desired result, the dielectric function of the free electron gas:\n",
                "$$\n",
                "\\varepsilon(\\omega) = 1 - \\frac{\\omega_p^2}{\\omega^2 + i \\gamma \\omega}.\n",
                "$$\n",
                "The real and imaginary components of this complex dielectric function $\\varepsilon(\\omega) = \\varepsilon_1(\\omega) + i \\varepsilon_2(\\omega)$ are given by\n",
                "$$\n",
                "\\varepsilon_1(\\omega) = 1 - \\frac{\\omega_p^2 \\tau^2}{1 + \\omega^2 \\tau^2}.\n",
                "$$\n",
                "$$\n",
                "\\varepsilon_2(\\omega) = 1 - \\frac{\\omega_p^2 \\tau}{\\omega(1 + \\omega^2 \\tau^2)}.\n",
                "$$\n",
                "where we have used $\\gamma = \\frac{1}{\\tau}$.\n",
                "\n",
                "## Free electron gas\n",
                "\n",
                "It is insightful to study (???) for a variety of different frequency regimes with respect to the collision frequency $\\gamma$. We will limit ourselves here to frequencies $\\omega < \\omega_p$, where metals retain their metallic character. For large frequencies close to $\\omega_p$ , the product $\\omega \\tau \\gg 1$, leading to negligible damping. Here, $\\varepsilon(\\omega)$ is predominantly real, and\n",
                "$$\n",
                "\\varepsilon(\\omega) = 1- \\frac{\\omega_p^2}{\\omega^2}\n",
                "$$\n",
                "\n",
                "can be taken as the dielectric function of the undamped free electron plasma.\n"
            ]
        },
        {
            "cell_type": "markdown",
            "metadata": {},
            "source": [
                "# Lorentz modes: Driven harmonic oscillators with dampening\n",
                "\n",
                "Driven harmonic oscillators are damped oscillators further affected by an externally applied sinusoidal driving force:\n",
                "$$\n",
                "\\ddot{x}(t) + \\gamma \\dot{x}(t)  + \\omega_0^2 x(t) = A_0 e^{-i \\omega t}\n",
                "$$\n",
                "where\n",
                "- $A_0$ is the driving amplitude,\n",
                "- $\\omega$ is the driving frequency,\n",
                "- $\\omega_{0}$ is the undamped angular frequency,\n",
                "- $\\gamma$ is the damping ratio\n",
                "\n",
                "Lest suppose that the solution exist in the following form ($\\gamma > 0$):\n",
                "\n",
                "$$\n",
                "x(t) = x_0 e^{-i \\omega_0 t} e^{-\\gamma t}\n",
                "$$\n",
                "\n",
                "The Lotenz-Drude term:\n",
                "$$\n",
                "\\frac{A_0}{\\omega_0^2-\\omega^2-i \\gamma \\omega}\n",
                "$$\n",
                "\n",
                "Total dielectric function:\n",
                "$$\n",
                "\\varepsilon(\\omega) = \\varepsilon_\\infty + \\sum \\limits_i \\frac{A_i}{\\omega_i^2-\\omega^2-i \\gamma_i \\omega}\n",
                "$$\n",
                "Note: Drude model is a special case of the Lotenz term with $A_0 = \\omega_p^2$ and $\\omega_0 = 0$\n",
                "\n",
                "\n",
                "\n",
                "\n",
                "## Lorentzian lineshape (Cauchy distribution)\n",
                "\n",
                "A random vector $X=(X_1, \\ldots, X_k)^T$ is said to have the multivariate Cauchy distribution if every linear combination of its components $Y=a_1X_1+ \\cdots + a_kX_k$ has a Cauchy distribution. That is, for any constant vector $a\\in \\mathbb R^k$, the random variable $Y=a^TX$ should have a univariate Cauchy distribution. The characteristic function of a multivariate Cauchy distribution is given by:\n",
                "\n",
                "$$\n",
                "\\varphi_X(t) =  e^{ix_0(t)-\\gamma(t)}, \\!\n",
                "$$\n",
                "\n",
                "where $x_0(t$ and $\\gamma(t$ are real functions with $x_0(t$ a homogeneous function of degree one and $\\gamma(t$ a positive homogeneous function of degree one.\n",
                "\n",
                "$$\n",
                "x_0(at) = ax_0(t),\n",
                "$$\n",
                "$$\n",
                "\\gamma (at) = |a|\\gamma (t),\n",
                "$$\n",
                "\n",
                "for all $t$.\n",
                "\n",
                "An example of a bivariate Cauchy distribution can be given by:\n",
                "$$\n",
                "f(x, y; x_0,y_0,\\gamma)= { 1 \\over 2 \\pi } \\left[ { \\gamma \\over ((x - x_0)^2 + (y - y_0)^2 +\\gamma^2)^{3/2}  } \\right] .\n",
                "$$\n",
                "Note that in this example, even though there is no analogue to a covariance matrix, $x$ and $y$ are not Independence (probability theory)|statistically independent.\n",
                "\n",
                "We also can write this formula for complex variable. Then the probability density function of complex cauchy is :\n",
                "\n",
                "$$\n",
                "f(z; z_0,\\gamma)= { 1 \\over 2 \\pi } \\left[ { \\gamma \\over (|z-z_0|^2 +\\gamma^2)^{3/2}  } \\right] .\n",
                "$$\n",
                "\n",
                "Analogous to the univariate density, the multidimensional Cauchy density also relates to the multivariate Student distribution. They are equivalent when the degrees of freedom parameter is equal to one. The density of a $k$ dimension Student distribution with one degree of freedom becomes:\n",
                "\n",
                "$$\n",
                "f({\\mathbf x}; {\\mathbf\\mu},{\\mathbf\\Sigma}, k)= \\frac{\\Gamma\\left(\\frac{1+k}{2}\\right)}{\\Gamma(\\frac{1}{2})\\pi^{\\frac{k}{2}}\\left|{\\mathbf\\Sigma}\\right|^{\\frac{1}{2}}\\left[1+({\\mathbf x}-{\\mathbf\\mu})^T{\\mathbf\\Sigma}^{-1}({\\mathbf x}-{\\mathbf\\mu})\\right]^{\\frac{1+k}{2}}} .\n",
                "$$\n",
                "\n",
                "Properties and details for this density can be obtained by taking it as a particular case of the multivariate Student density.\n",
                "\n",
                "## Lorentzian\n",
                "\n",
                "$$\n",
                "f(x; x_0,\\gamma)= { 1 \\over 2 \\pi } \\left[ { \\frac{\\gamma}{|x-x_0|^2 +\\gamma^2 }} \\right]\n",
                "$$\n",
                "$$\n",
                "\\varphi(\\xi; x_0, \\gamma) =  e^{i x_0 \\xi} \\cdot e^{- \\gamma | \\xi |}\n",
                "$$\n",
                "\n"
            ]
        },
        {
            "cell_type": "code",
            "execution_count": null,
            "metadata": {},
            "outputs": [],
            "source": [
                "\n",
                "Lorentzian(x, x₀, γ) = 1 / 2π * γ / ((x- x₀)^2 + γ^2)\n",
                "\n",
                "x₀, γ = 6, .5\n",
                "X = LinRange(0,10,1001)\n",
                "plot(X, Lorentzian.(X, x₀, γ))\n"
            ]
        },
        {
            "cell_type": "code",
            "execution_count": null,
            "metadata": {},
            "outputs": [],
            "source": [
                "phi(ξ, x₀, γ) = exp(- im * x₀ * ξ) * exp(-γ * abs(ξ))\n",
                "\n",
                "Ξ = LinRange(-2π, 2π, 1001)\n",
                "r = phi.(Ξ, x₀, γ)\n",
                "plot(Ξ, real(r), imag(r), xlabel=\"ω\", ylabel=\"Re\", zlabel=\"Im\")\n",
                "\n",
                "\n",
                "\n",
                "# $`@example 1\n",
                "# plot(\n",
                "#     plot(Ξ, abs.(r), label=\"abs\"),\n",
                "#     plot(Ξ, angle.(r), label=\"angle\"),\n",
                "#     layout=(2,1)\n",
                "# )\n",
                "# $`\n"
            ]
        },
        {
            "cell_type": "code",
            "execution_count": null,
            "metadata": {},
            "outputs": [],
            "source": [
                "\n",
                "Loretnz(omega, A_0, omega_0, gamma) =  A_0 / (omega_0^2 - omega^2 - im * gamma * omega)\n",
                "\n",
                "omega = 0:.01:10\n",
                "\n",
                "A_0, omega_0 = 10, 4\n",
                "gamma = [0 .25 .5 1. 2]\n",
                "\n",
                "ε = @. Loretnz(omega, A_0, omega_0, gamma)\n",
                "\n",
                "plot(\n",
                "    plot(omega, real(ε),label=[\"γ = $g\" for g in gamma], ylims=[-6, 6]),\n",
                "    plot(omega, imag(ε), label=[\"γ = $g\" for g in gamma]),\n",
                "    layout=(2,1)\n",
                ")\n",
                "\n",
                "\n"
            ]
        },
        {
            "cell_type": "code",
            "execution_count": null,
            "metadata": {},
            "outputs": [],
            "source": [
                "\n",
                "t = 0:0.01:10\n",
                "\n",
                "x_0, omega_0 = 1, 1\n",
                "gamma = [0 .25 .5 1. 2]\n",
                "\n",
                "x(t, x_0, omega_0, gamma) = x_0 * exp(-im * omega_0 * t)* exp(-gamma * t)\n",
                "\n",
                "X = @. x(t, x_0, omega_0, gamma )\n",
                "plot(t, real(X))\n",
                "\n"
            ]
        },
        {
            "cell_type": "code",
            "execution_count": null,
            "metadata": {},
            "outputs": [],
            "source": []
        }
    ],
    "metadata": {
        "kernelspec": {
            "display_name": "Julia 1.6.3",
            "language": "julia",
            "name": "julia-1.6"
        },
        "language_info": {
            "file_extension": ".jl",
            "mimetype": "application/julia",
            "name": "julia",
            "version": "1.6.3"
        },
        "orig_nbformat": 4
    },
    "nbformat": 4,
    "nbformat_minor": 2
}
