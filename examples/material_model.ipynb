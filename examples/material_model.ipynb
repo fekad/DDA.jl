{
    "cells": [
        {
            "cell_type": "code",
            "execution_count": null,
            "source": [
                "using DDA, Plots\n",
                "gr()"
            ],
            "outputs": [],
            "metadata": {}
        },
        {
            "cell_type": "markdown",
            "source": [
                "# Material models\n",
                "[source](http://www.fdtdxx.com/features/material-models)\n",
                "[article](https://www.researchgate.net/publication/249651487_Free-Space_Transmission_Method_for_the_Characterization_of_Dielectric_and_Magnetic_Materials_at_Microwave_Frequencies)"
            ],
            "metadata": {}
        },
        {
            "cell_type": "markdown",
            "source": [
                "## Dielectrics and Conductors: \n",
                "\n",
                "- dielectric model: This includes perfect (lossless) dielectrics, conductive (lossy) materials, and perfect electric conductors.\n",
                "$$\\varepsilon (\\omega) = \\varepsilon_\\infty + \\frac{\\sigma}{j \\omega \\varepsilon_0}$$\n"
            ],
            "metadata": {}
        },
        {
            "cell_type": "markdown",
            "source": [
                "## Dispersive Materials\n",
                "\n",
                "Dispersive (frequency-dependent) materials can correctly describe the physics behind the optical responses. \n",
                "\n",
                "- Dielectric constant of free electron gas: \n",
                "  $$\\varepsilon (\\omega) = 1 - \\frac{\\omega_p^2}{\\omega^2}$$\n",
                "  \n",
                "- Drude model: describes intraband electron motion.\n",
                "  $$\\varepsilon (\\omega) = 1 - \\frac{\\omega_p^2}{\\omega^2 + j \\omega \\gamma}$$\n",
                "\n",
                "- Lorentz oscillator model: describes interband electron transitions.\n",
                "  $$\\varepsilon (\\omega) = 1 + \\frac{\\Delta\\varepsilon_p \\omega_p^2}{\\omega_p^2 - \\omega(\\omega + j 2\\delta)}$$\n",
                "\n",
                "- Debye model: describes the relaxation of atomic vibrations.\n",
                "  $$\\varepsilon (\\omega) = \\varepsilon_\\infty  + \\frac{\\Delta\\varepsilon}{1 + j \\omega \\tau}$$\n",
                "  where \n",
                "  - $\\Delta\\varepsilon =  \\varepsilon_\\infty - \\varepsilon_s$\n",
                "  - $\\tau = \\frac{1}{\\omega_r}$\n",
                "  - $\\varepsilon_s$ is a static dielectric permittivity,\n",
                "  - $\\varepsilon_\\infty$ is permittivity at infinite frequency (optical permittivity), \n",
                "  - $\\omega_r$ is relaxation frequency.\n",
                "\n",
                "- Cole–Cole model \n",
                "  $$\\varepsilon (\\omega) = \\varepsilon_\\infty  + \\frac{\\Delta\\varepsilon}{1 + j (\\omega \\tau)^{(1-\\alpha)}} $$\n",
                "\n",
                "- Cole-Davidson\n",
                "  $$\\varepsilon (\\omega) = \\varepsilon_\\infty  + \\frac{\\Delta\\varepsilon}{(1 + j \\omega \\tau)^\\beta} $$\n",
                "  \n",
                "- Havriliak-Negami\n",
                "  $$\\varepsilon (\\omega) = \\varepsilon_\\infty  + \\frac{\\Delta\\varepsilon}{(1 + j (\\omega \\tau)^{(1-\\alpha)})^\\beta} $$\n",
                "\n",
                "The terms $\\alpha$ and $\\beta$ are empirical parameters and their values are between $0$ and $1$. \n",
                "- $\\alpha$ is a damping factor (broaden the dispersion) and describes the degree of flatness of the relaxation region. \n",
                "- $\\beta$ is an asymmetric factor and describes relaxation properties asymmetric around relaxation frequency"
            ],
            "metadata": {}
        },
        {
            "cell_type": "markdown",
            "source": [
                "$$ \\varepsilon(\\omega) = 1 - \\frac{\\omega_p^2}{\\omega^2 + j \\omega \\gamma} =  1 - \\frac{\\omega_p^2}{\\omega^2 + j \\omega \\gamma} +  1 - \\frac{\\omega_p^2}{\\omega^2 + j \\omega \\gamma}  $$"
            ],
            "metadata": {}
        },
        {
            "cell_type": "markdown",
            "source": [
                "## Arbitrarily-accurate Models\n",
                "\n",
                "The arbitrarily-accurate (albeit, perhaps unphysical) fits to experimental optical data can be obtained.\n",
                "\n",
                "- multi-pole Debye model with static conductivity\n",
                "  $$\\varepsilon (\\omega) = \\varepsilon_\\infty  + \\sum \\limits_i^N \\frac{\\Delta\\varepsilon_i}{1 + j \\omega \\tau_i} + \\frac{\\sigma_s}{j \\omega \\varepsilon_0}$$\n",
                "  where\n",
                "  - $\\sigma_s$ the static conductivity\n",
                "  - $\\Delta\\varepsilon_i$ is the change in permittivity due to the ith dispersion\n",
                "- Drude model in combination with multiple Lorentz oscillator poles\n",
                "  $$\\varepsilon (\\omega) = \\varepsilon_\\infty  + \\sum \\limits_N \\frac{\\Delta\\varepsilon_p \\omega_p^2}{\\omega_p^2 - \\omega(\\omega + j 2\\delta)}$$\n",
                "- Interpolated tabulated data\n"
            ],
            "metadata": {}
        },
        {
            "cell_type": "markdown",
            "source": [
                "## Nonlocal Materials\n",
                "\n",
                "Spatially-nonlocal effects arise when electrons are confined to small regions of space. Examples include junctions between structures, the areas around the edges of small structures, etc. These can significantly modify the electromagnetic fields, relative to classical (local) effects.\n"
            ],
            "metadata": {}
        },
        {
            "cell_type": "code",
            "execution_count": null,
            "source": [],
            "outputs": [],
            "metadata": {}
        },
        {
            "cell_type": "code",
            "execution_count": null,
            "source": [],
            "outputs": [],
            "metadata": {}
        },
        {
            "cell_type": "code",
            "execution_count": null,
            "source": [],
            "outputs": [],
            "metadata": {}
        },
        {
            "cell_type": "code",
            "execution_count": null,
            "source": [
                "\n",
                "\n",
                "# Permittivity\n",
                "# Electric susceptibility\n",
                "\n",
                "abstract type AbstractPermittivity end\n",
                "abstract type ConstantPermittivity <: AbstractPermittivity end\n",
                "abstract type TablePermittivity <: AbstractPermittivity end\n",
                "\n",
                "\n",
                "# # only real values\n",
                "# struct DielectricConstant <: ConstantPermittivity\n",
                "#     eps::Float64\n",
                "# end\n",
                "# permittivity(e::DielectricConstant) = e.eps\n",
                "# permittivity(e::DielectricConstant, lambda) = permittivity(e)\n",
                "#\n",
                "# # complex (dielectric + absorption)\n",
                "# struct PermittivityConstant <: ConstantPermittivity\n",
                "#     eps::ComplexF64\n",
                "# end\n",
                "# permittivity(e::PermittivityConstant) = e.eps\n",
                "# permittivity(e::PermittivityConstant, lambda) = permittivity(e)\n",
                "\n",
                "\n",
                "# complex (real or complex)\n",
                "struct Permittivity{T<:Number} <: ConstantPermittivity\n",
                "    eps::T\n",
                "end\n",
                "\n",
                "permittivity(e::Permittivity) = e.eps\n",
                "permittivity(e::Permittivity, lambda) = permittivity(e)\n",
                "\n",
                "struct DrudeModel\n",
                "\n",
                "end\n",
                "\n",
                "# Interpolated frequency dependent permitivirty\n",
                "struct PermittivityTable <: TablePermittivity\n",
                "    lambda::Vector{Float64}\n",
                "    eps::Vector{ComplexF64}\n",
                "    itp_real::Spline1D\n",
                "    itp_imag::Spline1D\n",
                "    function PermittivityTable(lambda::Vector{Float64}, eps::Vector{ComplexF64})\n",
                "\n",
                "        inds = sortperm(lambda)\n",
                "        # itp_real = interpolate((lambda[inds],), real(eps[inds]), Gridded(Linear()))\n",
                "        # itp_imag = interpolate((lambda[inds],), imag(eps[inds]), Gridded(Linear()))\n",
                "\n",
                "        itp_real = Spline1D(lambda[inds], real(eps[inds]))\n",
                "        itp_imag = Spline1D(lambda[inds], imag(eps[inds]))\n",
                "\n",
                "        new(lambda, eps, itp_real, itp_imag)\n",
                "    end\n",
                "end\n",
                "\n",
                "permittivity(e::PermittivityTable, lambda) = e.itp_real(lambda) + e.itp_imag(lambda) * im\n",
                "\n",
                "# TODO: proper broadcasting\n",
                "reflective_index(e::AbstractPermittivity, lambda) = sqrt(permittivity(e, lambda))\n"
            ],
            "outputs": [],
            "metadata": {}
        },
        {
            "cell_type": "markdown",
            "source": [
                "# Constant permitivity"
            ],
            "metadata": {}
        },
        {
            "cell_type": "code",
            "execution_count": null,
            "source": [
                "m1 = Permittivity(2.)\n",
                "m1, isapprox(permittivity(m1), permittivity(m1, 23523.235))"
            ],
            "outputs": [],
            "metadata": {}
        },
        {
            "cell_type": "code",
            "execution_count": null,
            "source": [
                "m2 = Permittivity(-0.09850 + 1.9392im)\n",
                "m2, isapprox(permittivity(m2), -0.09850 + 1.9392im)"
            ],
            "outputs": [],
            "metadata": {}
        },
        {
            "cell_type": "markdown",
            "source": [
                "# Wavelength dependent permitivity of gold"
            ],
            "metadata": {}
        },
        {
            "cell_type": "code",
            "execution_count": null,
            "source": [
                "# Gold, evaporated (Johnson & Christy 1972, PRB 6, 4370)\n",
                "# wave(um)\n",
                "eps = [\n",
                "    -189.0 + 25.36im,\n",
                "    -125.4 + 12.56im,\n",
                "    -90.43 + 8.19im,\n",
                "    -66.22 + 5.70im,\n",
                "    -51.05 + 3.86im,\n",
                "    -40.27 + 2.79im,\n",
                "    -32.04 + 1.93im,\n",
                "    -25.81 + 1.63im,\n",
                "    -20.61 + 1.27im,\n",
                "    -16.82 + 1.07im,\n",
                "    -13.65 + 1.04im,\n",
                "    -10.66 + 1.37im,\n",
                "    -8.11 + 1.66im,\n",
                "    -5.84 + 2.11im,\n",
                "    -3.95 + 2.58im,\n",
                "    -2.28 + 3.81im,\n",
                "    -1.70 + 4.84im,\n",
                "    -1.76 + 5.28im,\n",
                "    -1.69 + 5.65im,\n",
                "    -1.70 + 5.72im,\n",
                "    -1.65 + 5.74im,\n",
                "    -1.60 + 5.64im,\n",
                "    -1.40 + 5.61im,\n",
                "    -1.23 + 5.60im,\n",
                "    -1.31 + 5.54im,\n",
                "    -1.36 + 5.57im,\n",
                "    -1.23 + 5.85im,\n",
                "    -1.24 + 5.79im,\n",
                "    -1.23 + 5.78im,\n",
                "    -1.31 + 5.60im,\n",
                "    -1.33 + 5.49im,\n",
                "    -1.37 + 5.28im,\n",
                "    -1.35 + 4.98im,\n",
                "    -1.24 + 4.72im,\n",
                "    -1.08 + 4.49im,\n",
                "    -0.89 + 4.34im,\n",
                "    -0.74 + 4.16im,\n",
                "    -0.62 + 4.06im,\n",
                "    -0.55 + 3.89im,\n",
                "    -0.42 + 3.83im,\n",
                "    -0.35 + 3.71im,\n",
                "    -0.23 + 3.61im,\n",
                "    -0.13 + 3.51im,\n",
                "    -0.01 + 3.39im,\n",
                "    0.14 + 3.40im,\n",
                "    0.20 + 3.33im,\n",
                "    0.29 + 3.29im,\n",
                "    0.30 + 3.18im,\n",
                "    0.23 + 3.04im\n",
                "]\n",
                "\n",
                "lambda = [\n",
                "    1.937,\n",
                "    1.610,\n",
                "    1.393,\n",
                "    1.216,\n",
                "    1.088,\n",
                "    0.9840,\n",
                "    0.8920,\n",
                "    0.8211,\n",
                "    0.7560,\n",
                "    0.7045,\n",
                "    0.6595,\n",
                "    0.6168,\n",
                "    0.5821,\n",
                "    0.5486,\n",
                "    0.5209,\n",
                "    0.4959,\n",
                "    0.4714,\n",
                "    0.4509,\n",
                "    0.4305,\n",
                "    0.4133,\n",
                "    0.3974,\n",
                "    0.3815,\n",
                "    0.3679,\n",
                "    0.3542,\n",
                "    0.3425,\n",
                "    0.3315,\n",
                "    0.3204,\n",
                "    0.3107,\n",
                "    0.3009,\n",
                "    0.2924,\n",
                "    0.2844,\n",
                "    0.2761,\n",
                "    0.2689,\n",
                "    0.2616,\n",
                "    0.2551,\n",
                "    0.2490,\n",
                "    0.2426,\n",
                "    0.2371,\n",
                "    0.2313,\n",
                "    0.2262,\n",
                "    0.2214,\n",
                "    0.2164,\n",
                "    0.2119,\n",
                "    0.2073,\n",
                "    0.2033,\n",
                "    0.1993,\n",
                "    0.1953,\n",
                "    0.1916,\n",
                "    0.1879\n",
                "]\n",
                "\n"
            ],
            "outputs": [],
            "metadata": {}
        },
        {
            "cell_type": "code",
            "execution_count": null,
            "source": [
                "m = PermittivityTable(lambda, eps)\n",
                "\n",
                "l = LinRange(minimum(lambda), maximum(lambda), 1000)\n",
                "# l = LinRange(0., maximum(lambda), 1000)\n",
                "e = permittivity(m, l)\n",
                "size(e)"
            ],
            "outputs": [],
            "metadata": {}
        },
        {
            "cell_type": "code",
            "execution_count": null,
            "source": [
                "# scatter(lambda, real(eps), xaxis=:log)\n",
                "scatter(lambda, real(eps))\n",
                "plot!(l, real(e))"
            ],
            "outputs": [],
            "metadata": {}
        },
        {
            "cell_type": "code",
            "execution_count": null,
            "source": [
                "# scatter(lambda, imag(eps), xaxis=:log)\n",
                "scatter(lambda, imag(eps))\n",
                "plot!(l, imag(e))"
            ],
            "outputs": [],
            "metadata": {}
        },
        {
            "cell_type": "code",
            "execution_count": null,
            "source": [],
            "outputs": [],
            "metadata": {}
        }
    ],
    "metadata": {
        "orig_nbformat": 4,
        "language_info": {
            "name": "julia",
            "version": "1.6.3",
            "mimetype": "application/julia",
            "file_extension": ".jl"
        },
        "kernelspec": {
            "display_name": "Julia 1.6.3",
            "language": "julia",
            "name": "julia-1.6"
        }
    },
    "nbformat": 4,
    "nbformat_minor": 2
}