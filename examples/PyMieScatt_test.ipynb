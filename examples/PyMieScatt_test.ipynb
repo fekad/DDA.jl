{
 "cells": [
  {
   "cell_type": "code",
   "execution_count": 1,
   "id": "c24514bb",
   "metadata": {},
   "outputs": [],
   "source": [
    "#  conda create -n pymiescatt numpy scipy matplotlib shapely jupyter\n",
    "#  conda activate pymiescatt\n",
    "#  pip install PyMieScatt"
   ]
  },
  {
   "cell_type": "code",
   "execution_count": 2,
   "id": "591e6844",
   "metadata": {},
   "outputs": [],
   "source": [
    "import PyMieScatt as ps\n",
    "import numpy as np\n",
    "import matplotlib.pyplot as plt"
   ]
  },
  {
   "cell_type": "code",
   "execution_count": null,
   "id": "0d6dd009",
   "metadata": {},
   "outputs": [],
   "source": []
  },
  {
   "cell_type": "code",
   "execution_count": 3,
   "id": "97abf022",
   "metadata": {},
   "outputs": [
    {
     "data": {
      "text/plain": [
       "{'Qext': 0.04119422717013906,\n",
       " 'Qsca': 0.0001286889121979507,\n",
       " 'Qabs': 0.04106553825794111,\n",
       " 'g': 0.005955730784099353,\n",
       " 'Qpr': 0.041193460733623115,\n",
       " 'Qback': 0.00019026121910254717,\n",
       " 'Qratio': 1.4784585233721244}"
      ]
     },
     "execution_count": 3,
     "metadata": {},
     "output_type": "execute_result"
    }
   ],
   "source": [
    "ps.MieQ(1.33+0.1j, 870, 50, asDict=True)"
   ]
  },
  {
   "cell_type": "code",
   "execution_count": 4,
   "id": "56022b84",
   "metadata": {
    "scrolled": true
   },
   "outputs": [
    {
     "data": {
      "text/plain": [
       "(0.04119422717013906,\n",
       " 0.0001286889121979507,\n",
       " 0.04106553825794111,\n",
       " 0.005955730784099353,\n",
       " 0.041193460733623115,\n",
       " 0.00019026121910254717,\n",
       " 1.4784585233721244)"
      ]
     },
     "execution_count": 4,
     "metadata": {},
     "output_type": "execute_result"
    }
   ],
   "source": [
    "ps.MieQ(1.33+0.1j, 870, 50)"
   ]
  },
  {
   "cell_type": "code",
   "execution_count": 22,
   "id": "c4db218f",
   "metadata": {},
   "outputs": [
    {
     "data": {
      "text/plain": [
       "(0, 0, 0, 1.5, 0, 0, 0)"
      ]
     },
     "execution_count": 22,
     "metadata": {},
     "output_type": "execute_result"
    }
   ],
   "source": [
    "ps.RayleighMieQ(1.33+0.01j, 870, 0)"
   ]
  },
  {
   "cell_type": "code",
   "execution_count": 21,
   "id": "8f6b32b3",
   "metadata": {
    "scrolled": true
   },
   "outputs": [
    {
     "data": {
      "text/plain": [
       "(0.0041753430994240295,\n",
       " 0.00011805645915412197,\n",
       " 0.004057286640269908,\n",
       " 0,\n",
       " 0.0041753430994240295,\n",
       " 0.00017708468873118297,\n",
       " 1.5)"
      ]
     },
     "execution_count": 21,
     "metadata": {},
     "output_type": "execute_result"
    }
   ],
   "source": [
    "ps.RayleighMieQ(1.33+0.01j, 870, 50)"
   ]
  },
  {
   "cell_type": "code",
   "execution_count": 25,
   "id": "e60671e8",
   "metadata": {},
   "outputs": [],
   "source": [
    "import numpy as np\n",
    "\n",
    "def RayleighMieQ(m, wavelength, diameter, nMedium=1.0, asDict=False, asCrossSection=False):\n",
    "    #  http://pymiescatt.readthedocs.io/en/latest/forward.html#RayleighMieQ\n",
    "    nMedium = nMedium.real\n",
    "    m /= nMedium\n",
    "    wavelength /= nMedium\n",
    "    x = np.pi*diameter/wavelength\n",
    "    print(x, m)\n",
    "    if x==0:\n",
    "        return 0, 0, 0, 1.5, 0, 0, 0\n",
    "    elif x>0:\n",
    "        LL = (m**2-1)/(m**2+2) # Lorentz-Lorenz term\n",
    "        LLabsSq = np.abs(LL)**2\n",
    "        print(LLabsSq)\n",
    "        qsca = 8*LLabsSq*(x**4)/3 # B&H eq 5.8\n",
    "        qabs=4*x*LL.imag # B&H eq. 5.11\n",
    "        qext=qsca+qabs\n",
    "        qback = 1.5*qsca # B&H eq. 5.9\n",
    "        qratio = 1.5\n",
    "        g = 0\n",
    "        qpr = qext\n",
    "        if asCrossSection:\n",
    "            css = np.pi*(diameter/2)**2\n",
    "            cext = css*qext\n",
    "            csca = css*qsca\n",
    "            cabs = css*qabs\n",
    "            cpr = css*qpr\n",
    "            cback = css*qback\n",
    "            cratio = css*qratio\n",
    "            if asDict:\n",
    "                return dict(Cext=cext,Csca=csca,Cabs=cabs,g=g,Cpr=cpr,Cback=cback,Cratio=cratio)\n",
    "            else:\n",
    "                return cext, csca, cabs, g, cpr, cback, cratio\n",
    "        else:\n",
    "            if asDict:\n",
    "                return dict(Qext=qext,Qsca=qsca,Qabs=qabs,g=g,Qpr=qpr,Qback=qback,Qratio=qratio)\n",
    "            else:\n",
    "                return qext, qsca, qabs, g, qpr, qback, qratio"
   ]
  },
  {
   "cell_type": "code",
   "execution_count": 26,
   "id": "92ddab72",
   "metadata": {},
   "outputs": [
    {
     "name": "stdout",
     "output_type": "stream",
     "text": [
      "0.18055130193044788 (1.33+0.01j)\n",
      "0.041659928807373924\n"
     ]
    },
    {
     "data": {
      "text/plain": [
       "(0.0041753430994240295,\n",
       " 0.00011805645915412197,\n",
       " 0.004057286640269908,\n",
       " 0,\n",
       " 0.0041753430994240295,\n",
       " 0.00017708468873118297,\n",
       " 1.5)"
      ]
     },
     "execution_count": 26,
     "metadata": {},
     "output_type": "execute_result"
    }
   ],
   "source": [
    "RayleighMieQ(1.33+0.01j, 870, 50)"
   ]
  },
  {
   "cell_type": "code",
   "execution_count": 87,
   "id": "e7a387e8",
   "metadata": {},
   "outputs": [],
   "source": [
    "import numpy as np\n",
    "from scipy.special import jv, yv\n",
    "from scipy.integrate import trapz\n",
    "def MieQ(m, wavelength, diameter, nMedium=1.0, asDict=False, asCrossSection=False):\n",
    "#  http://pymiescatt.readthedocs.io/en/latest/forward.html#MieQ\n",
    "    nMedium = nMedium.real\n",
    "    m /= nMedium\n",
    "    wavelength /= nMedium\n",
    "    x = np.pi*diameter/wavelength\n",
    "#     if x==0:\n",
    "#         return 0, 0, 0, 1.5, 0, 0, 0\n",
    "#     elif x<=0.05:\n",
    "#         return RayleighMieQ(m, wavelength, diameter, nMedium, asDict)\n",
    "#     elif x>0.05:\n",
    "    nmax = np.round(2+x+4*(x**(1/3)))\n",
    "    n = np.arange(1,nmax+1)\n",
    "    n1 = 2*n+1\n",
    "    n2 = n*(n+2)/(n+1)\n",
    "    n3 = n1/(n*(n+1))\n",
    "    x2 = x**2\n",
    "\n",
    "#         print((m,x))\n",
    "    an,bn = Mie_ab(m,x)\n",
    "\n",
    "    qext = (2/x2)*np.sum(n1*(an.real+bn.real))\n",
    "    qsca = (2/x2)*np.sum(n1*(an.real**2+an.imag**2+bn.real**2+bn.imag**2))\n",
    "    qabs = qext-qsca\n",
    "    print(qabs)\n",
    "    g1 = [an.real[1:int(nmax)],\n",
    "                an.imag[1:int(nmax)],\n",
    "                bn.real[1:int(nmax)],\n",
    "                bn.imag[1:int(nmax)]]\n",
    "    g1 = [np.append(x, 0.0) for x in g1]\n",
    "    g = (4/(qsca*x2))*np.sum((n2*(an.real*g1[0]+an.imag*g1[1]+bn.real*g1[2]+bn.imag*g1[3]))+(n3*(an.real*bn.real+an.imag*bn.imag)))\n",
    "\n",
    "    qpr = qext-qsca*g\n",
    "    qback = (1/x2)*(np.abs(np.sum(n1*((-1)**n)*(an-bn)))**2)\n",
    "    qratio = qback/qsca\n",
    "    if asCrossSection:\n",
    "        css = np.pi*(diameter/2)**2\n",
    "        cext = css*qext\n",
    "        csca = css*qsca\n",
    "        cabs = css*qabs\n",
    "        cpr = css*qpr\n",
    "        cback = css*qback\n",
    "        cratio = css*qratio\n",
    "        if asDict:\n",
    "            return dict(Cext=cext,Csca=csca,Cabs=cabs,g=g,Cpr=cpr,Cback=cback,Cratio=cratio)\n",
    "        else:\n",
    "            return cext, csca, cabs, g, cpr, cback, cratio\n",
    "    else:\n",
    "        if asDict:\n",
    "            return dict(Qext=qext,Qsca=qsca,Qabs=qabs,g=g,Qpr=qpr,Qback=qback,Qratio=qratio)\n",
    "        else:\n",
    "            return qext, qsca, qabs, g, qpr, qback, qratio\n",
    "\n",
    "def Mie_ab(m,x):\n",
    "#  http://pymiescatt.readthedocs.io/en/latest/forward.html#Mie_ab\n",
    "    mx = m*x\n",
    "    nmax = np.round(2+x+4*(x**(1/3)))\n",
    "    nmx = np.round(max(nmax,np.abs(mx))+16)\n",
    "    n = np.arange(1,nmax+1) #\n",
    "    nu = n + 0.5 #\n",
    "    \n",
    "    sx = np.sqrt(0.5*np.pi*x)\n",
    "\n",
    "    px = sx*jv(nu,x) #\n",
    "\n",
    "    p1x = np.append(np.sin(x), px[0:int(nmax)-1]) #\n",
    "\n",
    "    chx = -sx*yv(nu,x) #\n",
    "    ch1x = np.append(np.cos(x), chx[0:int(nmax)-1]) #\n",
    "    \n",
    "    gsx = px-(0+1j)*chx #\n",
    "    gs1x = p1x-(0+1j)*ch1x #\n",
    "\n",
    "    # B&H Equation 4.89\n",
    "    Dn = np.zeros(int(nmx),dtype=complex)\n",
    "    for i in range(int(nmx)-1,1,-1):\n",
    "        Dn[i-1] = (i/mx)-(1/(Dn[i]+i/mx))\n",
    "\n",
    "        \n",
    "    D = Dn[1:int(nmax)+1] # Dn(mx), drop terms beyond nMax\n",
    "    da = D/m+n/x\n",
    "    db = m*D+n/x\n",
    "\n",
    "    an = (da*px-p1x)/(da*gsx-gs1x)\n",
    "    bn = (db*px-p1x)/(db*gsx-gs1x)\n",
    "#     print(an, bn)\n",
    "\n",
    "    return an, bn"
   ]
  },
  {
   "cell_type": "code",
   "execution_count": null,
   "id": "41ef887a",
   "metadata": {},
   "outputs": [],
   "source": []
  },
  {
   "cell_type": "code",
   "execution_count": null,
   "id": "4f5b3f24",
   "metadata": {},
   "outputs": [],
   "source": []
  },
  {
   "cell_type": "code",
   "execution_count": null,
   "id": "fe165934",
   "metadata": {},
   "outputs": [],
   "source": []
  },
  {
   "cell_type": "code",
   "execution_count": null,
   "id": "672c6ee5",
   "metadata": {},
   "outputs": [],
   "source": []
  },
  {
   "cell_type": "code",
   "execution_count": null,
   "id": "d878859e",
   "metadata": {},
   "outputs": [],
   "source": []
  },
  {
   "cell_type": "code",
   "execution_count": 88,
   "id": "43a68d77",
   "metadata": {},
   "outputs": [
    {
     "name": "stdout",
     "output_type": "stream",
     "text": [
      "8.114573280539818e-11\n"
     ]
    },
    {
     "data": {
      "text/plain": [
       "(8.114573280539818e-11,\n",
       " 1.888903346465918e-35,\n",
       " 8.114573280539818e-11,\n",
       " -9.254709628125125e-15,\n",
       " 8.114573280539818e-11,\n",
       " 2.83335501969893e-35,\n",
       " 1.500000000000028)"
      ]
     },
     "execution_count": 88,
     "metadata": {},
     "output_type": "execute_result"
    }
   ],
   "source": [
    "MieQ(1.33+0.01j, 870, 0.000001)"
   ]
  },
  {
   "cell_type": "code",
   "execution_count": null,
   "id": "d7e0a24a",
   "metadata": {},
   "outputs": [],
   "source": []
  },
  {
   "cell_type": "code",
   "execution_count": null,
   "id": "b0715ef7",
   "metadata": {},
   "outputs": [],
   "source": []
  },
  {
   "cell_type": "code",
   "execution_count": null,
   "id": "11e29656",
   "metadata": {},
   "outputs": [],
   "source": []
  },
  {
   "cell_type": "code",
   "execution_count": 89,
   "id": "092c68f6",
   "metadata": {},
   "outputs": [
    {
     "data": {
      "text/plain": [
       "(array([2.27711770e-05-7.99538247e-04j, 3.97066701e-08-1.49919804e-06j,\n",
       "        3.40574920e-11-1.30842204e-09j, 1.68268918e-14-6.52532841e-13j]),\n",
       " array([1.13446052e-07-3.27061389e-06j, 1.05488115e-10-3.04543257e-09j,\n",
       "        5.45689508e-14-1.57613599e-12j, 1.79686608e-17-5.19111813e-16j]))"
      ]
     },
     "execution_count": 89,
     "metadata": {},
     "output_type": "execute_result"
    }
   ],
   "source": [
    "Mie_ab((1.33+0.01j), 0.18055130193044788)\n"
   ]
  },
  {
   "cell_type": "code",
   "execution_count": null,
   "id": "95c57a03",
   "metadata": {},
   "outputs": [],
   "source": []
  },
  {
   "cell_type": "code",
   "execution_count": 134,
   "id": "211491b3",
   "metadata": {},
   "outputs": [],
   "source": [
    "def ScatteringFunction(m, wavelength, diameter, nMedium=1.0, minAngle=0, maxAngle=180, angularResolution=0.5, space='theta', angleMeasure='radians', normalization=None):\n",
    "#  http://pymiescatt.readthedocs.io/en/latest/forward.html#ScatteringFunction\n",
    "    nMedium = nMedium.real\n",
    "    m /= nMedium\n",
    "    wavelength /= nMedium\n",
    "    x = np.pi*diameter/wavelength\n",
    "\n",
    "    _steps = int(1+(maxAngle-minAngle)/angularResolution) # default 361\n",
    "    \n",
    "    if angleMeasure in ['radians','RADIANS','rad','RAD']:\n",
    "        adjust = np.pi/180\n",
    "    elif angleMeasure in ['gradians','GRADIANS','grad','GRAD']:\n",
    "        adjust = 1/200\n",
    "    else:\n",
    "        adjust = 1\n",
    "\n",
    "    if space in ['q','qspace','QSPACE','qSpace']:\n",
    "        # _steps *= 10\n",
    "        _steps += 1\n",
    "        if minAngle==0:\n",
    "            minAngle = 1e-5\n",
    "        #measure = np.logspace(np.log10(minAngle),np.log10(maxAngle),_steps)*np.pi/180\n",
    "        measure = np.linspace(minAngle, maxAngle, _steps)*np.pi/180\n",
    "        _q = True\n",
    "    else:\n",
    "        measure = np.linspace(minAngle,maxAngle,_steps)*adjust\n",
    "        _q = False\n",
    "    if x == 0:\n",
    "        return measure,0,0,0\n",
    "    _measure = np.linspace(minAngle,maxAngle,_steps)*np.pi/180\n",
    "\n",
    "    SL = np.zeros(_steps)\n",
    "    SR = np.zeros(_steps)\n",
    "    SU = np.zeros(_steps)\n",
    "    for j in range(_steps):\n",
    "        u = np.cos(_measure[j])\n",
    "        S1, S2 = MieS1S2(m,x,u)\n",
    "        SL[j] = (np.sum(np.conjugate(S1)*S1)).real\n",
    "        SR[j] = (np.sum(np.conjugate(S2)*S2)).real\n",
    "        SU[j] = (SR[j]+SL[j])/2\n",
    "    if normalization in ['m','M','max','MAX']:\n",
    "        SL /= np.max(SL)\n",
    "        SR /= np.max(SR)\n",
    "        SU /= np.max(SU)\n",
    "    elif normalization in ['t','T','total','TOTAL']:\n",
    "        SL /= trapz(SL,measure)\n",
    "        SR /= trapz(SR,measure)\n",
    "        SU /= trapz(SU,measure)\n",
    "    if _q:\n",
    "        measure = (4*np.pi/wavelength)*np.sin(measure/2)*(diameter/2)\n",
    "    return measure,SL,SR,SU\n",
    "\n",
    "\n",
    "def MieS1S2(m,x,mu):\n",
    "#  http://pymiescatt.readthedocs.io/en/latest/forward.html#MieS1S2\n",
    "    nmax = np.round(2+x+4*np.power(x,1/3))\n",
    "    an, bn = Mie_ab(m,x)\n",
    "    pin, taun = MiePiTau(mu,nmax)\n",
    "\n",
    "    n = np.arange(1,int(nmax)+1)\n",
    "    n2 = (2*n+1)/(n*(n+1))\n",
    "\n",
    "    S1 = np.sum(n2[0:len(an)]*(an*pin[0:len(an)]+bn*taun[0:len(bn)]))\n",
    "    S2 = np.sum(n2[0:len(an)]*(an*taun[0:len(an)]+bn*pin[0:len(bn)]))\n",
    "\n",
    "    return S1, S2\n",
    "\n",
    "def MiePiTau(mu,nmax):\n",
    "#  http://pymiescatt.readthedocs.io/en/latest/forward.html#MiePiTau\n",
    "    p = np.zeros(int(nmax))\n",
    "    t = np.zeros(int(nmax))\n",
    "\n",
    "    p[0] = 1\n",
    "    p[1] = 3*mu\n",
    "    t[0] = mu\n",
    "    t[1] = 3.0*np.cos(2*np.arccos(mu))\n",
    "    for n in range(2,int(nmax)):\n",
    "        p[n] = ((2*n+1)*(mu*p[n-1])-(n+1)*p[n-2])/n\n",
    "        t[n] = (n+1)*mu*p[n]-(n+2)*p[n-1]\n",
    "\n",
    "    return p, t\n"
   ]
  },
  {
   "cell_type": "code",
   "execution_count": null,
   "id": "5d5e0eb9",
   "metadata": {},
   "outputs": [],
   "source": []
  },
  {
   "cell_type": "code",
   "execution_count": 135,
   "id": "0a624658",
   "metadata": {
    "scrolled": false
   },
   "outputs": [
    {
     "data": {
      "image/png": "[encoded data removed]",
      "text/plain": [
       "<Figure size 720x432 with 1 Axes>"
      ]
     },
     "metadata": {
      "needs_background": "light"
     },
     "output_type": "display_data"
    }
   ],
   "source": [
    "m=1.7+0.5j\n",
    "w=532\n",
    "d=5000\n",
    "\n",
    "theta,SL,SR,SU = ScatteringFunction(m,w,d);\n",
    "\n",
    "fig1 = plt.figure(figsize=(10,6))\n",
    "fig1.suptitle(\"Scattering Intensity Functions\")\n",
    "\n",
    "ax1 = fig1.add_subplot(1,1,1)\n",
    "ax1.semilogy(theta, SL, label=\"Parallel Polarization\")\n",
    "ax1.semilogy(theta, SR, label=\"Perpendicular Polarization\")\n",
    "ax1.semilogy(theta, SU, label=\"Unpolarized\")\n",
    "\n",
    "ax1.set_xlabel(\"ϴ\")\n",
    "x_label = [\"0\", r\"$\\mathregular{\\frac{\\pi}{4}}$\", r\"$\\mathregular{\\frac{\\pi}{2}}$\",r\"$\\mathregular{\\frac{3\\pi}{4}}$\",r\"$\\mathregular{\\pi}$\"]\n",
    "x_tick = [0,np.pi/4,np.pi/2,3*np.pi/4,np.pi]\n",
    "ax1.set_xticks(x_tick)\n",
    "ax1.set_xticklabels(x_label)\n",
    "ax1.set_ylabel(r\"Intensity ($\\mathregular{|S|^2}$)\")\n",
    "\n",
    "plt.legend()\n",
    "plt.show()\n"
   ]
  },
  {
   "cell_type": "code",
   "execution_count": null,
   "id": "72c57851",
   "metadata": {},
   "outputs": [],
   "source": []
  },
  {
   "cell_type": "code",
   "execution_count": null,
   "id": "cd75092d",
   "metadata": {},
   "outputs": [],
   "source": []
  },
  {
   "cell_type": "code",
   "execution_count": null,
   "id": "320d222d",
   "metadata": {},
   "outputs": [],
   "source": []
  },
  {
   "cell_type": "code",
   "execution_count": null,
   "id": "ebdd7706",
   "metadata": {},
   "outputs": [],
   "source": []
  },
  {
   "cell_type": "code",
   "execution_count": null,
   "id": "348740b7",
   "metadata": {},
   "outputs": [],
   "source": []
  },
  {
   "cell_type": "code",
   "execution_count": null,
   "id": "7de05c4e",
   "metadata": {},
   "outputs": [],
   "source": []
  },
  {
   "cell_type": "code",
   "execution_count": null,
   "id": "42d14da5",
   "metadata": {},
   "outputs": [],
   "source": []
  },
  {
   "cell_type": "code",
   "execution_count": null,
   "id": "97abc502",
   "metadata": {},
   "outputs": [],
   "source": []
  },
  {
   "cell_type": "code",
   "execution_count": null,
   "id": "989dc15f",
   "metadata": {},
   "outputs": [],
   "source": []
  },
  {
   "cell_type": "code",
   "execution_count": null,
   "id": "9571fbd6",
   "metadata": {},
   "outputs": [],
   "source": []
  },
  {
   "cell_type": "code",
   "execution_count": null,
   "id": "3bb8e6c3",
   "metadata": {},
   "outputs": [],
   "source": []
  },
  {
   "cell_type": "code",
   "execution_count": null,
   "id": "1f299be3",
   "metadata": {},
   "outputs": [],
   "source": []
  },
  {
   "cell_type": "code",
   "execution_count": null,
   "id": "2b416426",
   "metadata": {},
   "outputs": [],
   "source": []
  },
  {
   "cell_type": "code",
   "execution_count": null,
   "id": "38b6a99b",
   "metadata": {},
   "outputs": [],
   "source": []
  },
  {
   "cell_type": "code",
   "execution_count": null,
   "id": "5a33a497",
   "metadata": {},
   "outputs": [],
   "source": []
  },
  {
   "cell_type": "code",
   "execution_count": null,
   "id": "f2395377",
   "metadata": {},
   "outputs": [],
   "source": []
  },
  {
   "cell_type": "code",
   "execution_count": null,
   "id": "e938e6f5",
   "metadata": {},
   "outputs": [],
   "source": []
  }
 ],
 "metadata": {
  "interpreter": {
   "hash": "262d35cc04ba3798c288ac1885c582df3e6c9c9d57ef53e44c04c1109cb68079"
  },
  "kernelspec": {
   "display_name": "Python 3.9.5 64-bit ('surfascope': conda)",
   "name": "python3"
  },
  "language_info": {
   "codemirror_mode": {
    "name": "ipython",
    "version": 3
   },
   "file_extension": ".py",
   "mimetype": "text/x-python",
   "name": "python",
   "nbconvert_exporter": "python",
   "pygments_lexer": "ipython3",
   "version": "3.9.5"
  }
 },
 "nbformat": 4,
 "nbformat_minor": 5
}
