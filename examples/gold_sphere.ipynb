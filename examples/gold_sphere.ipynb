{
    "cells": [
        {
            "cell_type": "markdown",
            "source": [
                "# Caclulation of Gold sphere"
            ],
            "metadata": {}
        },
        {
            "cell_type": "code",
            "execution_count": 2,
            "source": [
                "using DDA, Plots \n",
                "plotlyjs()"
            ],
            "outputs": [
                {
                    "data": {
                        "text/plain": [
                            "Plots.PlotlyJSBackend()"
                        ]
                    },
                    "metadata": {},
                    "output_type": "display_data"
                }
            ],
            "metadata": {}
        },
        {
            "cell_type": "code",
            "execution_count": 3,
            "source": [
                "# Gold, evaporated (Johnson & Christy 1972, PRB 6, 4370)\n",
                "# wave(um)\n",
                "eps = [\n",
                "    -189.0 + 25.36im,\n",
                "    -125.4 + 12.56im,\n",
                "    -90.43 + 8.19im,\n",
                "    -66.22 + 5.70im,\n",
                "    -51.05 + 3.86im,\n",
                "    -40.27 + 2.79im,\n",
                "    -32.04 + 1.93im,\n",
                "    -25.81 + 1.63im,\n",
                "    -20.61 + 1.27im,\n",
                "    -16.82 + 1.07im,\n",
                "    -13.65 + 1.04im,\n",
                "    -10.66 + 1.37im,\n",
                "    -8.11 + 1.66im,\n",
                "    -5.84 + 2.11im,\n",
                "    -3.95 + 2.58im,\n",
                "    -2.28 + 3.81im,\n",
                "    -1.70 + 4.84im,\n",
                "    -1.76 + 5.28im,\n",
                "    -1.69 + 5.65im,\n",
                "    -1.70 + 5.72im,\n",
                "    -1.65 + 5.74im,\n",
                "    -1.60 + 5.64im,\n",
                "    -1.40 + 5.61im,\n",
                "    -1.23 + 5.60im,\n",
                "    -1.31 + 5.54im,\n",
                "    -1.36 + 5.57im,\n",
                "    -1.23 + 5.85im,\n",
                "    -1.24 + 5.79im,\n",
                "    -1.23 + 5.78im,\n",
                "    -1.31 + 5.60im,\n",
                "    -1.33 + 5.49im,\n",
                "    -1.37 + 5.28im,\n",
                "    -1.35 + 4.98im,\n",
                "    -1.24 + 4.72im,\n",
                "    -1.08 + 4.49im,\n",
                "    -0.89 + 4.34im,\n",
                "    -0.74 + 4.16im,\n",
                "    -0.62 + 4.06im,\n",
                "    -0.55 + 3.89im,\n",
                "    -0.42 + 3.83im,\n",
                "    -0.35 + 3.71im,\n",
                "    -0.23 + 3.61im,\n",
                "    -0.13 + 3.51im,\n",
                "    -0.01 + 3.39im,\n",
                "    0.14 + 3.40im,\n",
                "    0.20 + 3.33im,\n",
                "    0.29 + 3.29im,\n",
                "    0.30 + 3.18im,\n",
                "    0.23 + 3.04im\n",
                "]\n",
                "\n",
                "lambda = [\n",
                "    1.937,\n",
                "    1.610,\n",
                "    1.393,\n",
                "    1.216,\n",
                "    1.088,\n",
                "    0.9840,\n",
                "    0.8920,\n",
                "    0.8211,\n",
                "    0.7560,\n",
                "    0.7045,\n",
                "    0.6595,\n",
                "    0.6168,\n",
                "    0.5821,\n",
                "    0.5486,\n",
                "    0.5209,\n",
                "    0.4959,\n",
                "    0.4714,\n",
                "    0.4509,\n",
                "    0.4305,\n",
                "    0.4133,\n",
                "    0.3974,\n",
                "    0.3815,\n",
                "    0.3679,\n",
                "    0.3542,\n",
                "    0.3425,\n",
                "    0.3315,\n",
                "    0.3204,\n",
                "    0.3107,\n",
                "    0.3009,\n",
                "    0.2924,\n",
                "    0.2844,\n",
                "    0.2761,\n",
                "    0.2689,\n",
                "    0.2616,\n",
                "    0.2551,\n",
                "    0.2490,\n",
                "    0.2426,\n",
                "    0.2371,\n",
                "    0.2313,\n",
                "    0.2262,\n",
                "    0.2214,\n",
                "    0.2164,\n",
                "    0.2119,\n",
                "    0.2073,\n",
                "    0.2033,\n",
                "    0.1993,\n",
                "    0.1953,\n",
                "    0.1916,\n",
                "    0.1879\n",
                "]\n",
                "\n",
                "m = PermittivityTable(lambda, eps);"
            ],
            "outputs": [
                {
                    "data": {
                        "text/plain": [
                            "PermittivityTable([1.937, 1.61, 1.393, 1.216, 1.088, 0.984, 0.892, 0.8211, 0.756, 0.7045  …  0.2262, 0.2214, 0.2164, 0.2119, 0.2073, 0.2033, 0.1993, 0.1953, 0.1916, 0.1879], ComplexF64[-189.0 + 25.36im, -125.4 + 12.56im, -90.43 + 8.19im, -66.22 + 5.7im, -51.05 + 3.86im, -40.27 + 2.79im, -32.04 + 1.93im, -25.81 + 1.63im, -20.61 + 1.27im, -16.82 + 1.07im  …  -0.42 + 3.83im, -0.35 + 3.71im, -0.23 + 3.61im, -0.13 + 3.51im, -0.01 + 3.39im, 0.14 + 3.4im, 0.2 + 3.33im, 0.29 + 3.29im, 0.3 + 3.18im, 0.23 + 3.04im], Spline1D(knots=[0.1879,0.1953 … 1.393,1.937] (47 elements), k=3, extrapolation=\"nearest\", residual=0.0), Spline1D(knots=[0.1879,0.1953 … 1.393,1.937] (47 elements), k=3, extrapolation=\"nearest\", residual=0.0))"
                        ]
                    },
                    "metadata": {},
                    "output_type": "display_data"
                }
            ],
            "metadata": {}
        },
        {
            "cell_type": "code",
            "execution_count": 7,
            "source": [
                "grid = DDA.CubicGrid(-1, 1, -1, 1, -1, 1, .1)\n",
                "sphere = DDA.Sphere([0,0,0], .5)\n",
                "\n",
                "dipoles = DDA.positions(grid, sphere)"
            ],
            "outputs": [
                {
                    "data": {
                        "text/plain": [
                            "515-element Vector{Vector{Float64}}:\n",
                            " [0.0, 0.0, -0.5]\n",
                            " [0.0, -0.3, -0.4]\n",
                            " [-0.2, -0.2, -0.4]\n",
                            " [-0.1, -0.2, -0.4]\n",
                            " [0.0, -0.2, -0.4]\n",
                            " [0.1, -0.2, -0.4]\n",
                            " [0.2, -0.2, -0.4]\n",
                            " [-0.2, -0.1, -0.4]\n",
                            " [-0.1, -0.1, -0.4]\n",
                            " [0.0, -0.1, -0.4]\n",
                            " ⋮\n",
                            " [0.1, 0.1, 0.4]\n",
                            " [0.2, 0.1, 0.4]\n",
                            " [-0.2, 0.2, 0.4]\n",
                            " [-0.1, 0.2, 0.4]\n",
                            " [0.0, 0.2, 0.4]\n",
                            " [0.1, 0.2, 0.4]\n",
                            " [0.2, 0.2, 0.4]\n",
                            " [0.0, 0.3, 0.4]\n",
                            " [0.0, 0.0, 0.5]"
                        ]
                    },
                    "metadata": {},
                    "output_type": "display_data"
                }
            ],
            "metadata": {}
        },
        {
            "cell_type": "code",
            "execution_count": 9,
            "source": [
                "# incident field \n",
                "\n",
                "E0 =[1, 1, 0]\n",
                "kvec = 2π * [0, 0, 1]\n",
                "\n",
                "Ei(r) = E_inc(E0, kvec, r)"
            ],
            "outputs": [
                {
                    "data": {
                        "text/plain": [
                            "Ei (generic function with 1 method)"
                        ]
                    },
                    "metadata": {},
                    "output_type": "display_data"
                }
            ],
            "metadata": {}
        },
        {
            "cell_type": "code",
            "execution_count": null,
            "source": [],
            "outputs": [],
            "metadata": {}
        }
    ],
    "metadata": {
        "orig_nbformat": 4,
        "language_info": {
            "name": "python"
        }
    },
    "nbformat": 4,
    "nbformat_minor": 2
}