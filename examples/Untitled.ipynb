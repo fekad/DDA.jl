{
 "cells": [
  {
   "cell_type": "code",
   "execution_count": 1,
   "source": [
    "import Pkg; Pkg.activate(\"..\")"
   ],
   "outputs": [],
   "metadata": {}
  },
  {
   "cell_type": "code",
   "execution_count": 2,
   "source": [
    "using Revise\n",
    "using DDA\n",
    "using Plots\n",
    "using LinearAlgebra\n",
    "using StaticArrays\n"
   ],
   "outputs": [],
   "metadata": {}
  },
  {
   "cell_type": "code",
   "execution_count": null,
   "source": [
    "1+1"
   ],
   "outputs": [],
   "metadata": {}
  },
  {
   "cell_type": "code",
   "execution_count": 32,
   "source": [
    "function E_inc(E0, kvec, r)\n",
    "    \n",
    "\n",
    "    field(r, E::PlaneWave) = E.E0 * exp(-im * dot(E.k, r))\n",
    "    field(r::Matrix, E::PlaneWave) = [field(ri, E) for ri in eachcol(r)]\n",
    "    \n",
    "\n",
    "end\n"
   ],
   "outputs": [],
   "metadata": {
    "scrolled": true
   }
  },
  {
   "cell_type": "code",
   "execution_count": null,
   "source": [
    "PyDDA"
   ],
   "outputs": [],
   "metadata": {}
  },
  {
   "cell_type": "code",
   "execution_count": null,
   "source": [],
   "outputs": [],
   "metadata": {}
  },
  {
   "cell_type": "code",
   "execution_count": null,
   "source": [],
   "outputs": [],
   "metadata": {}
  },
  {
   "cell_type": "code",
   "execution_count": null,
   "source": [],
   "outputs": [],
   "metadata": {}
  },
  {
   "cell_type": "code",
   "execution_count": 33,
   "source": [
    "# Lattice\n",
    "# Dipole coordinates\n",
    "# Polarizability\n",
    "# Solver\n",
    "# - incident field\n",
    "# - interaction matrix\n",
    "# - extinction scattering and absorption cress sections\n",
    "# - scattered and total field"
   ],
   "outputs": [],
   "metadata": {}
  },
  {
   "cell_type": "markdown",
   "source": [
    "Incident wave:\n",
    "$$\n",
    "E_{inc,j} = E_0 \\exp(-i k r_j - i \\omega t)\n",
    "$$"
   ],
   "metadata": {}
  },
  {
   "cell_type": "code",
   "execution_count": 148,
   "source": [
    "# lab frame vs target frame\n",
    "\n",
    "struct PlaneWave2\n",
    "    E0::Complex{Float64}\n",
    "    e::SVector{2,Complex{Float64}}\n",
    "    k::SVector{3,Float64}\n",
    "end"
   ],
   "outputs": [],
   "metadata": {}
  },
  {
   "cell_type": "markdown",
   "source": [],
   "metadata": {}
  },
  {
   "cell_type": "code",
   "execution_count": 149,
   "source": [
    "PlaneWave2(1+1im, [1,2], [1,2,3])"
   ],
   "outputs": [
    {
     "output_type": "execute_result",
     "data": {
      "text/plain": [
       "PlaneWave2(1.0 + 0.0im, ComplexF64[1.0 + 0.0im, 2.0 + 0.0im], [1.0, 2.0, 3.0])"
      ]
     },
     "metadata": {},
     "execution_count": 149
    }
   ],
   "metadata": {}
  },
  {
   "cell_type": "code",
   "execution_count": 144,
   "source": [
    "typeof(1. +im)"
   ],
   "outputs": [
    {
     "output_type": "execute_result",
     "data": {
      "text/plain": [
       "ComplexF64 (alias for Complex{Float64})"
      ]
     },
     "metadata": {},
     "execution_count": 144
    }
   ],
   "metadata": {}
  },
  {
   "cell_type": "code",
   "execution_count": 145,
   "source": [
    "[1,2]"
   ],
   "outputs": [
    {
     "output_type": "execute_result",
     "data": {
      "text/plain": [
       "2-element Vector{Int64}:\n",
       " 1\n",
       " 2"
      ]
     },
     "metadata": {},
     "execution_count": 145
    }
   ],
   "metadata": {}
  },
  {
   "cell_type": "code",
   "execution_count": null,
   "source": [],
   "outputs": [],
   "metadata": {}
  },
  {
   "cell_type": "code",
   "execution_count": 8,
   "source": [
    "\n",
    "E_0 = 1.\n",
    "k = [0, 0, 1.]\n",
    "r_n = [1, 1, 1]\n",
    "r = r_n * (0:0.1:10)'\n",
    "\n",
    "E_inc = DDA.PlaneWave(E_0, k)\n",
    "E = DDA.field(r[:,1], E_inc)\n",
    "E = DDA.field(r, E_inc)\n",
    "\n",
    "plot(real(E))\n"
   ],
   "outputs": [
    {
     "output_type": "execute_result",
     "data": {
      "image/svg+xml": "<?xml version=\"1.0\" encoding=\"utf-8\"?>\n<svg xmlns=\"http://www.w3.org/2000/svg\" xmlns:xlink=\"http://www.w3.org/1999/xlink\" width=\"600\" height=\"400\" viewBox=\"0 0 2400 1600\">\n<defs>\n  <clipPath id=\"clip670\">\n    <rect x=\"0\" y=\"0\" width=\"2400\" height=\"1600\"/>\n  </clipPath>\n</defs>\n<path clip-path=\"url(#clip670)\" d=\"\nM0 1600 L2400 1600 L2400 0 L0 0  Z\n  \" fill=\"#ffffff\" fill-rule=\"evenodd\" fill-opacity=\"1\"/>\n<defs>\n  <clipPath id=\"clip671\">\n    <rect x=\"480\" y=\"0\" width=\"1681\" height=\"1600\"/>\n  </clipPath>\n</defs>\n<path clip-path=\"url(#clip670)\" d=\"\nM193.936 1486.45 L2352.76 1486.45 L2352.76 47.2441 L193.936 47.2441  Z\n  \" fill=\"#ffffff\" fill-rule=\"evenodd\" fill-opacity=\"1\"/>\n<defs>\n  <clipPath id=\"clip672\">\n    <rect x=\"193\" y=\"47\" width=\"2160\" height=\"1440\"/>\n  </clipPath>\n</defs>\n<polyline clip-path=\"url(#clip672)\" style=\"stroke:#000000; stroke-width:2; stroke-opacity:0.1; fill:none\" points=\"\n  234.668,1486.45 234.668,47.2441 \n  \"/>\n<polyline clip-path=\"url(#clip672)\" style=\"stroke:#000000; stroke-width:2; stroke-opacity:0.1; fill:none\" points=\"\n  743.824,1486.45 743.824,47.2441 \n  \"/>\n<polyline clip-path=\"url(#clip672)\" style=\"stroke:#000000; stroke-width:2; stroke-opacity:0.1; fill:none\" points=\"\n  1252.98,1486.45 1252.98,47.2441 \n  \"/>\n<polyline clip-path=\"url(#clip672)\" style=\"stroke:#000000; stroke-width:2; stroke-opacity:0.1; fill:none\" points=\"\n  1762.14,1486.45 1762.14,47.2441 \n  \"/>\n<polyline clip-path=\"url(#clip672)\" style=\"stroke:#000000; stroke-width:2; stroke-opacity:0.1; fill:none\" points=\"\n  2271.29,1486.45 2271.29,47.2441 \n  \"/>\n<polyline clip-path=\"url(#clip670)\" style=\"stroke:#000000; stroke-width:4; stroke-opacity:1; fill:none\" points=\"\n  193.936,1486.45 2352.76,1486.45 \n  \"/>\n<polyline clip-path=\"url(#clip670)\" style=\"stroke:#000000; stroke-width:4; stroke-opacity:1; fill:none\" points=\"\n  234.668,1486.45 234.668,1469.18 \n  \"/>\n<polyline clip-path=\"url(#clip670)\" style=\"stroke:#000000; stroke-width:4; stroke-opacity:1; fill:none\" points=\"\n  743.824,1486.45 743.824,1469.18 \n  \"/>\n<polyline clip-path=\"url(#clip670)\" style=\"stroke:#000000; stroke-width:4; stroke-opacity:1; fill:none\" points=\"\n  1252.98,1486.45 1252.98,1469.18 \n  \"/>\n<polyline clip-path=\"url(#clip670)\" style=\"stroke:#000000; stroke-width:4; stroke-opacity:1; fill:none\" points=\"\n  1762.14,1486.45 1762.14,1469.18 \n  \"/>\n<polyline clip-path=\"url(#clip670)\" style=\"stroke:#000000; stroke-width:4; stroke-opacity:1; fill:none\" points=\"\n  2271.29,1486.45 2271.29,1469.18 \n  \"/>\n<path clip-path=\"url(#clip670)\" d=\"M 0 0 M234.668 1515.64 Q231.057 1515.64 229.229 1519.2 Q227.423 1522.75 227.423 1529.87 Q227.423 1536.98 229.229 1540.55 Q231.057 1544.09 234.668 1544.09 Q238.303 1544.09 240.108 1540.55 Q241.937 1536.98 241.937 1529.87 Q241.937 1522.75 240.108 1519.2 Q238.303 1515.64 234.668 1515.64 M234.668 1511.93 Q240.479 1511.93 243.534 1516.54 Q246.613 1521.12 246.613 1529.87 Q246.613 1538.6 243.534 1543.21 Q240.479 1547.79 234.668 1547.79 Q228.858 1547.79 225.78 1543.21 Q222.724 1538.6 222.724 1529.87 Q222.724 1521.12 225.78 1516.54 Q228.858 1511.93 234.668 1511.93 Z\" fill=\"#000000\" fill-rule=\"evenodd\" fill-opacity=\"1\" /><path clip-path=\"url(#clip670)\" d=\"M 0 0 M723.095 1543.18 L739.414 1543.18 L739.414 1547.12 L717.47 1547.12 L717.47 1543.18 Q720.132 1540.43 724.715 1535.8 Q729.322 1531.15 730.502 1529.81 Q732.748 1527.28 733.627 1525.55 Q734.53 1523.79 734.53 1522.1 Q734.53 1519.34 732.586 1517.61 Q730.664 1515.87 727.563 1515.87 Q725.364 1515.87 722.91 1516.63 Q720.479 1517.4 717.702 1518.95 L717.702 1514.23 Q720.526 1513.09 722.979 1512.51 Q725.433 1511.93 727.47 1511.93 Q732.84 1511.93 736.035 1514.62 Q739.229 1517.31 739.229 1521.8 Q739.229 1523.93 738.419 1525.85 Q737.632 1527.74 735.526 1530.34 Q734.947 1531.01 731.845 1534.23 Q728.743 1537.42 723.095 1543.18 Z\" fill=\"#000000\" fill-rule=\"evenodd\" fill-opacity=\"1\" /><path clip-path=\"url(#clip670)\" d=\"M 0 0 M749.275 1512.56 L767.632 1512.56 L767.632 1516.5 L753.558 1516.5 L753.558 1524.97 Q754.576 1524.62 755.595 1524.46 Q756.613 1524.27 757.632 1524.27 Q763.419 1524.27 766.799 1527.44 Q770.178 1530.62 770.178 1536.03 Q770.178 1541.61 766.706 1544.71 Q763.234 1547.79 756.914 1547.79 Q754.738 1547.79 752.47 1547.42 Q750.225 1547.05 747.817 1546.31 L747.817 1541.61 Q749.9 1542.74 752.123 1543.3 Q754.345 1543.86 756.822 1543.86 Q760.826 1543.86 763.164 1541.75 Q765.502 1539.64 765.502 1536.03 Q765.502 1532.42 763.164 1530.31 Q760.826 1528.21 756.822 1528.21 Q754.947 1528.21 753.072 1528.62 Q751.22 1529.04 749.275 1529.92 L749.275 1512.56 Z\" fill=\"#000000\" fill-rule=\"evenodd\" fill-opacity=\"1\" /><path clip-path=\"url(#clip670)\" d=\"M 0 0 M1227.68 1512.56 L1246.04 1512.56 L1246.04 1516.5 L1231.96 1516.5 L1231.96 1524.97 Q1232.98 1524.62 1234 1524.46 Q1235.02 1524.27 1236.04 1524.27 Q1241.82 1524.27 1245.2 1527.44 Q1248.58 1530.62 1248.58 1536.03 Q1248.58 1541.61 1245.11 1544.71 Q1241.64 1547.79 1235.32 1547.79 Q1233.14 1547.79 1230.87 1547.42 Q1228.63 1547.05 1226.22 1546.31 L1226.22 1541.61 Q1228.3 1542.74 1230.53 1543.3 Q1232.75 1543.86 1235.23 1543.86 Q1239.23 1543.86 1241.57 1541.75 Q1243.91 1539.64 1243.91 1536.03 Q1243.91 1532.42 1241.57 1530.31 Q1239.23 1528.21 1235.23 1528.21 Q1233.35 1528.21 1231.48 1528.62 Q1229.62 1529.04 1227.68 1529.92 L1227.68 1512.56 Z\" fill=\"#000000\" fill-rule=\"evenodd\" fill-opacity=\"1\" /><path clip-path=\"url(#clip670)\" d=\"M 0 0 M1267.79 1515.64 Q1264.18 1515.64 1262.35 1519.2 Q1260.55 1522.75 1260.55 1529.87 Q1260.55 1536.98 1262.35 1540.55 Q1264.18 1544.09 1267.79 1544.09 Q1271.43 1544.09 1273.23 1540.55 Q1275.06 1536.98 1275.06 1529.87 Q1275.06 1522.75 1273.23 1519.2 Q1271.43 1515.64 1267.79 1515.64 M1267.79 1511.93 Q1273.6 1511.93 1276.66 1516.54 Q1279.74 1521.12 1279.74 1529.87 Q1279.74 1538.6 1276.66 1543.21 Q1273.6 1547.79 1267.79 1547.79 Q1261.98 1547.79 1258.91 1543.21 Q1255.85 1538.6 1255.85 1529.87 Q1255.85 1521.12 1258.91 1516.54 Q1261.98 1511.93 1267.79 1511.93 Z\" fill=\"#000000\" fill-rule=\"evenodd\" fill-opacity=\"1\" /><path clip-path=\"url(#clip670)\" d=\"M 0 0 M1735.99 1512.56 L1758.21 1512.56 L1758.21 1514.55 L1745.67 1547.12 L1740.78 1547.12 L1752.59 1516.5 L1735.99 1516.5 L1735.99 1512.56 Z\" fill=\"#000000\" fill-rule=\"evenodd\" fill-opacity=\"1\" /><path clip-path=\"url(#clip670)\" d=\"M 0 0 M1767.38 1512.56 L1785.73 1512.56 L1785.73 1516.5 L1771.66 1516.5 L1771.66 1524.97 Q1772.68 1524.62 1773.7 1524.46 Q1774.72 1524.27 1775.73 1524.27 Q1781.52 1524.27 1784.9 1527.44 Q1788.28 1530.62 1788.28 1536.03 Q1788.28 1541.61 1784.81 1544.71 Q1781.34 1547.79 1775.02 1547.79 Q1772.84 1547.79 1770.57 1547.42 Q1768.33 1547.05 1765.92 1546.31 L1765.92 1541.61 Q1768 1542.74 1770.23 1543.3 Q1772.45 1543.86 1774.92 1543.86 Q1778.93 1543.86 1781.27 1541.75 Q1783.61 1539.64 1783.61 1536.03 Q1783.61 1532.42 1781.27 1530.31 Q1778.93 1528.21 1774.92 1528.21 Q1773.05 1528.21 1771.17 1528.62 Q1769.32 1529.04 1767.38 1529.92 L1767.38 1512.56 Z\" fill=\"#000000\" fill-rule=\"evenodd\" fill-opacity=\"1\" /><path clip-path=\"url(#clip670)\" d=\"M 0 0 M2230.9 1543.18 L2238.54 1543.18 L2238.54 1516.82 L2230.23 1518.49 L2230.23 1514.23 L2238.49 1512.56 L2243.17 1512.56 L2243.17 1543.18 L2250.81 1543.18 L2250.81 1547.12 L2230.9 1547.12 L2230.9 1543.18 Z\" fill=\"#000000\" fill-rule=\"evenodd\" fill-opacity=\"1\" /><path clip-path=\"url(#clip670)\" d=\"M 0 0 M2270.25 1515.64 Q2266.64 1515.64 2264.81 1519.2 Q2263 1522.75 2263 1529.87 Q2263 1536.98 2264.81 1540.55 Q2266.64 1544.09 2270.25 1544.09 Q2273.88 1544.09 2275.69 1540.55 Q2277.52 1536.98 2277.52 1529.87 Q2277.52 1522.75 2275.69 1519.2 Q2273.88 1515.64 2270.25 1515.64 M2270.25 1511.93 Q2276.06 1511.93 2279.12 1516.54 Q2282.19 1521.12 2282.19 1529.87 Q2282.19 1538.6 2279.12 1543.21 Q2276.06 1547.79 2270.25 1547.79 Q2264.44 1547.79 2261.36 1543.21 Q2258.3 1538.6 2258.3 1529.87 Q2258.3 1521.12 2261.36 1516.54 Q2264.44 1511.93 2270.25 1511.93 Z\" fill=\"#000000\" fill-rule=\"evenodd\" fill-opacity=\"1\" /><path clip-path=\"url(#clip670)\" d=\"M 0 0 M2300.41 1515.64 Q2296.8 1515.64 2294.97 1519.2 Q2293.17 1522.75 2293.17 1529.87 Q2293.17 1536.98 2294.97 1540.55 Q2296.8 1544.09 2300.41 1544.09 Q2304.05 1544.09 2305.85 1540.55 Q2307.68 1536.98 2307.68 1529.87 Q2307.68 1522.75 2305.85 1519.2 Q2304.05 1515.64 2300.41 1515.64 M2300.41 1511.93 Q2306.22 1511.93 2309.28 1516.54 Q2312.36 1521.12 2312.36 1529.87 Q2312.36 1538.6 2309.28 1543.21 Q2306.22 1547.79 2300.41 1547.79 Q2294.6 1547.79 2291.52 1543.21 Q2288.47 1538.6 2288.47 1529.87 Q2288.47 1521.12 2291.52 1516.54 Q2294.6 1511.93 2300.41 1511.93 Z\" fill=\"#000000\" fill-rule=\"evenodd\" fill-opacity=\"1\" /><polyline clip-path=\"url(#clip672)\" style=\"stroke:#000000; stroke-width:2; stroke-opacity:0.1; fill:none\" points=\"\n  193.936,1445.92 2352.76,1445.92 \n  \"/>\n<polyline clip-path=\"url(#clip672)\" style=\"stroke:#000000; stroke-width:2; stroke-opacity:0.1; fill:none\" points=\"\n  193.936,1106.44 2352.76,1106.44 \n  \"/>\n<polyline clip-path=\"url(#clip672)\" style=\"stroke:#000000; stroke-width:2; stroke-opacity:0.1; fill:none\" points=\"\n  193.936,766.95 2352.76,766.95 \n  \"/>\n<polyline clip-path=\"url(#clip672)\" style=\"stroke:#000000; stroke-width:2; stroke-opacity:0.1; fill:none\" points=\"\n  193.936,427.463 2352.76,427.463 \n  \"/>\n<polyline clip-path=\"url(#clip672)\" style=\"stroke:#000000; stroke-width:2; stroke-opacity:0.1; fill:none\" points=\"\n  193.936,87.9763 2352.76,87.9763 \n  \"/>\n<polyline clip-path=\"url(#clip670)\" style=\"stroke:#000000; stroke-width:4; stroke-opacity:1; fill:none\" points=\"\n  193.936,1486.45 193.936,47.2441 \n  \"/>\n<polyline clip-path=\"url(#clip670)\" style=\"stroke:#000000; stroke-width:4; stroke-opacity:1; fill:none\" points=\"\n  193.936,1445.92 219.842,1445.92 \n  \"/>\n<polyline clip-path=\"url(#clip670)\" style=\"stroke:#000000; stroke-width:4; stroke-opacity:1; fill:none\" points=\"\n  193.936,1106.44 219.842,1106.44 \n  \"/>\n<polyline clip-path=\"url(#clip670)\" style=\"stroke:#000000; stroke-width:4; stroke-opacity:1; fill:none\" points=\"\n  193.936,766.95 219.842,766.95 \n  \"/>\n<polyline clip-path=\"url(#clip670)\" style=\"stroke:#000000; stroke-width:4; stroke-opacity:1; fill:none\" points=\"\n  193.936,427.463 219.842,427.463 \n  \"/>\n<polyline clip-path=\"url(#clip670)\" style=\"stroke:#000000; stroke-width:4; stroke-opacity:1; fill:none\" points=\"\n  193.936,87.9763 219.842,87.9763 \n  \"/>\n<path clip-path=\"url(#clip670)\" d=\"M 0 0 M50.9921 1446.38 L80.6679 1446.38 L80.6679 1450.31 L50.9921 1450.31 L50.9921 1446.38 Z\" fill=\"#000000\" fill-rule=\"evenodd\" fill-opacity=\"1\" /><path clip-path=\"url(#clip670)\" d=\"M 0 0 M91.5706 1459.27 L99.2095 1459.27 L99.2095 1432.9 L90.8993 1434.57 L90.8993 1430.31 L99.1632 1428.64 L103.839 1428.64 L103.839 1459.27 L111.478 1459.27 L111.478 1463.2 L91.5706 1463.2 L91.5706 1459.27 Z\" fill=\"#000000\" fill-rule=\"evenodd\" fill-opacity=\"1\" /><path clip-path=\"url(#clip670)\" d=\"M 0 0 M120.922 1457.32 L125.807 1457.32 L125.807 1463.2 L120.922 1463.2 L120.922 1457.32 Z\" fill=\"#000000\" fill-rule=\"evenodd\" fill-opacity=\"1\" /><path clip-path=\"url(#clip670)\" d=\"M 0 0 M145.992 1431.72 Q142.381 1431.72 140.552 1435.29 Q138.746 1438.83 138.746 1445.96 Q138.746 1453.07 140.552 1456.63 Q142.381 1460.17 145.992 1460.17 Q149.626 1460.17 151.431 1456.63 Q153.26 1453.07 153.26 1445.96 Q153.26 1438.83 151.431 1435.29 Q149.626 1431.72 145.992 1431.72 M145.992 1428.02 Q151.802 1428.02 154.857 1432.63 Q157.936 1437.21 157.936 1445.96 Q157.936 1454.69 154.857 1459.29 Q151.802 1463.88 145.992 1463.88 Q140.181 1463.88 137.103 1459.29 Q134.047 1454.69 134.047 1445.96 Q134.047 1437.21 137.103 1432.63 Q140.181 1428.02 145.992 1428.02 Z\" fill=\"#000000\" fill-rule=\"evenodd\" fill-opacity=\"1\" /><path clip-path=\"url(#clip670)\" d=\"M 0 0 M51.9875 1106.89 L81.6633 1106.89 L81.6633 1110.82 L51.9875 1110.82 L51.9875 1106.89 Z\" fill=\"#000000\" fill-rule=\"evenodd\" fill-opacity=\"1\" /><path clip-path=\"url(#clip670)\" d=\"M 0 0 M101.756 1092.24 Q98.1447 1092.24 96.316 1095.8 Q94.5104 1099.34 94.5104 1106.47 Q94.5104 1113.58 96.316 1117.14 Q98.1447 1120.68 101.756 1120.68 Q105.39 1120.68 107.196 1117.14 Q109.024 1113.58 109.024 1106.47 Q109.024 1099.34 107.196 1095.8 Q105.39 1092.24 101.756 1092.24 M101.756 1088.53 Q107.566 1088.53 110.621 1093.14 Q113.7 1097.72 113.7 1106.47 Q113.7 1115.2 110.621 1119.81 Q107.566 1124.39 101.756 1124.39 Q95.9456 1124.39 92.8669 1119.81 Q89.8114 1115.2 89.8114 1106.47 Q89.8114 1097.72 92.8669 1093.14 Q95.9456 1088.53 101.756 1088.53 Z\" fill=\"#000000\" fill-rule=\"evenodd\" fill-opacity=\"1\" /><path clip-path=\"url(#clip670)\" d=\"M 0 0 M121.918 1117.84 L126.802 1117.84 L126.802 1123.72 L121.918 1123.72 L121.918 1117.84 Z\" fill=\"#000000\" fill-rule=\"evenodd\" fill-opacity=\"1\" /><path clip-path=\"url(#clip670)\" d=\"M 0 0 M137.033 1089.16 L155.39 1089.16 L155.39 1093.09 L141.316 1093.09 L141.316 1101.56 Q142.334 1101.22 143.353 1101.06 Q144.371 1100.87 145.39 1100.87 Q151.177 1100.87 154.556 1104.04 Q157.936 1107.21 157.936 1112.63 Q157.936 1118.21 154.464 1121.31 Q150.992 1124.39 144.672 1124.39 Q142.496 1124.39 140.228 1124.02 Q137.982 1123.65 135.575 1122.91 L135.575 1118.21 Q137.658 1119.34 139.881 1119.9 Q142.103 1120.45 144.58 1120.45 Q148.584 1120.45 150.922 1118.35 Q153.26 1116.24 153.26 1112.63 Q153.26 1109.02 150.922 1106.91 Q148.584 1104.81 144.58 1104.81 Q142.705 1104.81 140.83 1105.22 Q138.978 1105.64 137.033 1106.52 L137.033 1089.16 Z\" fill=\"#000000\" fill-rule=\"evenodd\" fill-opacity=\"1\" /><path clip-path=\"url(#clip670)\" d=\"M 0 0 M100.76 752.749 Q97.1493 752.749 95.3206 756.314 Q93.515 759.855 93.515 766.985 Q93.515 774.091 95.3206 777.656 Q97.1493 781.198 100.76 781.198 Q104.395 781.198 106.2 777.656 Q108.029 774.091 108.029 766.985 Q108.029 759.855 106.2 756.314 Q104.395 752.749 100.76 752.749 M100.76 749.045 Q106.571 749.045 109.626 753.652 Q112.705 758.235 112.705 766.985 Q112.705 775.712 109.626 780.318 Q106.571 784.901 100.76 784.901 Q94.9502 784.901 91.8715 780.318 Q88.816 775.712 88.816 766.985 Q88.816 758.235 91.8715 753.652 Q94.9502 749.045 100.76 749.045 Z\" fill=\"#000000\" fill-rule=\"evenodd\" fill-opacity=\"1\" /><path clip-path=\"url(#clip670)\" d=\"M 0 0 M120.922 778.351 L125.807 778.351 L125.807 784.23 L120.922 784.23 L120.922 778.351 Z\" fill=\"#000000\" fill-rule=\"evenodd\" fill-opacity=\"1\" /><path clip-path=\"url(#clip670)\" d=\"M 0 0 M145.992 752.749 Q142.381 752.749 140.552 756.314 Q138.746 759.855 138.746 766.985 Q138.746 774.091 140.552 777.656 Q142.381 781.198 145.992 781.198 Q149.626 781.198 151.431 777.656 Q153.26 774.091 153.26 766.985 Q153.26 759.855 151.431 756.314 Q149.626 752.749 145.992 752.749 M145.992 749.045 Q151.802 749.045 154.857 753.652 Q157.936 758.235 157.936 766.985 Q157.936 775.712 154.857 780.318 Q151.802 784.901 145.992 784.901 Q140.181 784.901 137.103 780.318 Q134.047 775.712 134.047 766.985 Q134.047 758.235 137.103 753.652 Q140.181 749.045 145.992 749.045 Z\" fill=\"#000000\" fill-rule=\"evenodd\" fill-opacity=\"1\" /><path clip-path=\"url(#clip670)\" d=\"M 0 0 M101.756 413.262 Q98.1447 413.262 96.316 416.827 Q94.5104 420.368 94.5104 427.498 Q94.5104 434.604 96.316 438.169 Q98.1447 441.711 101.756 441.711 Q105.39 441.711 107.196 438.169 Q109.024 434.604 109.024 427.498 Q109.024 420.368 107.196 416.827 Q105.39 413.262 101.756 413.262 M101.756 409.558 Q107.566 409.558 110.621 414.165 Q113.7 418.748 113.7 427.498 Q113.7 436.225 110.621 440.831 Q107.566 445.415 101.756 445.415 Q95.9456 445.415 92.8669 440.831 Q89.8114 436.225 89.8114 427.498 Q89.8114 418.748 92.8669 414.165 Q95.9456 409.558 101.756 409.558 Z\" fill=\"#000000\" fill-rule=\"evenodd\" fill-opacity=\"1\" /><path clip-path=\"url(#clip670)\" d=\"M 0 0 M121.918 438.864 L126.802 438.864 L126.802 444.743 L121.918 444.743 L121.918 438.864 Z\" fill=\"#000000\" fill-rule=\"evenodd\" fill-opacity=\"1\" /><path clip-path=\"url(#clip670)\" d=\"M 0 0 M137.033 410.183 L155.39 410.183 L155.39 414.118 L141.316 414.118 L141.316 422.591 Q142.334 422.243 143.353 422.081 Q144.371 421.896 145.39 421.896 Q151.177 421.896 154.556 425.067 Q157.936 428.239 157.936 433.655 Q157.936 439.234 154.464 442.336 Q150.992 445.415 144.672 445.415 Q142.496 445.415 140.228 445.044 Q137.982 444.674 135.575 443.933 L135.575 439.234 Q137.658 440.368 139.881 440.924 Q142.103 441.479 144.58 441.479 Q148.584 441.479 150.922 439.373 Q153.26 437.266 153.26 433.655 Q153.26 430.044 150.922 427.938 Q148.584 425.831 144.58 425.831 Q142.705 425.831 140.83 426.248 Q138.978 426.665 137.033 427.544 L137.033 410.183 Z\" fill=\"#000000\" fill-rule=\"evenodd\" fill-opacity=\"1\" /><path clip-path=\"url(#clip670)\" d=\"M 0 0 M91.5706 101.321 L99.2095 101.321 L99.2095 74.9555 L90.8993 76.6222 L90.8993 72.3629 L99.1632 70.6963 L103.839 70.6963 L103.839 101.321 L111.478 101.321 L111.478 105.256 L91.5706 105.256 L91.5706 101.321 Z\" fill=\"#000000\" fill-rule=\"evenodd\" fill-opacity=\"1\" /><path clip-path=\"url(#clip670)\" d=\"M 0 0 M120.922 99.3767 L125.807 99.3767 L125.807 105.256 L120.922 105.256 L120.922 99.3767 Z\" fill=\"#000000\" fill-rule=\"evenodd\" fill-opacity=\"1\" /><path clip-path=\"url(#clip670)\" d=\"M 0 0 M145.992 73.775 Q142.381 73.775 140.552 77.3398 Q138.746 80.8814 138.746 88.011 Q138.746 95.1174 140.552 98.6822 Q142.381 102.224 145.992 102.224 Q149.626 102.224 151.431 98.6822 Q153.26 95.1174 153.26 88.011 Q153.26 80.8814 151.431 77.3398 Q149.626 73.775 145.992 73.775 M145.992 70.0713 Q151.802 70.0713 154.857 74.6777 Q157.936 79.261 157.936 88.011 Q157.936 96.7378 154.857 101.344 Q151.802 105.928 145.992 105.928 Q140.181 105.928 137.103 101.344 Q134.047 96.7378 134.047 88.011 Q134.047 79.261 137.103 74.6777 Q140.181 70.0713 145.992 70.0713 Z\" fill=\"#000000\" fill-rule=\"evenodd\" fill-opacity=\"1\" /><polyline clip-path=\"url(#clip672)\" style=\"stroke:#009af9; stroke-width:4; stroke-opacity:1; fill:none\" points=\"\n  255.035,87.9763 275.401,91.3683 295.767,101.511 316.133,118.302 336.5,141.574 356.866,171.095 377.232,206.569 397.598,247.642 417.964,293.905 438.331,344.893 \n  458.697,400.099 479.063,458.97 499.429,520.919 519.796,585.325 540.162,651.547 560.528,718.921 580.894,786.776 601.261,854.432 621.627,921.214 641.993,986.455 \n  662.359,1049.5 682.725,1109.73 703.092,1166.53 723.458,1219.33 743.824,1267.62 764.19,1310.91 784.557,1348.76 804.923,1380.79 825.289,1406.69 845.655,1426.21 \n  866.021,1439.13 886.388,1445.34 906.754,1444.77 927.12,1437.42 947.486,1423.38 967.853,1402.78 988.219,1375.83 1008.59,1342.79 1028.95,1304 1049.32,1259.84 \n  1069.68,1210.76 1090.05,1157.24 1110.42,1099.82 1130.78,1039.08 1151.15,975.621 1171.51,910.075 1191.88,843.099 1212.25,775.362 1232.61,707.541 1252.98,640.313 \n  1273.35,574.351 1293.71,510.313 1314.08,448.84 1334.44,390.544 1354.81,336.01 1375.18,285.782 1395.54,240.361 1415.91,200.202 1436.28,165.706 1456.64,137.217 \n  1477.01,115.02 1497.37,99.3366 1517.74,90.3241 1538.11,88.0723 1558.47,92.6035 1578.84,103.873 1599.21,121.767 1619.57,146.108 1639.94,176.652 1660.3,213.094 \n  1680.67,255.07 1701.04,302.161 1721.4,353.896 1741.77,409.757 1762.14,469.188 1782.5,531.594 1802.87,596.351 1823.23,662.813 1843.6,730.316 1863.97,798.184 \n  1884.33,865.741 1904.7,932.31 1925.07,997.227 1945.43,1059.84 1965.8,1119.53 1986.16,1175.7 2006.53,1227.78 2026.9,1275.26 2047.26,1317.66 2067.63,1354.56 \n  2087.99,1385.58 2108.36,1410.43 2128.73,1428.84 2149.09,1440.65 2169.46,1445.72 2189.83,1444 2210.19,1435.53 2230.56,1420.37 2250.92,1398.69 2271.29,1370.69 \n  2291.66,1336.66 \n  \"/>\n<path clip-path=\"url(#clip670)\" d=\"\nM1988.5 216.178 L2280.8 216.178 L2280.8 95.2176 L1988.5 95.2176  Z\n  \" fill=\"#ffffff\" fill-rule=\"evenodd\" fill-opacity=\"1\"/>\n<polyline clip-path=\"url(#clip670)\" style=\"stroke:#000000; stroke-width:4; stroke-opacity:1; fill:none\" points=\"\n  1988.5,216.178 2280.8,216.178 2280.8,95.2176 1988.5,95.2176 1988.5,216.178 \n  \"/>\n<polyline clip-path=\"url(#clip670)\" style=\"stroke:#009af9; stroke-width:4; stroke-opacity:1; fill:none\" points=\"\n  2012.48,155.698 2156.4,155.698 \n  \"/>\n<path clip-path=\"url(#clip670)\" d=\"M 0 0 M2194.23 175.385 Q2192.43 180.015 2190.72 181.427 Q2189 182.839 2186.13 182.839 L2182.73 182.839 L2182.73 179.274 L2185.23 179.274 Q2186.99 179.274 2187.96 178.44 Q2188.93 177.607 2190.11 174.505 L2190.88 172.561 L2180.39 147.052 L2184.91 147.052 L2193.01 167.329 L2201.11 147.052 L2205.62 147.052 L2194.23 175.385 Z\" fill=\"#000000\" fill-rule=\"evenodd\" fill-opacity=\"1\" /><path clip-path=\"url(#clip670)\" d=\"M 0 0 M2212.91 169.042 L2220.55 169.042 L2220.55 142.677 L2212.24 144.343 L2212.24 140.084 L2220.51 138.418 L2225.18 138.418 L2225.18 169.042 L2232.82 169.042 L2232.82 172.978 L2212.91 172.978 L2212.91 169.042 Z\" fill=\"#000000\" fill-rule=\"evenodd\" fill-opacity=\"1\" /></svg>\n"
     },
     "metadata": {},
     "execution_count": 8
    }
   ],
   "metadata": {}
  },
  {
   "cell_type": "markdown",
   "source": [
    "## Polarisability\n",
    "\n",
    "Clausius-Mossotti polarizabilities:\n",
    "$$\n",
    "\\alpha_j^{CM} = \\frac{3d^3}{4\\pi} \\frac{\\varepsilon_j - 1}{\\varepsilon_j + 2}\n",
    "$$"
   ],
   "metadata": {}
  },
  {
   "cell_type": "code",
   "execution_count": null,
   "source": [],
   "outputs": [],
   "metadata": {}
  },
  {
   "cell_type": "code",
   "execution_count": 116,
   "source": [
    "# Calculates Clausius-Mossoti polarizability of dipoles.\n",
    "# Parameters\n",
    "# ----------\n",
    "# d : float\n",
    "#     Dipole lattice spacing\n",
    "# m : array_like\n",
    "#     List of dipole refractive indexes\n",
    "# polarizability_CM\n",
    "\"\"\"\n",
    "    polarizability_CM(eps, d) \n",
    "\n",
    "Calcualtes Clausius-Mossoti Polarizability of dipole array according to their refractive indexes `m` and lattice spacing `d`.\n",
    "\n",
    "The Clausius-Mossoti polarizability of dipoles:\n",
    "```math\n",
    "\\\\alpha_j^{CM} = \\\\frac{3d^3}{4\\\\pi} \\\\frac{\\\\varepsilon_j - 1}{\\\\varepsilon_j + 2}\n",
    "```\n",
    "\n",
    "# Arguments:\n",
    "- `d`: Dipole lattice spacing\n",
    "- `eps`: complex permitivirty of dipole\n",
    "\"\"\"\n",
    "function polarizability_CM(eps, d) \n",
    "    return 3d^3 / 4pi * (eps - 1) / (eps +2)\n",
    "end\n"
   ],
   "outputs": [
    {
     "output_type": "execute_result",
     "data": {
      "text/plain": [
       "polarizability_CM"
      ]
     },
     "metadata": {},
     "execution_count": 116
    }
   ],
   "metadata": {}
  },
  {
   "cell_type": "code",
   "execution_count": null,
   "source": [],
   "outputs": [],
   "metadata": {}
  },
  {
   "cell_type": "code",
   "execution_count": 10,
   "source": [
    "# Calculates Lattice Dispersion Relation polarizability of dipoles.\n",
    "# Calcualtes Lattice Dispersion Relation polarizability of dipole array according\n",
    "# to their refractive indexes `m` and lattice spacing `d`.\n",
    "# Parameters\n",
    "# ----------\n",
    "# d : float\n",
    "#     Dipole lattice spacing\n",
    "# m : array_like\n",
    "#     List of dipole refractive indexes\n",
    "# kvec : (3, 1) array_like\n",
    "#     Wave vector [kx ky kz]     e.g. [0 0 1] z-direction\n",
    "# E0 : (3, 1) array_like\n",
    "#     E-field polarization [Ex Ey Ez]   e.g. [1 0 0] x-polarized,\n",
    "#     [1 i 0] left-handed circ pol.\n",
    "# \n",
    "# References\n",
    "# ----------\n",
    "# .. [1] Draine, Bruce T., and Jeremy Goodman. \"Beyond Clausius-Mossotti-Wave propagation on a\n",
    "# polarizable point lattice and the discrete dipole approximation.\"\n",
    "# The Astrophysical Journal 405 (1993): 685-697.\n",
    "#     "
   ],
   "outputs": [],
   "metadata": {}
  },
  {
   "cell_type": "code",
   "execution_count": 25,
   "source": [
    "x, y = rand(3,100), rand(3,100)"
   ],
   "outputs": [
    {
     "output_type": "execute_result",
     "data": {
      "text/plain": [
       "([0.007633790950564601 0.5276186881680596 … 0.976976924840862 0.014147583323579571; 0.5131556544061433 0.08315394701353962 … 0.9771606865790883 0.6070183608447952; 0.5876860494350238 0.8302373110551486 … 0.06451201677784035 0.6145099134954057], [0.641188417686166 0.6017273994985193 … 0.22507644574299612 0.973395681498255; 0.6835978232953377 0.06326788179824194 … 0.564279593784413 0.18304140536980307; 0.1457344448714979 0.431978420031496 … 0.7297065654129462 0.8133218467361758])"
      ]
     },
     "metadata": {},
     "execution_count": 25
    }
   ],
   "metadata": {}
  },
  {
   "cell_type": "code",
   "execution_count": 32,
   "source": [
    "dot(x,y)"
   ],
   "outputs": [
    {
     "output_type": "execute_result",
     "data": {
      "text/plain": [
       "76.67546297331322"
      ]
     },
     "metadata": {},
     "execution_count": 32
    }
   ],
   "metadata": {}
  },
  {
   "cell_type": "code",
   "execution_count": 41,
   "source": [
    "normalize(rand(3))\n"
   ],
   "outputs": [
    {
     "output_type": "execute_result",
     "data": {
      "text/plain": [
       "3-element Vector{Float64}:\n",
       " 0.7374937761869779\n",
       " 0.0892855098261779\n",
       " 0.6694258941963263"
      ]
     },
     "metadata": {},
     "execution_count": 41
    }
   ],
   "metadata": {}
  },
  {
   "cell_type": "code",
   "execution_count": 134,
   "source": [
    "N = 10^7\n",
    "\n",
    "S = 0\n",
    "for i in 1:N\n",
    "    S += sum((normalize(rand(3)) .* normalize(rand(3))).^2) / N\n",
    "end\n",
    "S"
   ],
   "outputs": [
    {
     "output_type": "execute_result",
     "data": {
      "text/plain": [
       "0.3333046813915861"
      ]
     },
     "metadata": {},
     "execution_count": 134
    }
   ],
   "metadata": {}
  },
  {
   "cell_type": "code",
   "execution_count": 133,
   "source": [
    "typeof(10^4)"
   ],
   "outputs": [
    {
     "output_type": "execute_result",
     "data": {
      "text/plain": [
       "Int64"
      ]
     },
     "metadata": {},
     "execution_count": 133
    }
   ],
   "metadata": {}
  },
  {
   "cell_type": "code",
   "execution_count": 136,
   "source": [
    "N = 10^8\n",
    "\n",
    "S = 0\n",
    "for i in 1:N\n",
    "    S += sum((normalize(rand(3)) .* normalize([0,0,1])).^2) / N\n",
    "end\n",
    "S"
   ],
   "outputs": [
    {
     "output_type": "execute_result",
     "data": {
      "text/plain": [
       "0.33335548748348726"
      ]
     },
     "metadata": {},
     "execution_count": 136
    }
   ],
   "metadata": {}
  },
  {
   "cell_type": "code",
   "execution_count": null,
   "source": [
    "# If CALPHA = LATTDR:\n",
    "#    Compute dipole polarizability using \"Lattice Dispersion Relation\"\n",
    "#    of Draine & Goodman (1993,ApJ,March 10).  It is required that\n",
    "#    polarizability be such that an infinite lattice of such dipoles\n",
    "#    reproduce the continuum dispersion relation for radiation\n",
    "#    propagating with direction and polarization of radiation incident\n",
    "#    on the DDA target.\n",
    "\n",
    "# If CALPHA = GKDLDR:\n",
    "#    Compute dipole polarizability using \"Lattice Dispersion Relation\"\n",
    "#    of Gutkowicz-Krusin and Draine (2004)..  It is required that\n",
    "#    polarizability be such that an infinite lattice of such dipoles\n",
    "#    reproduce the continuum dispersion relation for radiation\n",
    "#    propagating with direction and polarization of radiation incident\n",
    "#    on the DDA target.  This is the recommended option.  It is nearly\n",
    "#    but not exactly identical to LATTDR.\n",
    "\n",
    "# If CALPHA = FLTRCD = \"Filtered Discrete Dipole\"\n",
    "#    Compute dipole polarizability for \"Filtered Coupled Dipole\" approach\n",
    "#    of Piller & Martin (1998) and Gay-Balmaz & Martin (2002)\n",
    "#    and recently discussed by Yurkin, Min, & Hoekstra (2010)\n",
    "\n",
    "# Clausius-Mossotti polarizability\n",
    "# Lattice dispersion relation (Draine & Goodman 1993)\n",
    "\n",
    "# Lattice dispersion relation (Draine & Goodman 1993)\n",
    "# Compute sum (a_j*e_j)^2 , where a_j=unit propagation vector\n",
    "#                                 e_j=unit polarization vector\n",
    "# First compute Clausius-Mossotti polarizability:\n",
    "# Determine polarizability by requiring that infinite lattice of\n",
    "# dipoles have dipersion relation of continuum.\n",
    "\n",
    "\n",
    "# Lattice dispersion relation: modified\n",
    "# (Gutkowicz-Krusin & Draine 2004)\n",
    "# First compute Clausius-Mossotti polarizability:\n",
    "# Determine polarizability by requiring that infinite lattice of\n",
    "# dipoles have dipersion relation of continuum.\n",
    "# Radiative-reaction correction:\n",
    "\n",
    "# prescription for alpha from Yurkin, Min & Hoekstra (2010):\n",
    "# First compute Clausius-Mossotti polarizability:\n",
    "# now apply corretion term\n",
    "# Radiative-reaction correction\n",
    "# Note that we are applying it differently from other authors\n",
    "# (e.g., Piller & Martin 1998, Gay-Balmaz & Martin 2002, \n",
    "# Yurkin, Min & Hoekstra 2010) who would have\n",
    "#              CXTERM=CXTERM/(1._WP+B1*CXTERM+CXTERM*CXRR)\n",
    "# whereas we write\n",
    "#              CXTERM=[CXTERM/(1._WP+B1*CXTERM)]/\n",
    "#                     [1._WP+CXTERM*CXRR/(1._WP+B1*CXTERM)]\n",
    "# although to leading order (x^3) they are the same\n"
   ],
   "outputs": [],
   "metadata": {}
  },
  {
   "cell_type": "markdown",
   "source": [
    "## Polarisability\n",
    "\n",
    "Clausius-Mossotti polarizabilities:\n",
    "$$\n",
    "\\alpha_j^{CM} = \\frac{3d^3}{4\\pi} \\frac{\\varepsilon_j - 1}{\\varepsilon_j + 2}\n",
    "$$"
   ],
   "metadata": {}
  },
  {
   "cell_type": "code",
   "execution_count": 137,
   "source": [
    "function polarizability_LDR93(eps, d, kvec, E0)\n",
    "    b1 = -1.8915316\n",
    "    b2 =  0.1648469\n",
    "    b3 = -1.7700004\n",
    "    \n",
    "    a_hat = normalize(kvec)\n",
    "    e_hat = normalize(E0)\n",
    "    S = sum(@. (a * b)^2)\n",
    "    alpha_CM = polarizability_CM(eps, d)\n",
    "    return alpha_CM / (1 + alpha_CM / d^3 * ((b1 + eps * b2 + eps * b3 * S) * (k * d)^2) - 2/3 * im * (k * d)^3)\n",
    "end"
   ],
   "outputs": [
    {
     "output_type": "execute_result",
     "data": {
      "text/plain": [
       "polarizability_LDR93 (generic function with 1 method)"
      ]
     },
     "metadata": {},
     "execution_count": 137
    }
   ],
   "metadata": {}
  },
  {
   "cell_type": "code",
   "execution_count": 108,
   "source": [
    "a,b =[1,2,3], [1,2,3]\n",
    "S = 0\n",
    "for (ai, ei) in zip(a,b)\n",
    "    S+= (ai*ei)^2\n",
    "end\n",
    "S"
   ],
   "outputs": [
    {
     "output_type": "execute_result",
     "data": {
      "text/plain": [
       "98"
      ]
     },
     "metadata": {},
     "execution_count": 108
    }
   ],
   "metadata": {}
  },
  {
   "cell_type": "code",
   "execution_count": 109,
   "source": [
    "sum((ai*ei)^2 for (ai, ei) in zip(a, b))"
   ],
   "outputs": [
    {
     "output_type": "execute_result",
     "data": {
      "text/plain": [
       "98"
      ]
     },
     "metadata": {},
     "execution_count": 109
    }
   ],
   "metadata": {}
  },
  {
   "cell_type": "code",
   "execution_count": 114,
   "source": [],
   "outputs": [
    {
     "output_type": "execute_result",
     "data": {
      "text/plain": [
       "98"
      ]
     },
     "metadata": {},
     "execution_count": 114
    }
   ],
   "metadata": {}
  },
  {
   "cell_type": "code",
   "execution_count": null,
   "source": [],
   "outputs": [],
   "metadata": {}
  },
  {
   "cell_type": "code",
   "execution_count": null,
   "source": [],
   "outputs": [],
   "metadata": {}
  },
  {
   "cell_type": "markdown",
   "source": [
    "Incident wave:\n",
    "$$\n",
    "E_{inc,j} = E_0 \\exp(-i k r_j - i \\omega t)\n",
    "$$"
   ],
   "metadata": {}
  },
  {
   "cell_type": "code",
   "execution_count": 35,
   "source": [
    "# struct PlaneWave\n",
    "#     E0\n",
    "#     k\n",
    "# end\n",
    "\n",
    "# E_inc(r, E::PlaneWave) = E.E0 * exp(-im * E.k)\n",
    "# E_inc_td(t, r, E::PlaneWave, omega) = field(E) * exp(im * omega * t)\n",
    "\n",
    "k = [0 0 1]\n",
    "# u = [0,0,1] polarisibility\n",
    "E_inc(r, E_0, k) = E_0 * exp(-im * dot(k,r))\n"
   ],
   "outputs": [
    {
     "output_type": "execute_result",
     "data": {
      "text/plain": [
       "E_inc (generic function with 1 method)"
      ]
     },
     "metadata": {},
     "execution_count": 35
    }
   ],
   "metadata": {}
  },
  {
   "cell_type": "code",
   "execution_count": 36,
   "source": [
    "k = [0, 0, 1.]\n",
    "E_0 = 1.\n",
    "r_n = [1, 1, 1] \n",
    "r = r_n * (0:0.1:10)'\n",
    "\n",
    "# E_inc(r, E_0, k)"
   ],
   "outputs": [
    {
     "output_type": "execute_result",
     "data": {
      "text/plain": [
       "3×101 Matrix{Float64}:\n",
       " 0.0  0.1  0.2  0.3  0.4  0.5  0.6  …  9.4  9.5  9.6  9.7  9.8  9.9  10.0\n",
       " 0.0  0.1  0.2  0.3  0.4  0.5  0.6     9.4  9.5  9.6  9.7  9.8  9.9  10.0\n",
       " 0.0  0.1  0.2  0.3  0.4  0.5  0.6     9.4  9.5  9.6  9.7  9.8  9.9  10.0"
      ]
     },
     "metadata": {},
     "execution_count": 36
    }
   ],
   "metadata": {
    "scrolled": true
   }
  },
  {
   "cell_type": "code",
   "execution_count": 37,
   "source": [
    "E_inc(r[:,1], E_0, k)"
   ],
   "outputs": [
    {
     "output_type": "execute_result",
     "data": {
      "text/plain": [
       "1.0 - 0.0im"
      ]
     },
     "metadata": {},
     "execution_count": 37
    }
   ],
   "metadata": {}
  },
  {
   "cell_type": "code",
   "execution_count": 38,
   "source": [
    "plot(real([E_inc(ri, E_0, k) for ri in eachcol(r)]))"
   ],
   "outputs": [
    {
     "output_type": "stream",
     "name": "stderr",
     "text": [
      "┌ Info: Precompiling GR_jll [d2c73de3-f751-5644-a686-071e5b155ba9]\n",
      "└ @ Base loading.jl:1317\n"
     ]
    },
    {
     "output_type": "execute_result",
     "data": {
      "image/svg+xml": "<?xml version=\"1.0\" encoding=\"utf-8\"?>\n<svg xmlns=\"http://www.w3.org/2000/svg\" xmlns:xlink=\"http://www.w3.org/1999/xlink\" width=\"600\" height=\"400\" viewBox=\"0 0 2400 1600\">\n<defs>\n  <clipPath id=\"clip870\">\n    <rect x=\"0\" y=\"0\" width=\"2400\" height=\"1600\"/>\n  </clipPath>\n</defs>\n<path clip-path=\"url(#clip870)\" d=\"\nM0 1600 L2400 1600 L2400 0 L0 0  Z\n  \" fill=\"#ffffff\" fill-rule=\"evenodd\" fill-opacity=\"1\"/>\n<defs>\n  <clipPath id=\"clip871\">\n    <rect x=\"480\" y=\"0\" width=\"1681\" height=\"1600\"/>\n  </clipPath>\n</defs>\n<path clip-path=\"url(#clip870)\" d=\"\nM193.936 1486.45 L2352.76 1486.45 L2352.76 47.2441 L193.936 47.2441  Z\n  \" fill=\"#ffffff\" fill-rule=\"evenodd\" fill-opacity=\"1\"/>\n<defs>\n  <clipPath id=\"clip872\">\n    <rect x=\"193\" y=\"47\" width=\"2160\" height=\"1440\"/>\n  </clipPath>\n</defs>\n<polyline clip-path=\"url(#clip872)\" style=\"stroke:#000000; stroke-width:2; stroke-opacity:0.1; fill:none\" points=\"\n  234.668,1486.45 234.668,47.2441 \n  \"/>\n<polyline clip-path=\"url(#clip872)\" style=\"stroke:#000000; stroke-width:2; stroke-opacity:0.1; fill:none\" points=\"\n  743.824,1486.45 743.824,47.2441 \n  \"/>\n<polyline clip-path=\"url(#clip872)\" style=\"stroke:#000000; stroke-width:2; stroke-opacity:0.1; fill:none\" points=\"\n  1252.98,1486.45 1252.98,47.2441 \n  \"/>\n<polyline clip-path=\"url(#clip872)\" style=\"stroke:#000000; stroke-width:2; stroke-opacity:0.1; fill:none\" points=\"\n  1762.14,1486.45 1762.14,47.2441 \n  \"/>\n<polyline clip-path=\"url(#clip872)\" style=\"stroke:#000000; stroke-width:2; stroke-opacity:0.1; fill:none\" points=\"\n  2271.29,1486.45 2271.29,47.2441 \n  \"/>\n<polyline clip-path=\"url(#clip870)\" style=\"stroke:#000000; stroke-width:4; stroke-opacity:1; fill:none\" points=\"\n  193.936,1486.45 2352.76,1486.45 \n  \"/>\n<polyline clip-path=\"url(#clip870)\" style=\"stroke:#000000; stroke-width:4; stroke-opacity:1; fill:none\" points=\"\n  234.668,1486.45 234.668,1469.18 \n  \"/>\n<polyline clip-path=\"url(#clip870)\" style=\"stroke:#000000; stroke-width:4; stroke-opacity:1; fill:none\" points=\"\n  743.824,1486.45 743.824,1469.18 \n  \"/>\n<polyline clip-path=\"url(#clip870)\" style=\"stroke:#000000; stroke-width:4; stroke-opacity:1; fill:none\" points=\"\n  1252.98,1486.45 1252.98,1469.18 \n  \"/>\n<polyline clip-path=\"url(#clip870)\" style=\"stroke:#000000; stroke-width:4; stroke-opacity:1; fill:none\" points=\"\n  1762.14,1486.45 1762.14,1469.18 \n  \"/>\n<polyline clip-path=\"url(#clip870)\" style=\"stroke:#000000; stroke-width:4; stroke-opacity:1; fill:none\" points=\"\n  2271.29,1486.45 2271.29,1469.18 \n  \"/>\n<path clip-path=\"url(#clip870)\" d=\"M 0 0 M234.668 1515.64 Q231.057 1515.64 229.229 1519.2 Q227.423 1522.75 227.423 1529.87 Q227.423 1536.98 229.229 1540.55 Q231.057 1544.09 234.668 1544.09 Q238.303 1544.09 240.108 1540.55 Q241.937 1536.98 241.937 1529.87 Q241.937 1522.75 240.108 1519.2 Q238.303 1515.64 234.668 1515.64 M234.668 1511.93 Q240.479 1511.93 243.534 1516.54 Q246.613 1521.12 246.613 1529.87 Q246.613 1538.6 243.534 1543.21 Q240.479 1547.79 234.668 1547.79 Q228.858 1547.79 225.78 1543.21 Q222.724 1538.6 222.724 1529.87 Q222.724 1521.12 225.78 1516.54 Q228.858 1511.93 234.668 1511.93 Z\" fill=\"#000000\" fill-rule=\"evenodd\" fill-opacity=\"1\" /><path clip-path=\"url(#clip870)\" d=\"M 0 0 M723.095 1543.18 L739.414 1543.18 L739.414 1547.12 L717.47 1547.12 L717.47 1543.18 Q720.132 1540.43 724.715 1535.8 Q729.322 1531.15 730.502 1529.81 Q732.748 1527.28 733.627 1525.55 Q734.53 1523.79 734.53 1522.1 Q734.53 1519.34 732.586 1517.61 Q730.664 1515.87 727.563 1515.87 Q725.364 1515.87 722.91 1516.63 Q720.479 1517.4 717.702 1518.95 L717.702 1514.23 Q720.526 1513.09 722.979 1512.51 Q725.433 1511.93 727.47 1511.93 Q732.84 1511.93 736.035 1514.62 Q739.229 1517.31 739.229 1521.8 Q739.229 1523.93 738.419 1525.85 Q737.632 1527.74 735.526 1530.34 Q734.947 1531.01 731.845 1534.23 Q728.743 1537.42 723.095 1543.18 Z\" fill=\"#000000\" fill-rule=\"evenodd\" fill-opacity=\"1\" /><path clip-path=\"url(#clip870)\" d=\"M 0 0 M749.275 1512.56 L767.632 1512.56 L767.632 1516.5 L753.558 1516.5 L753.558 1524.97 Q754.576 1524.62 755.595 1524.46 Q756.613 1524.27 757.632 1524.27 Q763.419 1524.27 766.799 1527.44 Q770.178 1530.62 770.178 1536.03 Q770.178 1541.61 766.706 1544.71 Q763.234 1547.79 756.914 1547.79 Q754.738 1547.79 752.47 1547.42 Q750.225 1547.05 747.817 1546.31 L747.817 1541.61 Q749.9 1542.74 752.123 1543.3 Q754.345 1543.86 756.822 1543.86 Q760.826 1543.86 763.164 1541.75 Q765.502 1539.64 765.502 1536.03 Q765.502 1532.42 763.164 1530.31 Q760.826 1528.21 756.822 1528.21 Q754.947 1528.21 753.072 1528.62 Q751.22 1529.04 749.275 1529.92 L749.275 1512.56 Z\" fill=\"#000000\" fill-rule=\"evenodd\" fill-opacity=\"1\" /><path clip-path=\"url(#clip870)\" d=\"M 0 0 M1227.68 1512.56 L1246.04 1512.56 L1246.04 1516.5 L1231.96 1516.5 L1231.96 1524.97 Q1232.98 1524.62 1234 1524.46 Q1235.02 1524.27 1236.04 1524.27 Q1241.82 1524.27 1245.2 1527.44 Q1248.58 1530.62 1248.58 1536.03 Q1248.58 1541.61 1245.11 1544.71 Q1241.64 1547.79 1235.32 1547.79 Q1233.14 1547.79 1230.87 1547.42 Q1228.63 1547.05 1226.22 1546.31 L1226.22 1541.61 Q1228.3 1542.74 1230.53 1543.3 Q1232.75 1543.86 1235.23 1543.86 Q1239.23 1543.86 1241.57 1541.75 Q1243.91 1539.64 1243.91 1536.03 Q1243.91 1532.42 1241.57 1530.31 Q1239.23 1528.21 1235.23 1528.21 Q1233.35 1528.21 1231.48 1528.62 Q1229.62 1529.04 1227.68 1529.92 L1227.68 1512.56 Z\" fill=\"#000000\" fill-rule=\"evenodd\" fill-opacity=\"1\" /><path clip-path=\"url(#clip870)\" d=\"M 0 0 M1267.79 1515.64 Q1264.18 1515.64 1262.35 1519.2 Q1260.55 1522.75 1260.55 1529.87 Q1260.55 1536.98 1262.35 1540.55 Q1264.18 1544.09 1267.79 1544.09 Q1271.43 1544.09 1273.23 1540.55 Q1275.06 1536.98 1275.06 1529.87 Q1275.06 1522.75 1273.23 1519.2 Q1271.43 1515.64 1267.79 1515.64 M1267.79 1511.93 Q1273.6 1511.93 1276.66 1516.54 Q1279.74 1521.12 1279.74 1529.87 Q1279.74 1538.6 1276.66 1543.21 Q1273.6 1547.79 1267.79 1547.79 Q1261.98 1547.79 1258.91 1543.21 Q1255.85 1538.6 1255.85 1529.87 Q1255.85 1521.12 1258.91 1516.54 Q1261.98 1511.93 1267.79 1511.93 Z\" fill=\"#000000\" fill-rule=\"evenodd\" fill-opacity=\"1\" /><path clip-path=\"url(#clip870)\" d=\"M 0 0 M1735.99 1512.56 L1758.21 1512.56 L1758.21 1514.55 L1745.67 1547.12 L1740.78 1547.12 L1752.59 1516.5 L1735.99 1516.5 L1735.99 1512.56 Z\" fill=\"#000000\" fill-rule=\"evenodd\" fill-opacity=\"1\" /><path clip-path=\"url(#clip870)\" d=\"M 0 0 M1767.38 1512.56 L1785.73 1512.56 L1785.73 1516.5 L1771.66 1516.5 L1771.66 1524.97 Q1772.68 1524.62 1773.7 1524.46 Q1774.72 1524.27 1775.73 1524.27 Q1781.52 1524.27 1784.9 1527.44 Q1788.28 1530.62 1788.28 1536.03 Q1788.28 1541.61 1784.81 1544.71 Q1781.34 1547.79 1775.02 1547.79 Q1772.84 1547.79 1770.57 1547.42 Q1768.33 1547.05 1765.92 1546.31 L1765.92 1541.61 Q1768 1542.74 1770.23 1543.3 Q1772.45 1543.86 1774.92 1543.86 Q1778.93 1543.86 1781.27 1541.75 Q1783.61 1539.64 1783.61 1536.03 Q1783.61 1532.42 1781.27 1530.31 Q1778.93 1528.21 1774.92 1528.21 Q1773.05 1528.21 1771.17 1528.62 Q1769.32 1529.04 1767.38 1529.92 L1767.38 1512.56 Z\" fill=\"#000000\" fill-rule=\"evenodd\" fill-opacity=\"1\" /><path clip-path=\"url(#clip870)\" d=\"M 0 0 M2230.9 1543.18 L2238.54 1543.18 L2238.54 1516.82 L2230.23 1518.49 L2230.23 1514.23 L2238.49 1512.56 L2243.17 1512.56 L2243.17 1543.18 L2250.81 1543.18 L2250.81 1547.12 L2230.9 1547.12 L2230.9 1543.18 Z\" fill=\"#000000\" fill-rule=\"evenodd\" fill-opacity=\"1\" /><path clip-path=\"url(#clip870)\" d=\"M 0 0 M2270.25 1515.64 Q2266.64 1515.64 2264.81 1519.2 Q2263 1522.75 2263 1529.87 Q2263 1536.98 2264.81 1540.55 Q2266.64 1544.09 2270.25 1544.09 Q2273.88 1544.09 2275.69 1540.55 Q2277.52 1536.98 2277.52 1529.87 Q2277.52 1522.75 2275.69 1519.2 Q2273.88 1515.64 2270.25 1515.64 M2270.25 1511.93 Q2276.06 1511.93 2279.12 1516.54 Q2282.19 1521.12 2282.19 1529.87 Q2282.19 1538.6 2279.12 1543.21 Q2276.06 1547.79 2270.25 1547.79 Q2264.44 1547.79 2261.36 1543.21 Q2258.3 1538.6 2258.3 1529.87 Q2258.3 1521.12 2261.36 1516.54 Q2264.44 1511.93 2270.25 1511.93 Z\" fill=\"#000000\" fill-rule=\"evenodd\" fill-opacity=\"1\" /><path clip-path=\"url(#clip870)\" d=\"M 0 0 M2300.41 1515.64 Q2296.8 1515.64 2294.97 1519.2 Q2293.17 1522.75 2293.17 1529.87 Q2293.17 1536.98 2294.97 1540.55 Q2296.8 1544.09 2300.41 1544.09 Q2304.05 1544.09 2305.85 1540.55 Q2307.68 1536.98 2307.68 1529.87 Q2307.68 1522.75 2305.85 1519.2 Q2304.05 1515.64 2300.41 1515.64 M2300.41 1511.93 Q2306.22 1511.93 2309.28 1516.54 Q2312.36 1521.12 2312.36 1529.87 Q2312.36 1538.6 2309.28 1543.21 Q2306.22 1547.79 2300.41 1547.79 Q2294.6 1547.79 2291.52 1543.21 Q2288.47 1538.6 2288.47 1529.87 Q2288.47 1521.12 2291.52 1516.54 Q2294.6 1511.93 2300.41 1511.93 Z\" fill=\"#000000\" fill-rule=\"evenodd\" fill-opacity=\"1\" /><polyline clip-path=\"url(#clip872)\" style=\"stroke:#000000; stroke-width:2; stroke-opacity:0.1; fill:none\" points=\"\n  193.936,1445.92 2352.76,1445.92 \n  \"/>\n<polyline clip-path=\"url(#clip872)\" style=\"stroke:#000000; stroke-width:2; stroke-opacity:0.1; fill:none\" points=\"\n  193.936,1106.44 2352.76,1106.44 \n  \"/>\n<polyline clip-path=\"url(#clip872)\" style=\"stroke:#000000; stroke-width:2; stroke-opacity:0.1; fill:none\" points=\"\n  193.936,766.95 2352.76,766.95 \n  \"/>\n<polyline clip-path=\"url(#clip872)\" style=\"stroke:#000000; stroke-width:2; stroke-opacity:0.1; fill:none\" points=\"\n  193.936,427.463 2352.76,427.463 \n  \"/>\n<polyline clip-path=\"url(#clip872)\" style=\"stroke:#000000; stroke-width:2; stroke-opacity:0.1; fill:none\" points=\"\n  193.936,87.9763 2352.76,87.9763 \n  \"/>\n<polyline clip-path=\"url(#clip870)\" style=\"stroke:#000000; stroke-width:4; stroke-opacity:1; fill:none\" points=\"\n  193.936,1486.45 193.936,47.2441 \n  \"/>\n<polyline clip-path=\"url(#clip870)\" style=\"stroke:#000000; stroke-width:4; stroke-opacity:1; fill:none\" points=\"\n  193.936,1445.92 219.842,1445.92 \n  \"/>\n<polyline clip-path=\"url(#clip870)\" style=\"stroke:#000000; stroke-width:4; stroke-opacity:1; fill:none\" points=\"\n  193.936,1106.44 219.842,1106.44 \n  \"/>\n<polyline clip-path=\"url(#clip870)\" style=\"stroke:#000000; stroke-width:4; stroke-opacity:1; fill:none\" points=\"\n  193.936,766.95 219.842,766.95 \n  \"/>\n<polyline clip-path=\"url(#clip870)\" style=\"stroke:#000000; stroke-width:4; stroke-opacity:1; fill:none\" points=\"\n  193.936,427.463 219.842,427.463 \n  \"/>\n<polyline clip-path=\"url(#clip870)\" style=\"stroke:#000000; stroke-width:4; stroke-opacity:1; fill:none\" points=\"\n  193.936,87.9763 219.842,87.9763 \n  \"/>\n<path clip-path=\"url(#clip870)\" d=\"M 0 0 M50.9921 1446.38 L80.6679 1446.38 L80.6679 1450.31 L50.9921 1450.31 L50.9921 1446.38 Z\" fill=\"#000000\" fill-rule=\"evenodd\" fill-opacity=\"1\" /><path clip-path=\"url(#clip870)\" d=\"M 0 0 M91.5706 1459.27 L99.2095 1459.27 L99.2095 1432.9 L90.8993 1434.57 L90.8993 1430.31 L99.1632 1428.64 L103.839 1428.64 L103.839 1459.27 L111.478 1459.27 L111.478 1463.2 L91.5706 1463.2 L91.5706 1459.27 Z\" fill=\"#000000\" fill-rule=\"evenodd\" fill-opacity=\"1\" /><path clip-path=\"url(#clip870)\" d=\"M 0 0 M120.922 1457.32 L125.807 1457.32 L125.807 1463.2 L120.922 1463.2 L120.922 1457.32 Z\" fill=\"#000000\" fill-rule=\"evenodd\" fill-opacity=\"1\" /><path clip-path=\"url(#clip870)\" d=\"M 0 0 M145.992 1431.72 Q142.381 1431.72 140.552 1435.29 Q138.746 1438.83 138.746 1445.96 Q138.746 1453.07 140.552 1456.63 Q142.381 1460.17 145.992 1460.17 Q149.626 1460.17 151.431 1456.63 Q153.26 1453.07 153.26 1445.96 Q153.26 1438.83 151.431 1435.29 Q149.626 1431.72 145.992 1431.72 M145.992 1428.02 Q151.802 1428.02 154.857 1432.63 Q157.936 1437.21 157.936 1445.96 Q157.936 1454.69 154.857 1459.29 Q151.802 1463.88 145.992 1463.88 Q140.181 1463.88 137.103 1459.29 Q134.047 1454.69 134.047 1445.96 Q134.047 1437.21 137.103 1432.63 Q140.181 1428.02 145.992 1428.02 Z\" fill=\"#000000\" fill-rule=\"evenodd\" fill-opacity=\"1\" /><path clip-path=\"url(#clip870)\" d=\"M 0 0 M51.9875 1106.89 L81.6633 1106.89 L81.6633 1110.82 L51.9875 1110.82 L51.9875 1106.89 Z\" fill=\"#000000\" fill-rule=\"evenodd\" fill-opacity=\"1\" /><path clip-path=\"url(#clip870)\" d=\"M 0 0 M101.756 1092.24 Q98.1447 1092.24 96.316 1095.8 Q94.5104 1099.34 94.5104 1106.47 Q94.5104 1113.58 96.316 1117.14 Q98.1447 1120.68 101.756 1120.68 Q105.39 1120.68 107.196 1117.14 Q109.024 1113.58 109.024 1106.47 Q109.024 1099.34 107.196 1095.8 Q105.39 1092.24 101.756 1092.24 M101.756 1088.53 Q107.566 1088.53 110.621 1093.14 Q113.7 1097.72 113.7 1106.47 Q113.7 1115.2 110.621 1119.81 Q107.566 1124.39 101.756 1124.39 Q95.9456 1124.39 92.8669 1119.81 Q89.8114 1115.2 89.8114 1106.47 Q89.8114 1097.72 92.8669 1093.14 Q95.9456 1088.53 101.756 1088.53 Z\" fill=\"#000000\" fill-rule=\"evenodd\" fill-opacity=\"1\" /><path clip-path=\"url(#clip870)\" d=\"M 0 0 M121.918 1117.84 L126.802 1117.84 L126.802 1123.72 L121.918 1123.72 L121.918 1117.84 Z\" fill=\"#000000\" fill-rule=\"evenodd\" fill-opacity=\"1\" /><path clip-path=\"url(#clip870)\" d=\"M 0 0 M137.033 1089.16 L155.39 1089.16 L155.39 1093.09 L141.316 1093.09 L141.316 1101.56 Q142.334 1101.22 143.353 1101.06 Q144.371 1100.87 145.39 1100.87 Q151.177 1100.87 154.556 1104.04 Q157.936 1107.21 157.936 1112.63 Q157.936 1118.21 154.464 1121.31 Q150.992 1124.39 144.672 1124.39 Q142.496 1124.39 140.228 1124.02 Q137.982 1123.65 135.575 1122.91 L135.575 1118.21 Q137.658 1119.34 139.881 1119.9 Q142.103 1120.45 144.58 1120.45 Q148.584 1120.45 150.922 1118.35 Q153.26 1116.24 153.26 1112.63 Q153.26 1109.02 150.922 1106.91 Q148.584 1104.81 144.58 1104.81 Q142.705 1104.81 140.83 1105.22 Q138.978 1105.64 137.033 1106.52 L137.033 1089.16 Z\" fill=\"#000000\" fill-rule=\"evenodd\" fill-opacity=\"1\" /><path clip-path=\"url(#clip870)\" d=\"M 0 0 M100.76 752.749 Q97.1493 752.749 95.3206 756.314 Q93.515 759.855 93.515 766.985 Q93.515 774.091 95.3206 777.656 Q97.1493 781.198 100.76 781.198 Q104.395 781.198 106.2 777.656 Q108.029 774.091 108.029 766.985 Q108.029 759.855 106.2 756.314 Q104.395 752.749 100.76 752.749 M100.76 749.045 Q106.571 749.045 109.626 753.652 Q112.705 758.235 112.705 766.985 Q112.705 775.712 109.626 780.318 Q106.571 784.901 100.76 784.901 Q94.9502 784.901 91.8715 780.318 Q88.816 775.712 88.816 766.985 Q88.816 758.235 91.8715 753.652 Q94.9502 749.045 100.76 749.045 Z\" fill=\"#000000\" fill-rule=\"evenodd\" fill-opacity=\"1\" /><path clip-path=\"url(#clip870)\" d=\"M 0 0 M120.922 778.351 L125.807 778.351 L125.807 784.23 L120.922 784.23 L120.922 778.351 Z\" fill=\"#000000\" fill-rule=\"evenodd\" fill-opacity=\"1\" /><path clip-path=\"url(#clip870)\" d=\"M 0 0 M145.992 752.749 Q142.381 752.749 140.552 756.314 Q138.746 759.855 138.746 766.985 Q138.746 774.091 140.552 777.656 Q142.381 781.198 145.992 781.198 Q149.626 781.198 151.431 777.656 Q153.26 774.091 153.26 766.985 Q153.26 759.855 151.431 756.314 Q149.626 752.749 145.992 752.749 M145.992 749.045 Q151.802 749.045 154.857 753.652 Q157.936 758.235 157.936 766.985 Q157.936 775.712 154.857 780.318 Q151.802 784.901 145.992 784.901 Q140.181 784.901 137.103 780.318 Q134.047 775.712 134.047 766.985 Q134.047 758.235 137.103 753.652 Q140.181 749.045 145.992 749.045 Z\" fill=\"#000000\" fill-rule=\"evenodd\" fill-opacity=\"1\" /><path clip-path=\"url(#clip870)\" d=\"M 0 0 M101.756 413.262 Q98.1447 413.262 96.316 416.827 Q94.5104 420.368 94.5104 427.498 Q94.5104 434.604 96.316 438.169 Q98.1447 441.711 101.756 441.711 Q105.39 441.711 107.196 438.169 Q109.024 434.604 109.024 427.498 Q109.024 420.368 107.196 416.827 Q105.39 413.262 101.756 413.262 M101.756 409.558 Q107.566 409.558 110.621 414.165 Q113.7 418.748 113.7 427.498 Q113.7 436.225 110.621 440.831 Q107.566 445.415 101.756 445.415 Q95.9456 445.415 92.8669 440.831 Q89.8114 436.225 89.8114 427.498 Q89.8114 418.748 92.8669 414.165 Q95.9456 409.558 101.756 409.558 Z\" fill=\"#000000\" fill-rule=\"evenodd\" fill-opacity=\"1\" /><path clip-path=\"url(#clip870)\" d=\"M 0 0 M121.918 438.864 L126.802 438.864 L126.802 444.743 L121.918 444.743 L121.918 438.864 Z\" fill=\"#000000\" fill-rule=\"evenodd\" fill-opacity=\"1\" /><path clip-path=\"url(#clip870)\" d=\"M 0 0 M137.033 410.183 L155.39 410.183 L155.39 414.118 L141.316 414.118 L141.316 422.591 Q142.334 422.243 143.353 422.081 Q144.371 421.896 145.39 421.896 Q151.177 421.896 154.556 425.067 Q157.936 428.239 157.936 433.655 Q157.936 439.234 154.464 442.336 Q150.992 445.415 144.672 445.415 Q142.496 445.415 140.228 445.044 Q137.982 444.674 135.575 443.933 L135.575 439.234 Q137.658 440.368 139.881 440.924 Q142.103 441.479 144.58 441.479 Q148.584 441.479 150.922 439.373 Q153.26 437.266 153.26 433.655 Q153.26 430.044 150.922 427.938 Q148.584 425.831 144.58 425.831 Q142.705 425.831 140.83 426.248 Q138.978 426.665 137.033 427.544 L137.033 410.183 Z\" fill=\"#000000\" fill-rule=\"evenodd\" fill-opacity=\"1\" /><path clip-path=\"url(#clip870)\" d=\"M 0 0 M91.5706 101.321 L99.2095 101.321 L99.2095 74.9555 L90.8993 76.6222 L90.8993 72.3629 L99.1632 70.6963 L103.839 70.6963 L103.839 101.321 L111.478 101.321 L111.478 105.256 L91.5706 105.256 L91.5706 101.321 Z\" fill=\"#000000\" fill-rule=\"evenodd\" fill-opacity=\"1\" /><path clip-path=\"url(#clip870)\" d=\"M 0 0 M120.922 99.3767 L125.807 99.3767 L125.807 105.256 L120.922 105.256 L120.922 99.3767 Z\" fill=\"#000000\" fill-rule=\"evenodd\" fill-opacity=\"1\" /><path clip-path=\"url(#clip870)\" d=\"M 0 0 M145.992 73.775 Q142.381 73.775 140.552 77.3398 Q138.746 80.8814 138.746 88.011 Q138.746 95.1174 140.552 98.6822 Q142.381 102.224 145.992 102.224 Q149.626 102.224 151.431 98.6822 Q153.26 95.1174 153.26 88.011 Q153.26 80.8814 151.431 77.3398 Q149.626 73.775 145.992 73.775 M145.992 70.0713 Q151.802 70.0713 154.857 74.6777 Q157.936 79.261 157.936 88.011 Q157.936 96.7378 154.857 101.344 Q151.802 105.928 145.992 105.928 Q140.181 105.928 137.103 101.344 Q134.047 96.7378 134.047 88.011 Q134.047 79.261 137.103 74.6777 Q140.181 70.0713 145.992 70.0713 Z\" fill=\"#000000\" fill-rule=\"evenodd\" fill-opacity=\"1\" /><polyline clip-path=\"url(#clip872)\" style=\"stroke:#009af9; stroke-width:4; stroke-opacity:1; fill:none\" points=\"\n  255.035,87.9763 275.401,91.3683 295.767,101.511 316.133,118.302 336.5,141.574 356.866,171.095 377.232,206.569 397.598,247.642 417.964,293.905 438.331,344.893 \n  458.697,400.099 479.063,458.97 499.429,520.919 519.796,585.325 540.162,651.547 560.528,718.921 580.894,786.776 601.261,854.432 621.627,921.214 641.993,986.455 \n  662.359,1049.5 682.725,1109.73 703.092,1166.53 723.458,1219.33 743.824,1267.62 764.19,1310.91 784.557,1348.76 804.923,1380.79 825.289,1406.69 845.655,1426.21 \n  866.021,1439.13 886.388,1445.34 906.754,1444.77 927.12,1437.42 947.486,1423.38 967.853,1402.78 988.219,1375.83 1008.59,1342.79 1028.95,1304 1049.32,1259.84 \n  1069.68,1210.76 1090.05,1157.24 1110.42,1099.82 1130.78,1039.08 1151.15,975.621 1171.51,910.075 1191.88,843.099 1212.25,775.362 1232.61,707.541 1252.98,640.313 \n  1273.35,574.351 1293.71,510.313 1314.08,448.84 1334.44,390.544 1354.81,336.01 1375.18,285.782 1395.54,240.361 1415.91,200.202 1436.28,165.706 1456.64,137.217 \n  1477.01,115.02 1497.37,99.3366 1517.74,90.3241 1538.11,88.0723 1558.47,92.6035 1578.84,103.873 1599.21,121.767 1619.57,146.108 1639.94,176.652 1660.3,213.094 \n  1680.67,255.07 1701.04,302.161 1721.4,353.896 1741.77,409.757 1762.14,469.188 1782.5,531.594 1802.87,596.351 1823.23,662.813 1843.6,730.316 1863.97,798.184 \n  1884.33,865.741 1904.7,932.31 1925.07,997.227 1945.43,1059.84 1965.8,1119.53 1986.16,1175.7 2006.53,1227.78 2026.9,1275.26 2047.26,1317.66 2067.63,1354.56 \n  2087.99,1385.58 2108.36,1410.43 2128.73,1428.84 2149.09,1440.65 2169.46,1445.72 2189.83,1444 2210.19,1435.53 2230.56,1420.37 2250.92,1398.69 2271.29,1370.69 \n  2291.66,1336.66 \n  \"/>\n<path clip-path=\"url(#clip870)\" d=\"\nM1988.5 216.178 L2280.8 216.178 L2280.8 95.2176 L1988.5 95.2176  Z\n  \" fill=\"#ffffff\" fill-rule=\"evenodd\" fill-opacity=\"1\"/>\n<polyline clip-path=\"url(#clip870)\" style=\"stroke:#000000; stroke-width:4; stroke-opacity:1; fill:none\" points=\"\n  1988.5,216.178 2280.8,216.178 2280.8,95.2176 1988.5,95.2176 1988.5,216.178 \n  \"/>\n<polyline clip-path=\"url(#clip870)\" style=\"stroke:#009af9; stroke-width:4; stroke-opacity:1; fill:none\" points=\"\n  2012.48,155.698 2156.4,155.698 \n  \"/>\n<path clip-path=\"url(#clip870)\" d=\"M 0 0 M2194.23 175.385 Q2192.43 180.015 2190.72 181.427 Q2189 182.839 2186.13 182.839 L2182.73 182.839 L2182.73 179.274 L2185.23 179.274 Q2186.99 179.274 2187.96 178.44 Q2188.93 177.607 2190.11 174.505 L2190.88 172.561 L2180.39 147.052 L2184.91 147.052 L2193.01 167.329 L2201.11 147.052 L2205.62 147.052 L2194.23 175.385 Z\" fill=\"#000000\" fill-rule=\"evenodd\" fill-opacity=\"1\" /><path clip-path=\"url(#clip870)\" d=\"M 0 0 M2212.91 169.042 L2220.55 169.042 L2220.55 142.677 L2212.24 144.343 L2212.24 140.084 L2220.51 138.418 L2225.18 138.418 L2225.18 169.042 L2232.82 169.042 L2232.82 172.978 L2212.91 172.978 L2212.91 169.042 Z\" fill=\"#000000\" fill-rule=\"evenodd\" fill-opacity=\"1\" /></svg>\n"
     },
     "metadata": {},
     "execution_count": 38
    }
   ],
   "metadata": {
    "scrolled": false
   }
  },
  {
   "cell_type": "code",
   "execution_count": null,
   "source": [],
   "outputs": [],
   "metadata": {}
  },
  {
   "cell_type": "code",
   "execution_count": null,
   "source": [],
   "outputs": [],
   "metadata": {}
  },
  {
   "cell_type": "code",
   "execution_count": null,
   "source": [],
   "outputs": [],
   "metadata": {}
  },
  {
   "cell_type": "code",
   "execution_count": null,
   "source": [],
   "outputs": [],
   "metadata": {}
  },
  {
   "cell_type": "code",
   "execution_count": null,
   "source": [],
   "outputs": [],
   "metadata": {}
  },
  {
   "cell_type": "code",
   "execution_count": null,
   "source": [],
   "outputs": [],
   "metadata": {}
  },
  {
   "cell_type": "code",
   "execution_count": 40,
   "source": [
    "k"
   ],
   "outputs": [
    {
     "output_type": "execute_result",
     "data": {
      "text/plain": [
       "3-element Vector{Float64}:\n",
       " 0.0\n",
       " 0.0\n",
       " 1.0"
      ]
     },
     "metadata": {},
     "execution_count": 40
    }
   ],
   "metadata": {}
  },
  {
   "cell_type": "markdown",
   "source": [
    "The extinction cross section:\n",
    "$$\n",
    "C_{ext} = \\frac{4 \\pi k}{|E_0|^2} \\sum \\limits_{j=1}^{N} \\mathrm{Im}(\\vec{E}_{inc, j}^* \\cdot P_j)\n",
    "$$\n",
    "\n",
    "The absorption cross section:\n",
    "$$\n",
    "C_{abs} = \\frac{4 \\pi k}{|E_0|^2} \\sum \\limits_{j=1}^{N} \\left\\{ \\mathrm{Im}(P_j \\cdot (\\alpha_j^{-1}) \\cdot P_j^*) - \\frac{2}{3} k^3|P_j|^2 \\right\\}\n",
    "$$\n",
    "\n",
    "The scattering cross section \n",
    "$$\n",
    "C_{sca} = C_{ext} - C_{abs}\n",
    "$$\n",
    "\n",
    "In the far field, the scattered electric field is given by:\n",
    "$$\n",
    "E_{sca} = \\frac{k^2 \\exp(ikr)}{r} \\sum \\limits_{j=1}^{N} \\exp(-ik\\hat{r} \\cdot r_j)(\\hat{r}\\hat{r}-1_3)P_j\n",
    "$$"
   ],
   "metadata": {}
  },
  {
   "cell_type": "code",
   "execution_count": 11,
   "source": [
    "function C_abs(k, E0, Ei, P, alph)\n",
    "    A  = 4π * k / norm(E0)^2\n",
    "    C=0\n",
    "    for j in 1:N\n",
    "        C +=  imag(P[j]*(1/alph[j]*I)*P[j]') - 2/3 *k^3 * P[j]^2 \n",
    "        # C += 4π * k / norm(E0)^2 * sum(-imag(P[j]*(1/alph[j]*I)*P[j]') - 2/3 *k^3 * P[j]^2 ) \n",
    "        # !!!!!!!!!!!!!!\n",
    "    end\n",
    "    return A * C\n",
    "end\n",
    "\n",
    "C_ext(k, E0, Ei, P, alph) = 4pi * k / abs(E0)^2 * imag(dot(Ei, P))\n",
    "C_sca = C_ext(k, E0, Ei, P, alph) - function C_abs(k, E0, Ei, P, alph)\n",
    "\n",
    "\n",
    "function E_sca_FF(k, r, P, r_E)\n",
    "    # k: wave number\n",
    "    # r: dipole coordinates (N x 3 matrix)\n",
    "    # P: polarizations (vector of length 3N; Px1,Py1,Pz1 ... PxN,PyN,PzN)\n",
    "    # r_E: coord for the point at which to calculate the far field\n",
    "    # Note: coordinates are relative to origin\n",
    "    \n",
    "    E=0\n",
    "    r_norm = norm(r_E)\n",
    "    r_hat = r_E / r_norm\n",
    "    A = k^ 2 * exp(1m * k * r_norm) / r_norm\n",
    "    for j in 1:N\n",
    "        E += exp(-1m * k * dot(r_hat, r[j])) * (r_hat' .* r_hat - I)*P[j]\n",
    "    end\n",
    "    return A * E\n",
    "end\n"
   ],
   "outputs": [
    {
     "output_type": "execute_result",
     "data": {
      "text/plain": [
       "C_abs (generic function with 1 method)"
      ]
     },
     "metadata": {},
     "execution_count": 11
    }
   ],
   "metadata": {}
  },
  {
   "cell_type": "code",
   "execution_count": 14,
   "source": [
    "outer"
   ],
   "outputs": [
    {
     "output_type": "execute_result",
     "data": {
      "text/plain": [
       "C_ext (generic function with 1 method)"
      ]
     },
     "metadata": {},
     "execution_count": 14
    }
   ],
   "metadata": {}
  },
  {
   "cell_type": "code",
   "execution_count": null,
   "source": [],
   "outputs": [],
   "metadata": {}
  },
  {
   "cell_type": "code",
   "execution_count": null,
   "source": [],
   "outputs": [],
   "metadata": {}
  },
  {
   "cell_type": "code",
   "execution_count": null,
   "source": [],
   "outputs": [],
   "metadata": {}
  },
  {
   "cell_type": "code",
   "execution_count": 13,
   "source": [
    "2/3"
   ],
   "outputs": [
    {
     "output_type": "execute_result",
     "data": {
      "text/plain": [
       "0.6666666666666666"
      ]
     },
     "metadata": {},
     "execution_count": 13
    }
   ],
   "metadata": {}
  },
  {
   "cell_type": "code",
   "execution_count": null,
   "source": [],
   "outputs": [],
   "metadata": {}
  },
  {
   "cell_type": "markdown",
   "source": [
    "The electric field from a radiating electric dipole:\n",
    "$$\n",
    "E = \\frac{1}{4 \\pi \\varepsilon_0} \\left\\{\n",
    "    k^2(\\hat{r} \\times p) \\times \\hat{r} \\frac{e^{ikr}}{r} +\n",
    "    \\left[3\\hat{r}(\\hat{r}\\cdot p)-p\\right] \\left( \\frac{1}{r^3}-\\frac{ik}{r^2} \\right) e^{ikr}\n",
    "\\right\\}\n",
    "$$\n",
    "\n",
    "$A_{jk}$ is the tensor that represents the interaction between a receiving dipole at $r_j$ and the radiating dipole\n",
    "at $r_k$. \n",
    "$$\n",
    "A_{jk} = \\frac{\\exp(i k r_{jk})}{r_{jk}} \\left[\n",
    "    k^2(\\hat{r}_{jk} \\hat{r}_{jk} - 11) + \\frac{i k r_{jk} - 1}{r_{jk}^2} (3 \\hat{r}_{jk} \\hat{r}_{jk} - 11)\n",
    "\\right]\n",
    "$$\n"
   ],
   "metadata": {}
  },
  {
   "cell_type": "code",
   "execution_count": 125,
   "source": [
    "function calculate_A_jk(r, k)\n",
    "    r_jk = norm(r)\n",
    "    r_n = r / r_jk\n",
    "\n",
    "    A_jk = exp(im * k * r_jk) / r_jk * (k^2 * (r_n * r_n' - I) + (im * k * r_jk - 1) / (r_jk^2) * (3 * r_n * r_n' - I))\n",
    "    return A_jk\n",
    "end"
   ],
   "outputs": [
    {
     "output_type": "execute_result",
     "data": {
      "text/plain": [
       "calculate_A_jk (generic function with 1 method)"
      ]
     },
     "metadata": {},
     "execution_count": 125
    }
   ],
   "metadata": {}
  },
  {
   "cell_type": "code",
   "execution_count": null,
   "source": [],
   "outputs": [],
   "metadata": {}
  },
  {
   "cell_type": "code",
   "execution_count": 140,
   "source": [
    "calculate_A_jk([1,0,1],0)"
   ],
   "outputs": [
    {
     "output_type": "execute_result",
     "data": {
      "text/plain": [
       "3×3 Matrix{ComplexF64}:\n",
       " -0.176777+0.0im       0.0+0.0im   -0.53033+0.0im\n",
       "       0.0+0.0im  0.353553+0.0im        0.0+0.0im\n",
       "  -0.53033+0.0im       0.0+0.0im  -0.176777+0.0im"
      ]
     },
     "metadata": {},
     "execution_count": 140
    }
   ],
   "metadata": {}
  },
  {
   "cell_type": "code",
   "execution_count": null,
   "source": [],
   "outputs": [],
   "metadata": {}
  }
 ],
 "metadata": {
  "kernelspec": {
   "name": "python3",
   "display_name": "Python 3.9.5 64-bit"
  },
  "language_info": {
   "file_extension": ".jl",
   "mimetype": "application/julia",
   "name": "python",
   "version": "3.9.5"
  },
  "interpreter": {
   "hash": "aee8b7b246df8f9039afb4144a1f6fd8d2ca17a180786b69acc140d282b71a49"
  }
 },
 "nbformat": 4,
 "nbformat_minor": 4
}