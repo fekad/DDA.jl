{
 "cells": [
  {
   "cell_type": "code",
   "execution_count": null,
   "metadata": {},
   "outputs": [],
   "source": [
    "using PlotlyJS\n",
    "using Unitful\n",
    "using PhysicalConstants.CODATA2018: ε_0, c_0, h\n",
    "\n",
    "using RefractiveIndexDatabase\n",
    "using Permittivity"
   ]
  },
  {
   "cell_type": "code",
   "execution_count": null,
   "metadata": {},
   "outputs": [],
   "source": [
    "for material in RefractiveIndexDatabase.search(shelf=\"main\", book=\"Au\")\n",
    "    println(material)\n",
    "end"
   ]
  },
  {
   "cell_type": "code",
   "execution_count": null,
   "metadata": {},
   "outputs": [],
   "source": [
    "Au = get_material(\"main\", \"Au\", \"Babar\")"
   ]
  },
  {
   "cell_type": "code",
   "execution_count": null,
   "metadata": {},
   "outputs": [],
   "source": [
    "# Convert into permititvity\n",
    "\n",
    "λ = Au.λ\n",
    "m = Au.n + Au.k * im\n",
    "ε = m.^2;"
   ]
  },
  {
   "cell_type": "code",
   "execution_count": null,
   "metadata": {},
   "outputs": [],
   "source": [
    "@show (h * c_0) / u\"nm\" |> u\"eV\"\n",
    "\n",
    "ω = ustrip.(h* c_0 ./ (λ * 1u\"μm\") .|> u\"eV\")\n",
    "trace1 = scatter(x=ω, y=real(ε), name=\"Re(ε)\", mode=\"markers\")\n",
    "trace2 = scatter(x=ω, y=imag(ε), name=\"Im(ε)\", mode=\"markers\")\n",
    "\n",
    "# layout = Layout(;title=\"\", xaxis=attr(title=\"Wavelength [μm]\", type=\"log\"), yaxis=attr(title=\"ε_r\", type=\"log\"))\n",
    "layout1 = Layout(;xaxis=attr(title=\"[eV]\", range=[1,5]), yaxis=attr(title=\"ε_r\", range=[-70,10]))\n",
    "layout2 = Layout(;xaxis=attr(title=\"[eV]\", range=[1,5]), yaxis=attr(title=\"ε_r\", range=[0,7]))\n",
    "\n",
    "[plot(trace1, layout1) plot(trace2, layout2)]\n"
   ]
  },
  {
   "cell_type": "code",
   "execution_count": null,
   "metadata": {},
   "outputs": [],
   "source": [
    "# bug\n",
    "# u\"nm\" |> u\"μm\""
   ]
  },
  {
   "cell_type": "code",
   "execution_count": null,
   "metadata": {},
   "outputs": [],
   "source": [
    "@show (h * c_0) / u\"800.0nm\" |> u\"eV\"\n",
    "@show (h * c_0) / u\"600.0nm\" |> u\"eV\"\n",
    "\n",
    "# DOI: 10.1002/adom.201300457\n",
    "ε_inf = 2.2715 \n",
    "ω_p = 8.9234 * u\"eV\"\n",
    "Γ_p = 0.042389 * u\"eV\"\n",
    "\n",
    "model = DrudeModel(ε_inf, ustrip(ω_p), ustrip(Γ_p))\n",
    "ε_drude = model.(ω)\n",
    "\n",
    "trace1_drude = scatter(x=ω, y=real(ε_drude), name=\"Drude Re(ε(ω))\")\n",
    "trace2_drude = scatter(x=ω, y=imag(ε_drude), name=\"Drude Im(ε(ω))\")\n",
    "layout = Layout(;title=\"Interpolated values\", xaxis=attr(title=\"Frequency [THz]\"), yaxis=attr(title=\"ε\"))\n",
    "\n",
    "[plot([trace1, trace1_drude], layout1) plot([trace2,trace2_drude], layout2)]"
   ]
  },
  {
   "cell_type": "code",
   "execution_count": null,
   "metadata": {},
   "outputs": [],
   "source": [
    "# Frequency \n",
    "\n",
    "ω = ustrip.(2π * c_0 ./ (λ * 1u\"μm\") .|> u\"THz\")\n",
    "\n",
    "trace1 = scatter(x=ω/2π, y=real(m), name=\"Re(m)\", mode=\"markers\")\n",
    "trace2 = scatter(x=ω/2π, y=imag(m), name=\"Im(m)\", mode=\"markers\")\n",
    "# trace1 = scatter(x=ω/2π, y=real(ε), name=\"Re(ε)\", mode=\"markers\")\n",
    "# trace2 = scatter(x=ω/2π, y=imag(ε), name=\"Im(ε)\", mode=\"markers\")\n",
    "\n",
    "layout = Layout(;title=\"\", xaxis=attr(title=\"Frequency [THz]\", type=\"log\"), yaxis=attr(title=\"ε_r\", type=\"log\"))\n",
    "# layout = Layout(;title=\"\", xaxis=attr(title=\"Frequency [THz]\", type=\"log\"), yaxis=attr(title=\"ε_r\"))\n",
    "\n",
    "plot([trace1, trace2], layout)\n"
   ]
  },
  {
   "cell_type": "code",
   "execution_count": null,
   "metadata": {},
   "outputs": [],
   "source": [
    "# interpolation\n",
    "\n",
    "int = PermittivityTable(ω, ε)\n",
    "\n",
    "ω_int = LinRange(extrema(ω)..., 1000)\n",
    "ε_int = int.(ω)\n",
    "\n",
    "trace1 = scatter(x=ω/2π, y=real(ε_int), name=\"Re(ε(ω))\")\n",
    "trace2 = scatter(x=ω/2π, y=imag(ε_int), name=\"Im(ε(ω))\")\n",
    "trace3 = scatter(x=ω/2π, y=real(ε), name=\"Re(ε)\", mode=\"markers\")\n",
    "trace4 = scatter(x=ω/2π, y=imag(ε), name=\"Im(ε)\", mode=\"markers\")\n",
    "\n",
    "layout = Layout(;title=\"Interpolated values\", xaxis=attr(title=\"Frequency [THz]\"), yaxis=attr(title=\"ε_r\"))\n",
    "\n",
    "plot([trace1, trace2, trace3, trace4], layout)\n"
   ]
  },
  {
   "cell_type": "code",
   "execution_count": null,
   "metadata": {},
   "outputs": [],
   "source": [
    "# range of interest\n",
    "\n",
    "inds = 0.6 .< λ .< 0.750\n",
    "@show sum(inds)\n",
    "\n",
    "trace1 = scatter(x=λ[inds], y=real(m[inds]), name=\"Re(m)\", mode=\"markers+lines\")\n",
    "trace2 = scatter(x=λ[inds], y=imag(m[inds]), name=\"Re(m)\", mode=\"markers+lines\")\n",
    "\n",
    "trace1 = scatter(x=λ[inds], y=real(ε[inds]), name=\"Re(ε)\", mode=\"markers+lines\")\n",
    "trace2 = scatter(x=λ[inds], y=imag(ε[inds]), name=\"Re(ε)\", mode=\"markers+lines\")\n",
    "\n",
    "# layout = Layout(;title=\"\", xaxis=attr(title=\"Wavelenght [um]\", type=\"log\"), yaxis=attr(title=\"ε_r\", type=\"log\"))\n",
    "layout1 = Layout(xaxis=attr(title=\"Wavelenght [um]\", type=\"log\"), yaxis=attr(title=\"ε_r\"))\n",
    "layout2 = Layout(xaxis=attr(title=\"Wavelenght [um]\", type=\"log\"), yaxis=attr(title=\"ε_r\"))\n",
    "\n",
    "[plot(trace1, layout1)  plot(trace2, layout2)]"
   ]
  },
  {
   "cell_type": "code",
   "execution_count": null,
   "metadata": {},
   "outputs": [],
   "source": [
    "# All in one together\n",
    "\n",
    "\n",
    "using Unitful\n",
    "using PhysicalConstants.CODATA2018: ε_0, c_0, h\n",
    "\n",
    "using RefractiveIndexDatabase\n",
    "using Permittivity\n",
    "\n",
    "Au = get_material(\"main\", \"Au\", \"Babar\")\n",
    "\n",
    "ω = ustrip(h * c_0 / u\"μm\" |> u\"eV\") ./ Au.λ\n",
    "ε = @. (Au.n^2 - Au.k^2) + (2 * Au.n * Au.k) * im\n",
    "\n",
    "int = PermittivityTable(ω, ε)\n",
    "\n",
    "λ_range = (632.0:1.0:732.0)u\"nm\"\n",
    "ω_range = ustrip(@. (h * c_0) / λ_range  |> u\"eV\" )\n",
    "\n",
    "ε_int = int.(ω_range)\n",
    "\n",
    "trace1 = scatter(x=ω_range, y=real(ε_int), name=\"Re(ε(ω))\")\n",
    "trace2 = scatter(x=ω_range, y=imag(ε_int), name=\"Im(ε(ω))\")\n",
    "trace3 = scatter(x=ω, y=real(ε), name=\"Re(ε)\", mode=\"markers\")\n",
    "trace4 = scatter(x=ω, y=imag(ε), name=\"Im(ε)\", mode=\"markers\")\n",
    "\n",
    "layout1 = Layout(xaxis=attr(title=\"[eV]\", range=extrema(ω_range)), yaxis=attr(title=\"ε\", range=[-20,0]))\n",
    "layout2 = Layout(xaxis=attr(title=\"[eV]\", range=extrema(ω_range)), yaxis=attr(title=\"ε\", range=[0,1]))\n",
    "\n",
    "[plot([trace1, trace3], layout1) plot([trace2, trace4], layout2)]\n"
   ]
  },
  {
   "cell_type": "code",
   "execution_count": null,
   "metadata": {},
   "outputs": [],
   "source": [
    "# All in one together\n",
    "\n",
    "\n",
    "using Unitful\n",
    "using PhysicalConstants.CODATA2018: ε_0, c_0, h\n",
    "\n",
    "using RefractiveIndexDatabase\n",
    "using Permittivity\n",
    "\n",
    "Au = get_material(\"main\", \"Au\", \"Babar\")\n",
    "\n",
    "λ = Au.λ * 1000  # u\"nm\"\n",
    "ε = @. (Au.n^2 - Au.k^2) + (2 * Au.n * Au.k) * im\n",
    "\n",
    "int = PermittivityTable(λ, ε)\n",
    "\n",
    "λ_range = 632.0:1.0:732.0   # u\"nm\"\n",
    "\n",
    "ε_int = int.(λ_range)\n",
    "\n",
    "trace1 = scatter(x=λ_range, y=real(ε_int), name=\"Re(ε(ω))\")\n",
    "trace2 = scatter(x=λ_range, y=imag(ε_int), name=\"Im(ε(ω))\")\n",
    "trace3 = scatter(x=λ, y=real(ε), name=\"Re(ε)\", mode=\"markers\")\n",
    "trace4 = scatter(x=λ, y=imag(ε), name=\"Im(ε)\", mode=\"markers\")\n",
    "\n",
    "layout1 = Layout(xaxis=attr(title=\"[nm]\", range=extrema(λ_range)), yaxis=attr(title=\"ε\", range=[-20,0]))\n",
    "layout2 = Layout(xaxis=attr(title=\"[nm]\", range=extrema(λ_range)), yaxis=attr(title=\"ε\", range=[0,1]))\n",
    "\n",
    "[plot([trace1, trace3], layout1) plot([trace2, trace4], layout2)]\n"
   ]
  },
  {
   "cell_type": "code",
   "execution_count": null,
   "metadata": {},
   "outputs": [],
   "source": []
  }
 ],
 "metadata": {
  "kernelspec": {
   "display_name": "Julia 1.7.1",
   "language": "julia",
   "name": "julia-1.7"
  },
  "language_info": {
   "file_extension": ".jl",
   "mimetype": "application/julia",
   "name": "julia",
   "version": "1.7.1"
  },
  "orig_nbformat": 4
 },
 "nbformat": 4,
 "nbformat_minor": 2
}
